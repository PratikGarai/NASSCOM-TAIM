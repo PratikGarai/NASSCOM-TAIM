{
 "cells": [
  {
   "cell_type": "markdown",
   "id": "891eef1c",
   "metadata": {},
   "source": [
    "# Pix2PixRNN"
   ]
  },
  {
   "cell_type": "code",
   "execution_count": 1,
   "id": "bd8fae49",
   "metadata": {
    "tags": []
   },
   "outputs": [],
   "source": [
    "import torch\n",
    "import torch.nn as nn\n",
    "import torch.nn.functional as F\n",
    "import torch.optim as optim\n",
    "from torch.optim import lr_scheduler\n",
    "from torch.utils.data import Dataset, DataLoader\n",
    "from torchsummary import summary\n",
    "\n",
    "import numpy as np\n",
    "import pandas as pd\n",
    "import random\n",
    "from glob import glob\n",
    "import os, shutil\n",
    "import gc\n",
    "from PIL import Image\n",
    "from typing import Dict, List, Tuple, Any, Optional\n",
    "from collections import namedtuple, defaultdict\n",
    "import copy\n",
    "\n",
    "import cv2\n",
    "import matplotlib.pyplot as plt\n",
    "\n",
    "from sklearn.model_selection import KFold, StratifiedKFold, StratifiedGroupKFold\n",
    "\n",
    "import segmentation_models_pytorch as smp\n",
    "import albumentations as A\n",
    "from albumentations.pytorch import ToTensorV2\n",
    "import wandb\n",
    "from tqdm import tqdm\n",
    "tqdm.pandas()\n",
    "\n",
    "from colorama import Fore, Back, Style\n",
    "c_  = Fore.GREEN\n",
    "sr_ = Style.RESET_ALL\n",
    "\n",
    "import warnings\n",
    "warnings.filterwarnings(\"ignore\")"
   ]
  },
  {
   "cell_type": "markdown",
   "id": "5f10acbb",
   "metadata": {},
   "source": [
    "# Config"
   ]
  },
  {
   "cell_type": "code",
   "execution_count": 2,
   "id": "517f181d",
   "metadata": {
    "tags": []
   },
   "outputs": [],
   "source": [
    "class config:\n",
    "    seed          = 42\n",
    "    exp_name      = 'nasscom-taim'\n",
    "    model_name    = 'pix2pix-rnn'\n",
    "    base_model    = 'None'\n",
    "    train_bs      = 32\n",
    "    valid_bs      = 2 * train_bs\n",
    "    image_size    = [224, 224]\n",
    "    in_channels   = 3\n",
    "    latent_size   = 128\n",
    "    hidden_size   = 512\n",
    "    num_layers    = 2\n",
    "    bidirectional = 0 # could be 0 or 1\n",
    "    comment       = f'model-{model_name}|latent_size-{latent_size}|info_channels-{in_channels}|hidden_dim-{hidden_size}|num_layers-{num_layers}|bidirectional-{bidirectional}|dim-{image_size[0]}x{image_size[1]}'\n",
    "    epochs        = 10\n",
    "    learning_rate = 3e-4\n",
    "    scheduler     = 'CosineAnnealingLR'\n",
    "    min_lr        = 1e-6\n",
    "    T_max         = int(30000/train_bs*epochs)+50\n",
    "    T_0           = 25\n",
    "    warmup_epochs = 0\n",
    "    wd            = 1e-6\n",
    "    n_accumulate  = max(1, 32//train_bs)\n",
    "    n_fold        = 5\n",
    "    num_classes   = 3\n",
    "    device        = torch.device(\"cuda:0\" if torch.cuda.is_available() else \"mps\" if torch.has_mps else \"cpu\")\n",
    "    train_num     = 1"
   ]
  },
  {
   "cell_type": "markdown",
   "id": "9c6b56cd",
   "metadata": {},
   "source": [
    "# Seeding"
   ]
  },
  {
   "cell_type": "code",
   "execution_count": 3,
   "id": "04625ed2",
   "metadata": {
    "tags": []
   },
   "outputs": [
    {
     "name": "stdout",
     "output_type": "stream",
     "text": [
      ">>> SEEDED <<<\n"
     ]
    }
   ],
   "source": [
    "def set_seed(seed: int = 42):\n",
    "    np.random.seed(seed)\n",
    "    random.seed(seed)\n",
    "    torch.manual_seed(seed)\n",
    "    os.environ['PYTHONHASHSEED'] = str(seed)\n",
    "    print('>>> SEEDED <<<')\n",
    "\n",
    "set_seed(config.seed)"
   ]
  },
  {
   "cell_type": "markdown",
   "id": "2a340a47",
   "metadata": {},
   "source": [
    "# Utils"
   ]
  },
  {
   "cell_type": "code",
   "execution_count": 4,
   "id": "ad053d15",
   "metadata": {
    "tags": []
   },
   "outputs": [],
   "source": [
    "class Conv2DLayer(nn.Module):\n",
    "    def __init__(\n",
    "        self,\n",
    "        in_channels: int, \n",
    "        out_channels: int, \n",
    "        kernel_size: int, \n",
    "        stride: int, \n",
    "        padding: int\n",
    "    ) -> None:\n",
    "        super(Conv2DLayer, self).__init__()\n",
    "        self.conv = nn.Conv2d(\n",
    "            in_channels=in_channels, \n",
    "            out_channels=out_channels, \n",
    "            kernel_size=kernel_size, \n",
    "            stride=stride, \n",
    "            padding=padding\n",
    "        )\n",
    "        self.bn = nn.BatchNorm2d(num_features=out_channels)\n",
    "    \n",
    "    def forward(self, x: torch.Tensor) -> torch.Tensor:\n",
    "        return F.relu(self.bn(self.conv(x)))"
   ]
  },
  {
   "cell_type": "code",
   "execution_count": 5,
   "id": "f8f3c224",
   "metadata": {
    "tags": []
   },
   "outputs": [],
   "source": [
    "class Conv2DTransposeLayer(nn.Module):\n",
    "    def __init__(\n",
    "        self,\n",
    "        in_channels: int, \n",
    "        out_channels: int, \n",
    "        kernel_size: int, \n",
    "        stride: int, \n",
    "        padding: int \n",
    "    ) -> None:\n",
    "        super(Conv2DTransposeLayer, self).__init__()\n",
    "        self.conv = nn.ConvTranspose2d(\n",
    "            in_channels=in_channels, \n",
    "            out_channels=out_channels, \n",
    "            kernel_size=kernel_size, \n",
    "            stride=stride, \n",
    "            padding=padding\n",
    "        )\n",
    "        self.bn = nn.BatchNorm2d(num_features=out_channels)\n",
    "    \n",
    "    def forward(self, x: torch.Tensor) -> torch.Tensor:\n",
    "        return F.relu(self.bn(self.conv(x)))"
   ]
  },
  {
   "cell_type": "markdown",
   "id": "3be72307",
   "metadata": {},
   "source": [
    "# Model\n",
    "\n",
    "## Encoder"
   ]
  },
  {
   "cell_type": "code",
   "execution_count": 6,
   "id": "f2990535",
   "metadata": {
    "tags": []
   },
   "outputs": [],
   "source": [
    "class EncoderLayer(nn.Module):\n",
    "    def __init__(\n",
    "            self, \n",
    "            in_channels: int,\n",
    "            latent_size: int, \n",
    "            *args, **kwargs) -> None:\n",
    "        super().__init__(*args, **kwargs)\n",
    "        \n",
    "        self.conv1 = Conv2DLayer(in_channels=in_channels, out_channels=32, kernel_size=8, stride=4, padding=1)\n",
    "        self.conv2 = Conv2DLayer(in_channels=32, out_channels=16, kernel_size=2, stride=4, padding=1)\n",
    "        self.conv3 = Conv2DLayer(in_channels=16, out_channels=1, kernel_size=2, stride=1, padding=1)\n",
    "        self.fc    = nn.Linear(in_features=225, out_features=latent_size)\n",
    "\n",
    "    def forward(self, x: torch.Tensor) -> torch.Tensor:\n",
    "        batch_size = x.size(0)\n",
    "        x = self.conv1(x)\n",
    "        x = self.conv2(x)\n",
    "        x = self.conv3(x)\n",
    "        x = x.view(batch_size, -1)\n",
    "        x = self.fc(x)\n",
    "        return x"
   ]
  },
  {
   "cell_type": "markdown",
   "id": "ce1d784c",
   "metadata": {},
   "source": [
    "## Decoder"
   ]
  },
  {
   "cell_type": "code",
   "execution_count": 7,
   "id": "defcd9a7",
   "metadata": {
    "tags": []
   },
   "outputs": [],
   "source": [
    "class DecoderLayer(nn.Module):\n",
    "    def __init__(\n",
    "        self, \n",
    "        latent_size: int,\n",
    "        out_channels: int,\n",
    "        *args, **kwargs\n",
    "    ) -> None:\n",
    "        super().__init__(*args, **kwargs)\n",
    "        \n",
    "        self.conv1 = Conv2DTransposeLayer(in_channels=latent_size, out_channels=128, kernel_size=6, \n",
    "                                          stride=3, padding=1)\n",
    "        self.conv2 = Conv2DTransposeLayer(in_channels=128, out_channels=64, kernel_size=4, stride=4, padding=1)\n",
    "        self.conv3 = Conv2DTransposeLayer(in_channels=64, out_channels=32, kernel_size=4, stride=2, padding=1)\n",
    "        self.conv4 = Conv2DTransposeLayer(in_channels=32, out_channels=16, kernel_size=4, stride=2, padding=1)\n",
    "        self.conv5 = Conv2DTransposeLayer(in_channels=16, out_channels=8, kernel_size=4, stride=2, padding=1)\n",
    "        self.conv6 = Conv2DTransposeLayer(in_channels=8, out_channels=3, kernel_size=4, stride=2, padding=1)\n",
    "#         self.conv7 = Conv2DTransposeLayer(in_channels=4, out_channels=3, kernel_size=4, stride=2, padding=1)\n",
    "    \n",
    "    def forward(self, x: torch.Tensor) -> torch.Tensor:\n",
    "        x = self.conv1(x)\n",
    "        x = self.conv2(x)\n",
    "        x = self.conv3(x)\n",
    "        x = self.conv4(x)\n",
    "        x = self.conv5(x)\n",
    "        x = self.conv6(x)\n",
    "        return x"
   ]
  },
  {
   "cell_type": "code",
   "execution_count": 8,
   "id": "eb6c3d81",
   "metadata": {
    "tags": []
   },
   "outputs": [
    {
     "data": {
      "text/plain": [
       "torch.Size([64, 3, 224, 224])"
      ]
     },
     "execution_count": 8,
     "metadata": {},
     "output_type": "execute_result"
    }
   ],
   "source": [
    "x = torch.rand((64, 512, 1, 1))\n",
    "model = DecoderLayer(latent_size=512, out_channels=3)\n",
    "y = model(x)\n",
    "y.shape"
   ]
  },
  {
   "cell_type": "markdown",
   "id": "307822c0",
   "metadata": {},
   "source": [
    "## pix2pixRNN"
   ]
  },
  {
   "cell_type": "code",
   "execution_count": 9,
   "id": "a4861f07",
   "metadata": {
    "tags": []
   },
   "outputs": [
    {
     "data": {
      "text/plain": [
       "torch.Size([64, 3, 224, 224])"
      ]
     },
     "execution_count": 9,
     "metadata": {},
     "output_type": "execute_result"
    }
   ],
   "source": [
    "class Pix2PixRNN(nn.Module):\n",
    "    def __init__(\n",
    "            self, \n",
    "            in_channels: int = 3, \n",
    "            latent_size: int = 128,\n",
    "            hidden_size: int = 512,\n",
    "            num_layers: int = 2,\n",
    "            bidirectional: Optional[int] = 1,\n",
    "            *args, **kwargs) -> None:\n",
    "        super().__init__(*args, **kwargs)\n",
    "\n",
    "        self.in_channels = in_channels\n",
    "        self.latent_size = latent_size\n",
    "        self.hidden_size = hidden_size\n",
    "        self.num_layers = num_layers\n",
    "        self.bidirectional = bidirectional\n",
    "\n",
    "        self.encoder = EncoderLayer(in_channels=in_channels, latent_size=latent_size)\n",
    "        self.lstm = nn.LSTM(\n",
    "            input_size=latent_size,\n",
    "            hidden_size=hidden_size, \n",
    "            num_layers=num_layers, \n",
    "            batch_first=True,\n",
    "            bidirectional=True if self.bidirectional == 2 else False\n",
    "        )\n",
    "        self.decoder = DecoderLayer(latent_size=self.hidden_size, out_channels=in_channels)\n",
    "\n",
    "    def _init_hidden_states(self, bs: int) -> Tuple[torch.Tensor]:\n",
    "        return torch.zeros(self.bidirectional*self.num_layers, bs, self.hidden_size), \\\n",
    "    torch.zeros(self.bidirectional*self.num_layers, bs, self.hidden_size)\n",
    "    \n",
    "    def forward(self, x: torch.Tensor) -> Tuple[torch.Tensor]:\n",
    "        emb = None\n",
    "        seq_len = x.size(2) # [B, C, D, H, W]\n",
    "        for ix in range(seq_len):\n",
    "            if emb is None:\n",
    "                emb = self.encoder(x[:, :, ix, :, :]).unsqueeze(0)\n",
    "            else:\n",
    "                emb = torch.cat([emb, self.encoder(x[:, :, ix, :, :]).unsqueeze(0)], dim=0)\n",
    "#         emb = self.encoder(x)\n",
    "        emb = emb.permute(1, 0, 2)\n",
    "        \n",
    "        h0, c0 = self._init_hidden_states(64)\n",
    "        out, (h, c) = self.lstm(emb, (h0, c0))\n",
    "        \n",
    "        decoder_inp = torch.cat([h, c])\n",
    "        decoder_inp = torch.mean(decoder_inp, axis=0).unsqueeze(-1).unsqueeze(-1)\n",
    "        out = self.decoder(decoder_inp)\n",
    "        return out\n",
    "\n",
    "\n",
    "x = torch.randn((64, 3, 8, 224, 224))\n",
    "model = Pix2PixRNN(in_channels=3, latent_size=128, bidirectional=2)\n",
    "decoder_inp = model.forward(x)\n",
    "decoder_inp.shape"
   ]
  },
  {
   "cell_type": "code",
   "execution_count": 10,
   "id": "363f8de9",
   "metadata": {
    "tags": []
   },
   "outputs": [
    {
     "data": {
      "text/plain": [
       "'pix2pixRNN.png'"
      ]
     },
     "execution_count": 10,
     "metadata": {},
     "output_type": "execute_result"
    }
   ],
   "source": [
    "from torchviz import make_dot\n",
    "\n",
    "x = torch.randn((64, 3, 8, 224, 224))\n",
    "yhat = model.forward(x)\n",
    "\n",
    "make_dot(yhat, params=dict(list(model.named_parameters()))).render(\"pix2pixRNN\", format=\"png\")"
   ]
  },
  {
   "cell_type": "markdown",
   "id": "3dc7643a",
   "metadata": {},
   "source": [
    "# Training Function"
   ]
  },
  {
   "cell_type": "code",
   "execution_count": 11,
   "id": "76800b50",
   "metadata": {},
   "outputs": [],
   "source": [
    "def train_one_epoch(\n",
    "    model: nn.Module, optimizer: optim, scheduler: lr_scheduler, \n",
    "    criterion: nn.Module, loader: DataLoader\n",
    ") -> float:\n",
    "    model.train()\n",
    "    running_loss = 0.0\n",
    "    dataset_size = 0\n",
    "    \n",
    "    pbar = tqdm(enumerate(loader), total=len(loader), desc='Train')\n",
    "    for step, (X, y) in pbar:\n",
    "        bs = X.shape[0]\n",
    "        yHat = model.forward(X)\n",
    "        \n",
    "        optimizer.zero_grad()\n",
    "        loss = criterion(yHat, y)\n",
    "        loss.backward()\n",
    "        optimizer.step()\n",
    "        if scheduler is not None:\n",
    "            scheduler.step()\n",
    "        \n",
    "        running_loss += (loss.item() * bs)\n",
    "        dataset_size += bs\n",
    "        \n",
    "        epoch_loss = running_loss / dataset_size\n",
    "        current_lr = optimizer.param_groups[0]['lr']\n",
    "    \n",
    "        pbar.set_postfix(loss=f'{epoch_loss:.3f}', lr=f'{current_lr:.5f}')\n",
    "    \n",
    "    return epoch_loss"
   ]
  },
  {
   "cell_type": "markdown",
   "id": "272f8f30",
   "metadata": {},
   "source": [
    "# Validation Function"
   ]
  },
  {
   "cell_type": "code",
   "execution_count": 12,
   "id": "eba5b38d",
   "metadata": {},
   "outputs": [],
   "source": [
    "@torch.no_grad()\n",
    "def validate_one_epoch(model: nn.Module, loader: DataLoader, criterion: nn.Module) -> float:\n",
    "    model.eval()\n",
    "    running_loss = 0.0\n",
    "    dataset_size = 0\n",
    "    \n",
    "    pbar = tqdm(enumerate(loader), total=len(loader), desc='Evaluation')\n",
    "    for step, (X, y) in pbar:\n",
    "        bs = X.shape[0]\n",
    "        yHat = model.forward(X)\n",
    "        \n",
    "        loss = criterion(yHat, y)\n",
    "        \n",
    "        running_loss += (bs * loss.item())\n",
    "        dataset_size += bs\n",
    "        epoch_loss = running_loss / dataset_size\n",
    "    \n",
    "    return epoch_loss"
   ]
  },
  {
   "cell_type": "markdown",
   "id": "58bc30b4",
   "metadata": {},
   "source": [
    "# Schedulers"
   ]
  },
  {
   "cell_type": "code",
   "execution_count": 13,
   "id": "a6ca7e34",
   "metadata": {},
   "outputs": [],
   "source": [
    "def get_optimizer(optimizer: optim):\n",
    "    if config.scheduler == 'CosineAnnealingLR':\n",
    "        scheduler = lr_scheduler.CosineAnnealingLR(\n",
    "            optimizer=optimizer, \n",
    "            T_max=config.T_max, \n",
    "            eta_min=config.min_lr\n",
    "        )\n",
    "    elif config.scheduler == 'CosineAnnealingWarmRestarts':\n",
    "        scheduler = lr_scheduler.CosineAnnealingWarmRestarts(\n",
    "            optimizer=optimizer, \n",
    "            T_0=config.T_0, \n",
    "            eta_min=config.eta_min\n",
    "        )\n",
    "    elif config.scheduler == 'ReduceLROnPlateau':\n",
    "        scheduler = lr_scheduler.ReduceLROnPlateau(\n",
    "            optimizer=optimizer, \n",
    "            mode='min',\n",
    "            factor=0.1, \n",
    "            patience=10, \n",
    "            threshold=0.0001, \n",
    "            min_lr=config.min_lr\n",
    "        )\n",
    "    elif config.scheduler == 'ExponentialLR':\n",
    "        scheduler = lr_scheduler.ExponentialLR(\n",
    "            optimizer=optimizer, \n",
    "            gamma=0.85\n",
    "        )\n",
    "    elif config.scheduler == None:\n",
    "        scheduler = None\n",
    "    else:\n",
    "        raise NotImplementedError(\"The Scheduler you have asked has not been implemented\")\n",
    "    return scheduler"
   ]
  },
  {
   "cell_type": "markdown",
   "id": "f3436e62",
   "metadata": {},
   "source": [
    "# Run Training"
   ]
  },
  {
   "cell_type": "code",
   "execution_count": 14,
   "id": "11f76084",
   "metadata": {},
   "outputs": [],
   "source": [
    "def run_training(trainloader, validloader):\n",
    "    wandb.init(\n",
    "        project='nasscom-taim',\n",
    "        config={k:v for k, v in vars(config).items() if '__' not in k},\n",
    "        name=f'iteration-{config.trial_num}',\n",
    "        group=config.comment\n",
    "    )\n",
    "    \n",
    "    model = Pix2PixRNN(\n",
    "        in_channels=config.in_channels, \n",
    "        latent_size=config.latent_size,\n",
    "        hidden_size=config.hidden_size, \n",
    "        num_layers=config.num_layers\n",
    "    ).to(config.device)\n",
    "    criterion = nn.MSELoss()\n",
    "    optimizer = optim.Adam(model.parameters(), lr=config.learning_rate)\n",
    "    scheduler = get_optimizer(optimizer=optimizer)\n",
    "    \n",
    "    history = {\n",
    "        'lr': [],\n",
    "        'train loss': [],\n",
    "        'valid loss': []\n",
    "    }\n",
    "    \n",
    "    best_model_wts = copy.deepcopy(model.state_dict())\n",
    "    best_epoch = -1\n",
    "    best_loss = np.infty\n",
    "    \n",
    "    wandb.watch(models=[model], log_freq=100)\n",
    "    \n",
    "    for epoch in range(config.epochs):\n",
    "        train_loss = train_one_epoch(model=model, optimizer=optimizer, criterion=criterion, \n",
    "                                     scheduler=scheduler, loader=trainloader)\n",
    "        valid_loss = validate_one_epoch(model=model, loader=validloader, criterion=criterion)\n",
    "        \n",
    "        wandb.log({\n",
    "            'lr': optimizer.param_groups[0]['lr'], \n",
    "            'train loss': train_loss, \n",
    "            'valid loss': valid_loss\n",
    "        })\n",
    "        \n",
    "        history['lr'].append(optimizer.param_groups[0]['lr'])\n",
    "        history['train loss'].append(train_loss)\n",
    "        history['valid loss'].append(valid_loss)\n",
    "        \n",
    "        print(f'Validation Loss: {valid_loss:.5f}')\n",
    "        \n",
    "        if valid_loss < best_loss:\n",
    "            print(f'{c_}Validation decreased from {best_loss:.5f} to {valid_loss:.5f}')\n",
    "            best_loss = valid_loss\n",
    "            best_epoch = epoch\n",
    "            best_model_wts = copy.deepcopy(model.state_dict())\n",
    "            \n",
    "            path = f'../../best-models/MODEL-{config.train_num}.bin'\n",
    "            torch.save(best_model_wts, path)\n",
    "            wandb.save(path)\n",
    "            \n",
    "            print(f\"Model Saved{sr_}\")\n",
    "        \n",
    "    model.load_state_dict(torch.load(f'../../best-models/MODEL-{config.trial_num}.bin'))\n",
    "    return model, history"
   ]
  }
 ],
 "metadata": {
  "kernelspec": {
   "display_name": "Python 3.9 (torch)",
   "language": "python",
   "name": "torch-env"
  },
  "language_info": {
   "codemirror_mode": {
    "name": "ipython",
    "version": 3
   },
   "file_extension": ".py",
   "mimetype": "text/x-python",
   "name": "python",
   "nbconvert_exporter": "python",
   "pygments_lexer": "ipython3",
   "version": "3.10.8"
  },
  "toc": {
   "base_numbering": 1,
   "nav_menu": {},
   "number_sections": true,
   "sideBar": true,
   "skip_h1_title": false,
   "title_cell": "Table of Contents",
   "title_sidebar": "Contents",
   "toc_cell": false,
   "toc_position": {},
   "toc_section_display": true,
   "toc_window_display": false
  }
 },
 "nbformat": 4,
 "nbformat_minor": 5
}
