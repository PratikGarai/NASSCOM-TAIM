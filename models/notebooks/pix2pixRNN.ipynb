{
 "cells": [
  {
   "cell_type": "code",
   "execution_count": 1,
   "id": "bd8fae49",
   "metadata": {},
   "outputs": [],
   "source": [
    "import torch\n",
    "import torch.nn as nn\n",
    "import torch.nn.functional as F\n",
    "import torch.optim as optim\n",
    "from torch.utils import data\n",
    "\n",
    "import wandb\n",
    "\n",
    "from typing import Optional, Tuple, List, Any, Dict"
   ]
  },
  {
   "cell_type": "code",
   "execution_count": 2,
   "id": "ad053d15",
   "metadata": {},
   "outputs": [],
   "source": [
    "class Conv2DLayer(nn.Module):\n",
    "    def __init__(\n",
    "        self,\n",
    "        in_channels: int, \n",
    "        out_channels: int, \n",
    "        kernel_size: int, \n",
    "        stride: int, \n",
    "        padding: int\n",
    "    ) -> None:\n",
    "        super(Conv2DLayer, self).__init__()\n",
    "        self.conv = nn.Conv2d(\n",
    "            in_channels=in_channels, \n",
    "            out_channels=out_channels, \n",
    "            kernel_size=kernel_size, \n",
    "            stride=stride, \n",
    "            padding=padding\n",
    "        )\n",
    "        self.bn = nn.BatchNorm2d(num_features=out_channels)\n",
    "    \n",
    "    def forward(self, x: torch.Tensor) -> torch.Tensor:\n",
    "        return F.relu(self.bn(self.conv(x)))"
   ]
  },
  {
   "cell_type": "code",
   "execution_count": 3,
   "id": "f8f3c224",
   "metadata": {},
   "outputs": [],
   "source": [
    "class Conv2DTransposeLayer(nn.Module):\n",
    "    def __init__(\n",
    "        self,\n",
    "        in_channels: int, \n",
    "        out_channels: int, \n",
    "        kernel_size: int, \n",
    "        stride: int, \n",
    "        padding: int \n",
    "    ) -> None:\n",
    "        super(Conv2DTransposeLayer, self).__init__()\n",
    "        self.conv = nn.ConvTranspose2d(\n",
    "            in_channels=in_channels, \n",
    "            out_channels=out_channels, \n",
    "            kernel_size=kernel_size, \n",
    "            stride=stride, \n",
    "            padding=padding\n",
    "        )\n",
    "        self.bn = nn.BatchNorm2d(num_features=out_channels)\n",
    "    \n",
    "    def forward(self, x: torch.Tensor) -> torch.Tensor:\n",
    "        return F.relu(self.bn(self.conv(x)))"
   ]
  },
  {
   "cell_type": "code",
   "execution_count": 4,
   "id": "f2990535",
   "metadata": {},
   "outputs": [],
   "source": [
    "class EncoderLayer(nn.Module):\n",
    "    def __init__(\n",
    "            self, \n",
    "            in_channels: int,\n",
    "            latent_size: int, \n",
    "            *args, **kwargs) -> None:\n",
    "        super().__init__(*args, **kwargs)\n",
    "        \n",
    "        self.conv1 = Conv2DLayer(in_channels=in_channels, out_channels=32, kernel_size=8, stride=4, padding=1)\n",
    "        self.conv2 = Conv2DLayer(in_channels=32, out_channels=16, kernel_size=2, stride=4, padding=1)\n",
    "        self.conv3 = Conv2DLayer(in_channels=16, out_channels=1, kernel_size=2, stride=1, padding=1)\n",
    "        self.fc    = nn.Linear(in_features=225, out_features=latent_size)\n",
    "\n",
    "    def forward(self, x: torch.Tensor) -> torch.Tensor:\n",
    "        batch_size = x.size(0)\n",
    "        x = self.conv1(x)\n",
    "        x = self.conv2(x)\n",
    "        x = self.conv3(x)\n",
    "        x = x.view(batch_size, -1)\n",
    "        x = self.fc(x)\n",
    "        return x"
   ]
  },
  {
   "cell_type": "code",
   "execution_count": 5,
   "id": "3a0bcb32",
   "metadata": {},
   "outputs": [],
   "source": [
    "class DecoderLayer(nn.Module):\n",
    "    def __init__(\n",
    "        self, \n",
    "        latent_size: int,\n",
    "        out_channels: int,\n",
    "        *args, **kwargs\n",
    "    ) -> None:\n",
    "        super().__init__(*args, **kwargs)\n",
    "        \n",
    "        self.conv1 = Conv2DTransposeLayer(in_channels=latent_size, out_channels=128, kernel_size=6, \n",
    "                                          stride=3, padding=1)\n",
    "        self.conv2 = Conv2DTransposeLayer(in_channels=128, out_channels=64, kernel_size=4, stride=4, padding=1)\n",
    "        self.conv3 = Conv2DTransposeLayer(in_channels=64, out_channels=32, kernel_size=4, stride=2, padding=1)\n",
    "        self.conv4 = Conv2DTransposeLayer(in_channels=32, out_channels=16, kernel_size=4, stride=2, padding=1)\n",
    "        self.conv5 = Conv2DTransposeLayer(in_channels=16, out_channels=8, kernel_size=4, stride=2, padding=1)\n",
    "        self.conv6 = Conv2DTransposeLayer(in_channels=8, out_channels=3, kernel_size=4, stride=2, padding=1)\n",
    "#         self.conv7 = Conv2DTransposeLayer(in_channels=4, out_channels=3, kernel_size=4, stride=2, padding=1)\n",
    "    \n",
    "    def forward(self, x: torch.Tensor) -> torch.Tensor:\n",
    "        x = self.conv1(x)\n",
    "        x = self.conv2(x)\n",
    "        x = self.conv3(x)\n",
    "        x = self.conv4(x)\n",
    "        x = self.conv5(x)\n",
    "        x = self.conv6(x)\n",
    "        return x"
   ]
  },
  {
   "cell_type": "code",
   "execution_count": 6,
   "id": "4d4635eb",
   "metadata": {},
   "outputs": [
    {
     "data": {
      "text/plain": [
       "torch.Size([64, 3, 224, 224])"
      ]
     },
     "execution_count": 6,
     "metadata": {},
     "output_type": "execute_result"
    }
   ],
   "source": [
    "x = torch.rand((64, 512, 1, 1))\n",
    "model = DecoderLayer(latent_size=512, out_channels=3)\n",
    "y = model(x)\n",
    "y.shape"
   ]
  },
  {
   "cell_type": "code",
   "execution_count": 7,
   "id": "a4861f07",
   "metadata": {},
   "outputs": [
    {
     "data": {
      "text/plain": [
       "torch.Size([64, 3, 224, 224])"
      ]
     },
     "execution_count": 7,
     "metadata": {},
     "output_type": "execute_result"
    }
   ],
   "source": [
    "class Pix2PixRNN(nn.Module):\n",
    "    def __init__(\n",
    "            self, \n",
    "            in_channels: int = 3, \n",
    "            latent_size: int = 128,\n",
    "            hidden_size: int = 512,\n",
    "            num_layers: int = 2,\n",
    "            bidirectional: Optional[int] = 1,\n",
    "            *args, **kwargs) -> None:\n",
    "        super().__init__(*args, **kwargs)\n",
    "\n",
    "        self.in_channels = in_channels\n",
    "        self.latent_size = latent_size\n",
    "        self.hidden_size = hidden_size\n",
    "        self.num_layers = num_layers\n",
    "        self.bidirectional = bidirectional\n",
    "\n",
    "        self.encoder = EncoderLayer(in_channels=in_channels, latent_size=latent_size)\n",
    "        self.lstm = nn.LSTM(\n",
    "            input_size=latent_size,\n",
    "            hidden_size=hidden_size, \n",
    "            num_layers=num_layers, \n",
    "            batch_first=True,\n",
    "            bidirectional=True if self.bidirectional == 2 else False\n",
    "        )\n",
    "        self.decoder = DecoderLayer(latent_size=self.hidden_size, out_channels=in_channels)\n",
    "\n",
    "    def _init_hidden_states(self, bs: int) -> Tuple[torch.Tensor]:\n",
    "        return torch.zeros(self.bidirectional*self.num_layers, bs, self.hidden_size), \\\n",
    "    torch.zeros(self.bidirectional*self.num_layers, bs, self.hidden_size)\n",
    "    \n",
    "    def forward(self, x: torch.Tensor) -> Tuple[torch.Tensor]:\n",
    "        emb = None\n",
    "        seq_len = x.size(2) # [B, C, D, H, W]\n",
    "        for ix in range(seq_len):\n",
    "            if emb is None:\n",
    "                emb = self.encoder(x[:, :, ix, :, :]).unsqueeze(0)\n",
    "            else:\n",
    "                emb = torch.cat([emb, self.encoder(x[:, :, ix, :, :]).unsqueeze(0)], dim=0)\n",
    "        emb = emb.permute(1, 0, 2)\n",
    "        \n",
    "        h0, c0 = self._init_hidden_states(64)\n",
    "        out, (h, c) = self.lstm(emb, (h0, c0))\n",
    "        \n",
    "        decoder_inp = torch.cat([h, c])\n",
    "        decoder_inp = torch.mean(decoder_inp, axis=0).unsqueeze(-1).unsqueeze(-1)\n",
    "        out = self.decoder(decoder_inp)\n",
    "        return out\n",
    "\n",
    "\n",
    "x = torch.randn((64, 3, 8, 224, 224))\n",
    "model = Pix2PixRNN(in_channels=3, latent_size=128, bidirectional=2)\n",
    "decoder_inp = model.forward(x)\n",
    "decoder_inp.shape"
   ]
  }
 ],
 "metadata": {
  "kernelspec": {
   "display_name": "Python 3.9 (torch)",
   "language": "python",
   "name": "torch-env"
  },
  "language_info": {
   "codemirror_mode": {
    "name": "ipython",
    "version": 3
   },
   "file_extension": ".py",
   "mimetype": "text/x-python",
   "name": "python",
   "nbconvert_exporter": "python",
   "pygments_lexer": "ipython3",
   "version": "3.10.8"
  },
  "toc": {
   "base_numbering": 1,
   "nav_menu": {},
   "number_sections": true,
   "sideBar": true,
   "skip_h1_title": false,
   "title_cell": "Table of Contents",
   "title_sidebar": "Contents",
   "toc_cell": false,
   "toc_position": {},
   "toc_section_display": true,
   "toc_window_display": false
  }
 },
 "nbformat": 4,
 "nbformat_minor": 5
}
