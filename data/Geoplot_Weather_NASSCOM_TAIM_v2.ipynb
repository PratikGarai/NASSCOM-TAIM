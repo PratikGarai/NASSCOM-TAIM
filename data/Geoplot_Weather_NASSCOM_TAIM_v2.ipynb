{
 "cells": [
  {
   "cell_type": "markdown",
   "metadata": {
    "id": "fHE6T_x3awFC"
   },
   "source": [
    "# Installs"
   ]
  },
  {
   "cell_type": "code",
   "execution_count": 1,
   "metadata": {
    "colab": {
     "base_uri": "https://localhost:8080/"
    },
    "id": "3WIZODK9PlQW",
    "outputId": "bfffe342-56f9-4b25-9291-c932326d94de"
   },
   "outputs": [],
   "source": [
    "!pip install --quiet geopandas"
   ]
  },
  {
   "cell_type": "code",
   "execution_count": 2,
   "metadata": {
    "id": "U8412LXKYn0k"
   },
   "outputs": [],
   "source": [
    "!wget https://github.com/9r4vEy4r6/taim-host/releases/download/weather_data/2018.zip --quiet\n",
    "!wget https://github.com/9r4vEy4r6/taim-host/releases/download/weather_data/2019.zip --quiet\n",
    "!wget https://github.com/9r4vEy4r6/taim-host/releases/download/weather_data/2020.zip --quiet\n",
    "!wget https://github.com/9r4vEy4r6/taim-host/releases/download/weather_data/2021.zip --quiet\n",
    "!wget https://github.com/9r4vEy4r6/taim-host/releases/download/weather_data/2022.zip --quiet\n",
    "!wget https://github.com/9r4vEy4r6/host/raw/main/telangana_ac.geojson --quiet\n",
    "!unzip -q 2018.zip -d 2018/\n",
    "!unzip -q 2019.zip -d 2019/\n",
    "!unzip -q 2020.zip -d 2020/\n",
    "!unzip -q 2021.zip -d 2021/\n",
    "!unzip -q 2022.zip -d 2022/"
   ]
  },
  {
   "cell_type": "markdown",
   "metadata": {
    "id": "fgwUAYb7au3T"
   },
   "source": [
    "# Imports"
   ]
  },
  {
   "cell_type": "code",
   "execution_count": 1,
   "metadata": {
    "id": "5pfHU8UTPMRS"
   },
   "outputs": [],
   "source": [
    "import geopandas as gpd\n",
    "import matplotlib.pyplot as plt\n",
    "from matplotlib.colors import LinearSegmentedColormap\n",
    "from matplotlib.patches import Path, PathPatch\n",
    "import pandas as pd\n",
    "import numpy as np\n",
    "import random\n",
    "from tqdm import tqdm\n",
    "from shapely.geometry import Point\n",
    "import os\n",
    "import json\n",
    "import subprocess\n",
    "import gc"
   ]
  },
  {
   "cell_type": "markdown",
   "metadata": {
    "id": "yYK7xSUtayBy"
   },
   "source": [
    "# Load Data"
   ]
  },
  {
   "cell_type": "code",
   "execution_count": 2,
   "metadata": {
    "colab": {
     "base_uri": "https://localhost:8080/"
    },
    "id": "p2A5bGxwadDU",
    "outputId": "99049c41-a996-45b8-aa1a-0bacc0b43eee"
   },
   "outputs": [
    {
     "data": {
      "text/plain": [
       "<Geographic 2D CRS: EPSG:4326>\n",
       "Name: WGS 84\n",
       "Axis Info [ellipsoidal]:\n",
       "- Lat[north]: Geodetic latitude (degree)\n",
       "- Lon[east]: Geodetic longitude (degree)\n",
       "Area of Use:\n",
       "- name: World.\n",
       "- bounds: (-180.0, -90.0, 180.0, 90.0)\n",
       "Datum: World Geodetic System 1984 ensemble\n",
       "- Ellipsoid: WGS 84\n",
       "- Prime Meridian: Greenwich"
      ]
     },
     "execution_count": 2,
     "metadata": {},
     "output_type": "execute_result"
    }
   ],
   "source": [
    "data = gpd.read_file(\"telangana_ac.geojson\")\n",
    "data.to_crs(crs=3857) \n",
    "data.crs"
   ]
  },
  {
   "cell_type": "code",
   "execution_count": 3,
   "metadata": {
    "id": "xX43dX6jahvc"
   },
   "outputs": [],
   "source": [
    "# YEARS = [\"2018\",\"2019\",\"2020\",\"2021\",\"2022\"]\n",
    "YEARS = [\"2019\",\"2020\",\"2021\",\"2022\"]\n",
    "FEATURES = ['Rain', 'Min_Temp', 'Max_Temp', \n",
    "            'Min_Humidity', 'Max_Humidity', \n",
    "            'Min_Wind_Speed', 'Max_Wind_Speed']\n",
    "# FEATURES = ['Min_Temp', 'Max_Temp']\n",
    "\n",
    "GLOBAL_SCALE = {}\n",
    "for feature in FEATURES :\n",
    "  GLOBAL_SCALE[feature] = {\n",
    "      \"min\" : float(\"inf\"),\n",
    "      \"max\" : 0\n",
    "  }\n",
    "\n",
    "for folder in YEARS :\n",
    "  csvs = os.listdir(folder)\n",
    "  for csv in csvs :\n",
    "    weather = pd.read_csv(f\"{folder}/{csv}\")\n",
    "    weather = weather[[\"Date\", *FEATURES, \"latitude\", \"longitude\"]]\n",
    "    \n",
    "    for feature in FEATURES : \n",
    "      try :\n",
    "        min = float(weather[feature].min())\n",
    "        max = float(weather[feature].max())\n",
    "        if min < GLOBAL_SCALE[feature][\"min\"] : \n",
    "          GLOBAL_SCALE[feature][\"min\"] = min\n",
    "        if max > GLOBAL_SCALE[feature][\"max\"] : \n",
    "          GLOBAL_SCALE[feature][\"max\"] = max\n",
    "      except :\n",
    "        pass"
   ]
  },
  {
   "cell_type": "code",
   "execution_count": 4,
   "metadata": {
    "colab": {
     "base_uri": "https://localhost:8080/"
    },
    "id": "Ut9zHH1Tzu7a",
    "outputId": "d8031803-af40-41d7-9e30-e0c792eaaccc"
   },
   "outputs": [
    {
     "data": {
      "text/plain": [
       "{'Rain': {'min': 0.0, 'max': 391.0},\n",
       " 'Min_Temp': {'min': 2.9, 'max': 37.2},\n",
       " 'Max_Temp': {'min': -1.0, 'max': 47.9},\n",
       " 'Min_Humidity': {'min': -1.0, 'max': 100.0},\n",
       " 'Max_Humidity': {'min': -1.0, 'max': 100.0},\n",
       " 'Min_Wind_Speed': {'min': -1.0, 'max': 31.3},\n",
       " 'Max_Wind_Speed': {'min': -1.0, 'max': 234.4}}"
      ]
     },
     "execution_count": 4,
     "metadata": {},
     "output_type": "execute_result"
    }
   ],
   "source": [
    "GLOBAL_SCALE"
   ]
  },
  {
   "cell_type": "code",
   "execution_count": 5,
   "metadata": {
    "colab": {
     "base_uri": "https://localhost:8080/"
    },
    "id": "tFmbD1Gw9Yxs",
    "outputId": "460fc65f-edce-4d1b-bb1a-68c44e8a2352"
   },
   "outputs": [
    {
     "name": "stdout",
     "output_type": "stream",
     "text": [
      "mkdir: images: File exists\r\n"
     ]
    }
   ],
   "source": [
    "!mkdir images"
   ]
  },
  {
   "cell_type": "code",
   "execution_count": 6,
   "metadata": {
    "id": "b7G5AIUL0Iin"
   },
   "outputs": [],
   "source": [
    "with open(\"images/scales.json\", \"w\") as f :\n",
    "  json.dump(GLOBAL_SCALE, f, indent=4)"
   ]
  },
  {
   "cell_type": "code",
   "execution_count": 7,
   "metadata": {
    "id": "7ZpwfG8Y4Kdw"
   },
   "outputs": [
    {
     "name": "stderr",
     "output_type": "stream",
     "text": [
      "mkdir: images/Rain: File exists\n",
      "mkdir: images/Min_Temp: File exists\n",
      "mkdir: images/Max_Temp: File exists\n",
      "mkdir: images/Min_Humidity: File exists\n",
      "mkdir: images/Max_Humidity: File exists\n",
      "mkdir: images/Min_Wind_Speed: File exists\n",
      "mkdir: images/Max_Wind_Speed: File exists\n"
     ]
    }
   ],
   "source": [
    "for feature in FEATURES : \n",
    "  subprocess.run([\"mkdir\", f\"images/{feature}\"])"
   ]
  },
  {
   "cell_type": "code",
   "execution_count": 8,
   "metadata": {
    "colab": {
     "base_uri": "https://localhost:8080/"
    },
    "id": "E5P-TyB4oVZG",
    "outputId": "d66025a9-32f5-455d-9e58-d590d4c72e0a",
    "scrolled": false
   },
   "outputs": [
    {
     "name": "stdout",
     "output_type": "stream",
     "text": [
      "2019 July_to_Sept_2019.csv Rain\n"
     ]
    },
    {
     "name": "stderr",
     "output_type": "stream",
     "text": [
      "100%|███████████████████████████████████████████████████████████████████████████████████████████████████████████████████████████████████████████████████████████████████████████| 91/91 [02:14<00:00,  1.48s/it]\n"
     ]
    },
    {
     "name": "stdout",
     "output_type": "stream",
     "text": [
      "2019 July_to_Sept_2019.csv Min_Temp\n"
     ]
    },
    {
     "name": "stderr",
     "output_type": "stream",
     "text": [
      "100%|███████████████████████████████████████████████████████████████████████████████████████████████████████████████████████████████████████████████████████████████████████████| 91/91 [02:14<00:00,  1.48s/it]\n"
     ]
    },
    {
     "name": "stdout",
     "output_type": "stream",
     "text": [
      "2019 July_to_Sept_2019.csv Max_Temp\n"
     ]
    },
    {
     "name": "stderr",
     "output_type": "stream",
     "text": [
      "100%|███████████████████████████████████████████████████████████████████████████████████████████████████████████████████████████████████████████████████████████████████████████| 91/91 [02:17<00:00,  1.51s/it]\n"
     ]
    },
    {
     "name": "stdout",
     "output_type": "stream",
     "text": [
      "2019 July_to_Sept_2019.csv Min_Humidity\n"
     ]
    },
    {
     "name": "stderr",
     "output_type": "stream",
     "text": [
      "100%|███████████████████████████████████████████████████████████████████████████████████████████████████████████████████████████████████████████████████████████████████████████| 91/91 [02:25<00:00,  1.60s/it]\n"
     ]
    },
    {
     "name": "stdout",
     "output_type": "stream",
     "text": [
      "2019 July_to_Sept_2019.csv Max_Humidity\n"
     ]
    },
    {
     "name": "stderr",
     "output_type": "stream",
     "text": [
      "100%|███████████████████████████████████████████████████████████████████████████████████████████████████████████████████████████████████████████████████████████████████████████| 91/91 [02:28<00:00,  1.63s/it]\n"
     ]
    },
    {
     "name": "stdout",
     "output_type": "stream",
     "text": [
      "2019 July_to_Sept_2019.csv Min_Wind_Speed\n"
     ]
    },
    {
     "name": "stderr",
     "output_type": "stream",
     "text": [
      "100%|███████████████████████████████████████████████████████████████████████████████████████████████████████████████████████████████████████████████████████████████████████████| 91/91 [02:32<00:00,  1.68s/it]\n"
     ]
    },
    {
     "name": "stdout",
     "output_type": "stream",
     "text": [
      "2019 July_to_Sept_2019.csv Max_Wind_Speed\n"
     ]
    },
    {
     "name": "stderr",
     "output_type": "stream",
     "text": [
      "100%|███████████████████████████████████████████████████████████████████████████████████████████████████████████████████████████████████████████████████████████████████████████| 91/91 [02:36<00:00,  1.72s/it]\n"
     ]
    },
    {
     "name": "stdout",
     "output_type": "stream",
     "text": [
      "2020 july_to_sept.csv Rain\n"
     ]
    },
    {
     "name": "stderr",
     "output_type": "stream",
     "text": [
      "100%|███████████████████████████████████████████████████████████████████████████████████████████████████████████████████████████████████████████████████████████████████████████| 92/92 [02:46<00:00,  1.81s/it]\n"
     ]
    },
    {
     "name": "stdout",
     "output_type": "stream",
     "text": [
      "2020 july_to_sept.csv Min_Temp\n"
     ]
    },
    {
     "name": "stderr",
     "output_type": "stream",
     "text": [
      "100%|███████████████████████████████████████████████████████████████████████████████████████████████████████████████████████████████████████████████████████████████████████████| 92/92 [04:11<00:00,  2.73s/it]\n"
     ]
    },
    {
     "name": "stdout",
     "output_type": "stream",
     "text": [
      "2020 july_to_sept.csv Max_Temp\n"
     ]
    },
    {
     "name": "stderr",
     "output_type": "stream",
     "text": [
      "100%|███████████████████████████████████████████████████████████████████████████████████████████████████████████████████████████████████████████████████████████████████████████| 92/92 [02:53<00:00,  1.89s/it]\n"
     ]
    },
    {
     "name": "stdout",
     "output_type": "stream",
     "text": [
      "2020 july_to_sept.csv Min_Humidity\n"
     ]
    },
    {
     "name": "stderr",
     "output_type": "stream",
     "text": [
      "100%|███████████████████████████████████████████████████████████████████████████████████████████████████████████████████████████████████████████████████████████████████████████| 92/92 [03:00<00:00,  1.96s/it]\n"
     ]
    },
    {
     "name": "stdout",
     "output_type": "stream",
     "text": [
      "2020 july_to_sept.csv Max_Humidity\n"
     ]
    },
    {
     "name": "stderr",
     "output_type": "stream",
     "text": [
      "100%|███████████████████████████████████████████████████████████████████████████████████████████████████████████████████████████████████████████████████████████████████████████| 92/92 [03:16<00:00,  2.13s/it]\n"
     ]
    },
    {
     "name": "stdout",
     "output_type": "stream",
     "text": [
      "2020 july_to_sept.csv Min_Wind_Speed\n"
     ]
    },
    {
     "name": "stderr",
     "output_type": "stream",
     "text": [
      "100%|███████████████████████████████████████████████████████████████████████████████████████████████████████████████████████████████████████████████████████████████████████████| 92/92 [03:15<00:00,  2.12s/it]\n"
     ]
    },
    {
     "name": "stdout",
     "output_type": "stream",
     "text": [
      "2020 july_to_sept.csv Max_Wind_Speed\n"
     ]
    },
    {
     "name": "stderr",
     "output_type": "stream",
     "text": [
      "100%|███████████████████████████████████████████████████████████████████████████████████████████████████████████████████████████████████████████████████████████████████████████| 92/92 [03:14<00:00,  2.12s/it]\n"
     ]
    },
    {
     "name": "stdout",
     "output_type": "stream",
     "text": [
      "2021 TS Weather data June 2021.csv Rain\n"
     ]
    },
    {
     "name": "stderr",
     "output_type": "stream",
     "text": [
      "100%|███████████████████████████████████████████████████████████████████████████████████████████████████████████████████████████████████████████████████████████████████████████| 30/30 [01:04<00:00,  2.15s/it]\n"
     ]
    },
    {
     "name": "stdout",
     "output_type": "stream",
     "text": [
      "2021 TS Weather data June 2021.csv Min_Temp\n"
     ]
    },
    {
     "name": "stderr",
     "output_type": "stream",
     "text": [
      "100%|███████████████████████████████████████████████████████████████████████████████████████████████████████████████████████████████████████████████████████████████████████████| 30/30 [01:04<00:00,  2.16s/it]\n"
     ]
    },
    {
     "name": "stdout",
     "output_type": "stream",
     "text": [
      "2021 TS Weather data June 2021.csv Max_Temp\n"
     ]
    },
    {
     "name": "stderr",
     "output_type": "stream",
     "text": [
      "100%|███████████████████████████████████████████████████████████████████████████████████████████████████████████████████████████████████████████████████████████████████████████| 30/30 [01:06<00:00,  2.22s/it]\n"
     ]
    },
    {
     "name": "stdout",
     "output_type": "stream",
     "text": [
      "2021 TS Weather data June 2021.csv Min_Humidity\n"
     ]
    },
    {
     "name": "stderr",
     "output_type": "stream",
     "text": [
      "100%|███████████████████████████████████████████████████████████████████████████████████████████████████████████████████████████████████████████████████████████████████████████| 30/30 [01:07<00:00,  2.26s/it]\n"
     ]
    },
    {
     "name": "stdout",
     "output_type": "stream",
     "text": [
      "2021 TS Weather data June 2021.csv Max_Humidity\n"
     ]
    },
    {
     "name": "stderr",
     "output_type": "stream",
     "text": [
      "100%|███████████████████████████████████████████████████████████████████████████████████████████████████████████████████████████████████████████████████████████████████████████| 30/30 [01:15<00:00,  2.51s/it]\n"
     ]
    },
    {
     "name": "stdout",
     "output_type": "stream",
     "text": [
      "2021 TS Weather data June 2021.csv Min_Wind_Speed\n"
     ]
    },
    {
     "name": "stderr",
     "output_type": "stream",
     "text": [
      "100%|███████████████████████████████████████████████████████████████████████████████████████████████████████████████████████████████████████████████████████████████████████████| 30/30 [01:06<00:00,  2.21s/it]\n"
     ]
    },
    {
     "name": "stdout",
     "output_type": "stream",
     "text": [
      "2021 TS Weather data June 2021.csv Max_Wind_Speed\n"
     ]
    },
    {
     "name": "stderr",
     "output_type": "stream",
     "text": [
      "100%|███████████████████████████████████████████████████████████████████████████████████████████████████████████████████████████████████████████████████████████████████████████| 30/30 [01:06<00:00,  2.23s/it]\n"
     ]
    },
    {
     "name": "stdout",
     "output_type": "stream",
     "text": [
      "2022 TS Weather data June 2022_0.csv Rain\n"
     ]
    },
    {
     "name": "stderr",
     "output_type": "stream",
     "text": [
      "100%|███████████████████████████████████████████████████████████████████████████████████████████████████████████████████████████████████████████████████████████████████████████| 30/30 [01:07<00:00,  2.24s/it]\n"
     ]
    },
    {
     "name": "stdout",
     "output_type": "stream",
     "text": [
      "2022 TS Weather data June 2022_0.csv Min_Temp\n"
     ]
    },
    {
     "name": "stderr",
     "output_type": "stream",
     "text": [
      "100%|███████████████████████████████████████████████████████████████████████████████████████████████████████████████████████████████████████████████████████████████████████████| 30/30 [01:26<00:00,  2.90s/it]\n"
     ]
    },
    {
     "name": "stdout",
     "output_type": "stream",
     "text": [
      "2022 TS Weather data June 2022_0.csv Max_Temp\n"
     ]
    },
    {
     "name": "stderr",
     "output_type": "stream",
     "text": [
      "100%|███████████████████████████████████████████████████████████████████████████████████████████████████████████████████████████████████████████████████████████████████████████| 30/30 [01:32<00:00,  3.09s/it]\n"
     ]
    },
    {
     "name": "stdout",
     "output_type": "stream",
     "text": [
      "2022 TS Weather data June 2022_0.csv Min_Humidity\n"
     ]
    },
    {
     "name": "stderr",
     "output_type": "stream",
     "text": [
      "100%|███████████████████████████████████████████████████████████████████████████████████████████████████████████████████████████████████████████████████████████████████████████| 30/30 [01:11<00:00,  2.39s/it]\n"
     ]
    },
    {
     "name": "stdout",
     "output_type": "stream",
     "text": [
      "2022 TS Weather data June 2022_0.csv Max_Humidity\n"
     ]
    },
    {
     "name": "stderr",
     "output_type": "stream",
     "text": [
      "100%|███████████████████████████████████████████████████████████████████████████████████████████████████████████████████████████████████████████████████████████████████████████| 30/30 [01:34<00:00,  3.13s/it]\n"
     ]
    },
    {
     "name": "stdout",
     "output_type": "stream",
     "text": [
      "2022 TS Weather data June 2022_0.csv Min_Wind_Speed\n"
     ]
    },
    {
     "name": "stderr",
     "output_type": "stream",
     "text": [
      "100%|███████████████████████████████████████████████████████████████████████████████████████████████████████████████████████████████████████████████████████████████████████████| 30/30 [01:50<00:00,  3.69s/it]\n"
     ]
    },
    {
     "name": "stdout",
     "output_type": "stream",
     "text": [
      "2022 TS Weather data June 2022_0.csv Max_Wind_Speed\n"
     ]
    },
    {
     "name": "stderr",
     "output_type": "stream",
     "text": [
      "100%|███████████████████████████████████████████████████████████████████████████████████████████████████████████████████████████████████████████████████████████████████████████| 30/30 [01:22<00:00,  2.76s/it]\n"
     ]
    }
   ],
   "source": [
    "def func(data_map, row) :\n",
    "  observations = []\n",
    "  for i in data_map : \n",
    "    if row[\"geometry\"].contains(i) :\n",
    "      observations.append(data_map[i])\n",
    "  if len(observations) == 0 : \n",
    "    return float('nan')\n",
    "  else :\n",
    "    return sum(observations)/len(observations)\n",
    "\n",
    "for folder in YEARS :\n",
    "  csvs = os.listdir(folder)\n",
    "  for csv in csvs : \n",
    "    for feature in FEATURES : \n",
    "      print(folder, csv, feature)\n",
    "      weather = pd.read_csv(f\"{folder}/{csv}\")\n",
    "      for date in tqdm(weather[\"Date\"].unique()) :  \n",
    "        day_datas = weather[weather[\"Date\"]==date].drop([\"Date\"], axis=1)[[feature, \"latitude\", \"longitude\"]].copy()\n",
    "        data_map = {}\n",
    "        for day_data in day_datas.to_dict(\"records\") : \n",
    "          if day_data[feature] != day_data[feature] or day_data[\"latitude\"] != day_data[\"latitude\"] or day_data[\"longitude\"] != day_data[\"longitude\"] :\n",
    "              continue\n",
    "          data_map[Point(day_data[\"longitude\"], day_data[\"latitude\"])] = day_data[feature]\n",
    "        d = data.copy()\n",
    "        fig, ax = plt.subplots(figsize=(10,10))\n",
    "        d.boundary.plot(ax=ax, color='black', alpha = 0.8, linewidth=1, edgecolor='black')\n",
    "        d[\"new_gen\"] = d.apply(lambda x : func(data_map, x), axis=1)\n",
    "        d[d[\"new_gen\"].isna() == False]\n",
    "        plot = d.plot(column=\"new_gen\", vmin=GLOBAL_SCALE[feature][\"min\"], vmax=GLOBAL_SCALE[feature][\"max\"], ax=ax)\n",
    "        plt.tick_params(left = False, right = False , labelleft = False , labelbottom = False, bottom = False)\n",
    "        plot.figure.savefig(f\"images/{feature}/{date}.png\")\n",
    "        plt.close()\n",
    "        del d\n",
    "        del day_datas\n",
    "        del data_map\n",
    "        gc.collect()\n",
    "      del weather\n",
    "      gc.collect()\n",
    "    break"
   ]
  },
  {
   "cell_type": "code",
   "execution_count": 9,
   "metadata": {
    "id": "tG1Mzro8Oioz"
   },
   "outputs": [],
   "source": [
    "!zip -r weather-images.zip images/* --quiet"
   ]
  },
  {
   "cell_type": "code",
   "execution_count": null,
   "metadata": {
    "id": "a0m80TwGPRNH"
   },
   "outputs": [],
   "source": [
    "from google.colab import drive\n",
    "drive.mount('/gdrive')\n",
    "!cp weather-images.zip /gdrive/MyDrive/taim_datasets/"
   ]
  }
 ],
 "metadata": {
  "colab": {
   "provenance": []
  },
  "kernelspec": {
   "display_name": "Python 3.9 (torch)",
   "language": "python",
   "name": "torch-env"
  },
  "language_info": {
   "codemirror_mode": {
    "name": "ipython",
    "version": 3
   },
   "file_extension": ".py",
   "mimetype": "text/x-python",
   "name": "python",
   "nbconvert_exporter": "python",
   "pygments_lexer": "ipython3",
   "version": "3.10.8"
  },
  "toc": {
   "base_numbering": 1,
   "nav_menu": {},
   "number_sections": true,
   "sideBar": true,
   "skip_h1_title": false,
   "title_cell": "Table of Contents",
   "title_sidebar": "Contents",
   "toc_cell": false,
   "toc_position": {},
   "toc_section_display": true,
   "toc_window_display": false
  }
 },
 "nbformat": 4,
 "nbformat_minor": 1
}
