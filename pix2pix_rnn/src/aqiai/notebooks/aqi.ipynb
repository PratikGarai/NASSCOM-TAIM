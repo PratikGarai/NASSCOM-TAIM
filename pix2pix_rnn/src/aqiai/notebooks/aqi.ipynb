{
 "cells": [
  {
   "cell_type": "markdown",
   "id": "2b2187d0-2999-4952-a7f7-c41b04d4d824",
   "metadata": {},
   "source": [
    "# AQI"
   ]
  },
  {
   "cell_type": "code",
   "execution_count": 1,
   "id": "188d3e1c-508e-437d-b141-76905371a7bb",
   "metadata": {
    "tags": []
   },
   "outputs": [],
   "source": [
    "%load_ext autotime"
   ]
  },
  {
   "cell_type": "code",
   "execution_count": 2,
   "id": "5ff2bb01-ceb3-4820-8dbe-7e68843019a1",
   "metadata": {
    "tags": []
   },
   "outputs": [
    {
     "name": "stdout",
     "output_type": "stream",
     "text": [
      "time: 4.08 s (started: 2023-03-14 23:48:40 +05:30)\n"
     ]
    }
   ],
   "source": [
    "import torch\n",
    "import torch.nn as nn\n",
    "import torch.nn.functional as F\n",
    "import torch.optim as optim\n",
    "from torch.optim import lr_scheduler\n",
    "from torch.utils.data import Dataset, DataLoader\n",
    "from torchsummary import summary\n",
    "\n",
    "import numpy as np\n",
    "import pandas as pd\n",
    "import random\n",
    "from glob import glob\n",
    "import os, shutil\n",
    "import gc\n",
    "from PIL import Image\n",
    "from typing import Dict, List, Tuple, Any, Optional\n",
    "from collections import namedtuple, defaultdict\n",
    "import copy\n",
    "\n",
    "import cv2\n",
    "import matplotlib.pyplot as plt\n",
    "\n",
    "from sklearn.model_selection import KFold, StratifiedKFold, StratifiedGroupKFold\n",
    "\n",
    "import segmentation_models_pytorch as smp\n",
    "import albumentations as A\n",
    "from albumentations.pytorch import ToTensorV2\n",
    "import piqa\n",
    "import wandb\n",
    "from tqdm import tqdm\n",
    "tqdm.pandas()\n",
    "\n",
    "from colorama import Fore, Back, Style\n",
    "c_  = Fore.GREEN\n",
    "sr_ = Style.RESET_ALL\n",
    "\n",
    "import warnings\n",
    "warnings.filterwarnings(\"ignore\")"
   ]
  },
  {
   "cell_type": "markdown",
   "id": "3f80c6c0-8357-44ec-8dcd-d99ac32e83c0",
   "metadata": {},
   "source": [
    "## Config"
   ]
  },
  {
   "cell_type": "code",
   "execution_count": 3,
   "id": "89f7cf07-2754-4ea2-816a-7084a8a1390a",
   "metadata": {
    "tags": []
   },
   "outputs": [
    {
     "name": "stdout",
     "output_type": "stream",
     "text": [
      "time: 866 µs (started: 2023-03-14 23:48:44 +05:30)\n"
     ]
    }
   ],
   "source": [
    "class config:\n",
    "    seed          = 42\n",
    "    exp_name      = 'nasscom-taim'\n",
    "    model_name    = 'pix2pix-rnn-aqi'\n",
    "    base_model    = 'None'\n",
    "    train_bs      = 1\n",
    "    valid_bs      = 1\n",
    "    image_size    = [224, 224]\n",
    "    in_channels   = 1\n",
    "    latent_size   = 128\n",
    "    hidden_size   = 512\n",
    "    num_layers    = 2\n",
    "    bidirectional = 0 # could be 0 or 1\n",
    "    comment       = f'model-{model_name}|latent_size-{latent_size}|info_channels-{in_channels}|hidden_dim-{hidden_size}|num_layers-{num_layers}|bidirectional-{bidirectional}|dim-{image_size[0]}x{image_size[1]}'\n",
    "    epochs        = 100\n",
    "    learning_rate = 3e-4\n",
    "    scheduler     = 'CosineAnnealingLR'\n",
    "    min_lr        = 1e-6\n",
    "    T_max         = int(30000/train_bs*epochs)+50\n",
    "    T_0           = 25\n",
    "    warmup_epochs = 0\n",
    "    wd            = 1e-6\n",
    "    n_accumulate  = max(1, 32//train_bs)\n",
    "    n_fold        = 5\n",
    "    num_classes   = 3\n",
    "    device        = torch.device(\"cuda:0\" if torch.cuda.is_available() else \"cpu\")\n",
    "    trial_num     = 1"
   ]
  },
  {
   "cell_type": "markdown",
   "id": "c1fc2635-7aff-457f-a8c4-5b39d98317ac",
   "metadata": {},
   "source": [
    "## Utils"
   ]
  },
  {
   "cell_type": "code",
   "execution_count": 4,
   "id": "64ac0498-eed1-49f0-9497-7ac09a4a48d6",
   "metadata": {
    "tags": []
   },
   "outputs": [
    {
     "name": "stdout",
     "output_type": "stream",
     "text": [
      ">>> SEEDED <<<\n",
      "time: 2.74 ms (started: 2023-03-14 23:48:44 +05:30)\n"
     ]
    }
   ],
   "source": [
    "def set_seed(seed: int = 42):\n",
    "    np.random.seed(seed)\n",
    "    random.seed(seed)\n",
    "    torch.manual_seed(seed)\n",
    "    os.environ['PYTHONHASHSEED'] = str(seed)\n",
    "    print('>>> SEEDED <<<')\n",
    "\n",
    "set_seed(config.seed)"
   ]
  },
  {
   "cell_type": "code",
   "execution_count": 5,
   "id": "7cbfb95c-9cf5-413c-b5a9-80075ed7c819",
   "metadata": {
    "tags": []
   },
   "outputs": [
    {
     "name": "stdout",
     "output_type": "stream",
     "text": [
      "time: 517 µs (started: 2023-03-14 23:48:44 +05:30)\n"
     ]
    }
   ],
   "source": [
    "class Conv2DLayer(nn.Module):\n",
    "    def __init__(\n",
    "        self,\n",
    "        in_channels: int, \n",
    "        out_channels: int, \n",
    "        kernel_size: int, \n",
    "        stride: int, \n",
    "        padding: int\n",
    "    ) -> None:\n",
    "        super(Conv2DLayer, self).__init__()\n",
    "        self.conv = nn.Conv2d(\n",
    "            in_channels=in_channels, \n",
    "            out_channels=out_channels, \n",
    "            kernel_size=kernel_size, \n",
    "            stride=stride, \n",
    "            padding=padding\n",
    "        )\n",
    "        self.bn = nn.BatchNorm2d(num_features=out_channels)\n",
    "    \n",
    "    def forward(self, x: torch.Tensor) -> torch.Tensor:\n",
    "        return F.relu(self.bn(self.conv(x)))"
   ]
  },
  {
   "cell_type": "code",
   "execution_count": 6,
   "id": "435c571e-f8f9-4c8b-9f42-c2862fb65d44",
   "metadata": {
    "tags": []
   },
   "outputs": [
    {
     "name": "stdout",
     "output_type": "stream",
     "text": [
      "time: 555 µs (started: 2023-03-14 23:48:44 +05:30)\n"
     ]
    }
   ],
   "source": [
    "class Conv2DTransposeLayer(nn.Module):\n",
    "    def __init__(\n",
    "        self,\n",
    "        in_channels: int, \n",
    "        out_channels: int, \n",
    "        kernel_size: int, \n",
    "        stride: int, \n",
    "        padding: int \n",
    "    ) -> None:\n",
    "        super(Conv2DTransposeLayer, self).__init__()\n",
    "        self.conv = nn.ConvTranspose2d(\n",
    "            in_channels=in_channels, \n",
    "            out_channels=out_channels, \n",
    "            kernel_size=kernel_size, \n",
    "            stride=stride, \n",
    "            padding=padding\n",
    "        )\n",
    "        self.bn = nn.BatchNorm2d(num_features=out_channels)\n",
    "    \n",
    "    def forward(self, x: torch.Tensor) -> torch.Tensor:\n",
    "        return F.relu(self.bn(self.conv(x)))"
   ]
  },
  {
   "cell_type": "code",
   "execution_count": 7,
   "id": "265f360e-8d3d-40e1-8e8e-3f8ee3c94138",
   "metadata": {
    "tags": []
   },
   "outputs": [
    {
     "name": "stdout",
     "output_type": "stream",
     "text": [
      "time: 672 µs (started: 2023-03-14 23:48:44 +05:30)\n"
     ]
    }
   ],
   "source": [
    "def get_optimizer(optimizer: optim):\n",
    "    if config.scheduler == 'CosineAnnealingLR':\n",
    "        scheduler = lr_scheduler.CosineAnnealingLR(\n",
    "            optimizer=optimizer, \n",
    "            T_max=config.T_max, \n",
    "            eta_min=config.min_lr\n",
    "        )\n",
    "    elif config.scheduler == 'CosineAnnealingWarmRestarts':\n",
    "        scheduler = lr_scheduler.CosineAnnealingWarmRestarts(\n",
    "            optimizer=optimizer, \n",
    "            T_0=config.T_0, \n",
    "            eta_min=config.eta_min\n",
    "        )\n",
    "    elif config.scheduler == 'ReduceLROnPlateau':\n",
    "        scheduler = lr_scheduler.ReduceLROnPlateau(\n",
    "            optimizer=optimizer, \n",
    "            mode='min',\n",
    "            factor=0.1, \n",
    "            patience=10, \n",
    "            threshold=0.0001, \n",
    "            min_lr=config.min_lr\n",
    "        )\n",
    "    elif config.scheduler == 'ExponentialLR':\n",
    "        scheduler = lr_scheduler.ExponentialLR(\n",
    "            optimizer=optimizer, \n",
    "            gamma=0.85\n",
    "        )\n",
    "    elif config.scheduler == None:\n",
    "        scheduler = None\n",
    "    else:\n",
    "        raise NotImplementedError(\"The Scheduler you have asked has not been implemented\")\n",
    "    return scheduler"
   ]
  },
  {
   "cell_type": "markdown",
   "id": "8482416b-cecb-4e3d-9b95-6895c69d76b5",
   "metadata": {},
   "source": [
    "## Model\n",
    "\n",
    "## Encoder"
   ]
  },
  {
   "cell_type": "code",
   "execution_count": 8,
   "id": "b6e527d1-78ee-4393-9030-b761564fc3f5",
   "metadata": {
    "tags": []
   },
   "outputs": [
    {
     "name": "stdout",
     "output_type": "stream",
     "text": [
      "time: 670 µs (started: 2023-03-14 23:48:44 +05:30)\n"
     ]
    }
   ],
   "source": [
    "class EncoderLayer(nn.Module):\n",
    "    def __init__(\n",
    "            self, \n",
    "            in_channels: int,\n",
    "            latent_size: int, \n",
    "            *args, **kwargs) -> None:\n",
    "        super().__init__(*args, **kwargs)\n",
    "        \n",
    "        self.conv1 = Conv2DLayer(in_channels=in_channels, out_channels=32, kernel_size=8, stride=4, padding=1)\n",
    "        self.conv2 = Conv2DLayer(in_channels=32, out_channels=16, kernel_size=2, stride=4, padding=1)\n",
    "        self.conv3 = Conv2DLayer(in_channels=16, out_channels=1, kernel_size=2, stride=1, padding=1)\n",
    "        self.fc    = nn.Linear(in_features=225, out_features=latent_size)\n",
    "\n",
    "    def forward(self, x: torch.Tensor) -> torch.Tensor:\n",
    "        batch_size = x.size(0)\n",
    "        x = self.conv1(x)\n",
    "        x = self.conv2(x)\n",
    "        x = self.conv3(x)\n",
    "        x = x.view(batch_size, -1)\n",
    "        x = self.fc(x)\n",
    "        return x"
   ]
  },
  {
   "cell_type": "markdown",
   "id": "d8cf2bc9-04ed-4eae-8a1b-8116afb0c902",
   "metadata": {},
   "source": [
    "### Decoder"
   ]
  },
  {
   "cell_type": "code",
   "execution_count": 9,
   "id": "fcf02fad-7e96-4cb8-aae6-6328128092b1",
   "metadata": {
    "tags": []
   },
   "outputs": [
    {
     "name": "stdout",
     "output_type": "stream",
     "text": [
      "time: 944 µs (started: 2023-03-14 23:48:44 +05:30)\n"
     ]
    }
   ],
   "source": [
    "class DecoderLayer(nn.Module):\n",
    "    def __init__(\n",
    "        self, \n",
    "        latent_size: int,\n",
    "        out_channels: int,\n",
    "        *args, **kwargs\n",
    "    ) -> None:\n",
    "        super().__init__(*args, **kwargs)\n",
    "        \n",
    "        self.conv1 = Conv2DTransposeLayer(in_channels=latent_size, out_channels=128, kernel_size=6, \n",
    "                                          stride=3, padding=1)\n",
    "        self.conv2 = Conv2DTransposeLayer(in_channels=128, out_channels=64, kernel_size=4, stride=4, padding=1)\n",
    "        self.conv3 = Conv2DTransposeLayer(in_channels=64, out_channels=32, kernel_size=4, stride=2, padding=1)\n",
    "        self.conv4 = Conv2DTransposeLayer(in_channels=32, out_channels=16, kernel_size=4, stride=2, padding=1)\n",
    "        self.conv5 = Conv2DTransposeLayer(in_channels=16, out_channels=8, kernel_size=4, stride=2, padding=1)\n",
    "        self.conv6 = Conv2DTransposeLayer(in_channels=8, out_channels=out_channels, kernel_size=4, stride=2, padding=1)\n",
    "#         self.conv7 = Conv2DTransposeLayer(in_channels=4, out_channels=3, kernel_size=4, stride=2, padding=1)\n",
    "    \n",
    "    def forward(self, x: torch.Tensor) -> torch.Tensor:\n",
    "        x = self.conv1(x)\n",
    "        x = self.conv2(x)\n",
    "        x = self.conv3(x)\n",
    "        x = self.conv4(x)\n",
    "        x = self.conv5(x)\n",
    "        x = self.conv6(x)\n",
    "        return x"
   ]
  },
  {
   "cell_type": "markdown",
   "id": "93453925-058c-41a1-a5ec-8e9729899b08",
   "metadata": {},
   "source": [
    "### Pix2PixRNN"
   ]
  },
  {
   "cell_type": "code",
   "execution_count": 10,
   "id": "3bdb1f85-1012-4aa1-a0fe-5e7c541a15dd",
   "metadata": {
    "tags": []
   },
   "outputs": [
    {
     "data": {
      "text/plain": [
       "torch.Size([64, 1, 224, 224])"
      ]
     },
     "execution_count": 10,
     "metadata": {},
     "output_type": "execute_result"
    },
    {
     "name": "stdout",
     "output_type": "stream",
     "text": [
      "time: 1.6 s (started: 2023-03-14 23:48:44 +05:30)\n"
     ]
    }
   ],
   "source": [
    "class Pix2PixRNN(nn.Module):\n",
    "    def __init__(\n",
    "            self, \n",
    "            in_channels: int = 3, \n",
    "            latent_size: int = 128,\n",
    "            hidden_size: int = 512,\n",
    "            num_layers: int = 2,\n",
    "            bidirectional: Optional[int] = 1,\n",
    "            *args, **kwargs) -> None:\n",
    "        super().__init__(*args, **kwargs)\n",
    "\n",
    "        self.in_channels = in_channels\n",
    "        self.latent_size = latent_size\n",
    "        self.hidden_size = hidden_size\n",
    "        self.num_layers = num_layers\n",
    "        self.bidirectional = bidirectional\n",
    "\n",
    "        self.encoder = EncoderLayer(in_channels=in_channels, latent_size=latent_size)\n",
    "        self.lstm = nn.LSTM(\n",
    "            input_size=latent_size,\n",
    "            hidden_size=hidden_size, \n",
    "            num_layers=num_layers, \n",
    "            batch_first=True,\n",
    "            bidirectional=True if self.bidirectional == 2 else False\n",
    "        )\n",
    "        self.decoder = DecoderLayer(latent_size=self.hidden_size, out_channels=self.in_channels)\n",
    "\n",
    "    def _init_hidden_states(self, bs: int) -> Tuple[torch.Tensor]:\n",
    "        return torch.zeros(self.bidirectional*self.num_layers, bs, self.hidden_size), \\\n",
    "    torch.zeros(self.bidirectional*self.num_layers, bs, self.hidden_size)\n",
    "    \n",
    "    def forward(self, x: torch.Tensor) -> Tuple[torch.Tensor]:\n",
    "        emb = None\n",
    "        seq_len = x.size(2) # [B, C, D, H, W]\n",
    "        for ix in range(seq_len):\n",
    "            if emb is None:\n",
    "                emb = self.encoder(x[:, :, ix, :, :]).unsqueeze(0)\n",
    "            else:\n",
    "                emb = torch.cat([emb, self.encoder(x[:, :, ix, :, :]).unsqueeze(0)], dim=0)\n",
    "        # emb = self.encoder(x)\n",
    "        emb = emb.permute(1, 0, 2)\n",
    "        \n",
    "        # h0, c0 = self._init_hidden_states(64)\n",
    "        out, (h, c) = self.lstm(emb)\n",
    "        \n",
    "        decoder_inp = torch.cat([h, c])\n",
    "        decoder_inp = torch.mean(decoder_inp, axis=0).unsqueeze(-1).unsqueeze(-1)\n",
    "        out = self.decoder(decoder_inp)\n",
    "        return nn.Sigmoid()(out)\n",
    "\n",
    "\n",
    "x = torch.randn((64, 1, 8, 224, 224))\n",
    "model = Pix2PixRNN(in_channels=1, latent_size=128, bidirectional=2)\n",
    "decoder_inp = model.forward(x)\n",
    "decoder_inp.shape"
   ]
  },
  {
   "cell_type": "markdown",
   "id": "c4907026-d38a-4ff0-816b-877daef0ede9",
   "metadata": {},
   "source": [
    "## Training"
   ]
  },
  {
   "cell_type": "code",
   "execution_count": 11,
   "id": "eaf5cdcc",
   "metadata": {},
   "outputs": [
    {
     "name": "stdout",
     "output_type": "stream",
     "text": [
      "time: 560 µs (started: 2023-03-14 23:48:45 +05:30)\n"
     ]
    }
   ],
   "source": [
    "def get_prediction_plots(y: torch.Tensor, yHat: torch.Tensor):\n",
    "    img_id = np.random.choice(range(len(y)))\n",
    "    fig, axs = plt.subplots(2, 4, figsize=(12, 12))\n",
    "    axs[0][0].set_ylabel('Actual')\n",
    "    axs[1][0].set_ylabel('Predicted')\n",
    "    for ix, ax in enumerate(axs[1].flatten()):\n",
    "        ax.imshow(y[ix][0], cmap='gray')\n",
    "        ax.set_xticks([])\n",
    "        ax.set_yticks([])\n",
    "    \n",
    "    for ix, ax in enumerate(axs[1].flatten()):\n",
    "        ax.imshow(yHat[ix][0].detach().numpy(), cmap='gray')\n",
    "        ax.set_xticks([])\n",
    "        ax.set_yticks([])\n",
    "    \n",
    "#     plt.tight_layout()\n",
    "#     plt.imsave(fig, './preds.png')\n",
    "    plt.savefig('./preds.png')"
   ]
  },
  {
   "cell_type": "code",
   "execution_count": 12,
   "id": "816e1da9-24f1-415f-bee1-d2464a3112c2",
   "metadata": {
    "tags": []
   },
   "outputs": [
    {
     "name": "stdout",
     "output_type": "stream",
     "text": [
      "time: 1.78 ms (started: 2023-03-14 23:48:45 +05:30)\n"
     ]
    }
   ],
   "source": [
    "def train_one_epoch(\n",
    "    model: nn.Module, optimizer: optim, scheduler: lr_scheduler, \n",
    "    criterion: nn.Module, loader: DataLoader\n",
    ") -> float:\n",
    "    model.train()\n",
    "    running_loss = 0.0\n",
    "    dataset_size = 0\n",
    "    \n",
    "    ssim_loss = piqa.SSIM(n_channels=1)\n",
    "    psnr_loss = piqa.PSNR()\n",
    "    \n",
    "    pbar = tqdm(enumerate(loader), total=len(loader), desc='Train')\n",
    "    for step, batch in pbar:\n",
    "        X, y, mask = batch['X'], batch['y'], batch['mask']\n",
    "        bs = X.shape[0]\n",
    "        yHat = model.forward(X)\n",
    "        \n",
    "        with torch.no_grad():\n",
    "            y *= mask\n",
    "        \n",
    "        optimizer.zero_grad()\n",
    "        loss = criterion(yHat*mask, y*mask)# , mask)\n",
    "        loss.backward()\n",
    "        optimizer.step()\n",
    "        if scheduler is not None:\n",
    "            scheduler.step()\n",
    "        \n",
    "        running_loss += (loss.item() * bs)\n",
    "        dataset_size += bs\n",
    "        \n",
    "        with torch.no_grad():\n",
    "            ssim = ssim_loss(yHat, y)\n",
    "            psnr = psnr_loss(yHat, y)\n",
    "        \n",
    "        epoch_loss = running_loss / dataset_size\n",
    "        current_lr = optimizer.param_groups[0]['lr']\n",
    "        \n",
    "        wandb.log({\n",
    "            'running train loss': epoch_loss,\n",
    "            'running learning rate': current_lr,\n",
    "            'training ssim': ssim,\n",
    "            'training psnr': psnr\n",
    "        })\n",
    "    \n",
    "        pbar.set_postfix(loss=f'{epoch_loss:.3f}', lr=f'{current_lr:.5f}')\n",
    "    \n",
    "    return epoch_loss\n",
    "\n",
    "\n",
    "@torch.no_grad()\n",
    "def validate_one_epoch(model: nn.Module, loader: DataLoader, criterion: nn.Module) -> float:\n",
    "    model.eval()\n",
    "    running_loss = 0.0\n",
    "    dataset_size = 0\n",
    "    \n",
    "    ssim_loss = piqa.SSIM(n_channels=1)\n",
    "    psnr_loss = piqa.PSNR()\n",
    "    \n",
    "    pbar = tqdm(enumerate(loader), total=len(loader), desc='Evaluation')\n",
    "    for step, batch in pbar:\n",
    "        X, y, mask = batch['X'], batch['y'], batch['mask']\n",
    "        bs = X.shape[0]\n",
    "        yHat = model.forward(X)\n",
    "        \n",
    "        y *= mask\n",
    "        loss = criterion(yHat*mask, y*mask)# , mask)\n",
    "        \n",
    "        running_loss += (bs * loss.item())\n",
    "        dataset_size += bs\n",
    "        epoch_loss = running_loss / dataset_size\n",
    "        \n",
    "        epoch_loss = running_loss / dataset_size\n",
    "        \n",
    "#         get_prediction_plots(y=y, yHat=yHat)\n",
    "\n",
    "        wandb.log({\n",
    "            'running valid loss': epoch_loss,\n",
    "            'predictions': wandb.Image('./preds.png'),\n",
    "            'validation ssim': ssim_loss(yHat, y),\n",
    "            'validation psnr': psnr_loss(yHat, y)\n",
    "        })\n",
    "    \n",
    "    return epoch_loss"
   ]
  },
  {
   "cell_type": "code",
   "execution_count": 13,
   "id": "f0bdd674",
   "metadata": {},
   "outputs": [
    {
     "name": "stdout",
     "output_type": "stream",
     "text": [
      "time: 354 µs (started: 2023-03-14 23:48:45 +05:30)\n"
     ]
    }
   ],
   "source": [
    "class CustomMSELoss(nn.Module):\n",
    "    def __init__(self) -> None:\n",
    "        super(CustomMSELoss, self).__init__()\n",
    "    \n",
    "    def forward(self, yHat: torch.Tensor, y: torch.Tensor, mask: torch.Tensor) -> torch.Tensor:\n",
    "        return torch.sum((yHat*mask-y*mask)**2)"
   ]
  },
  {
   "cell_type": "code",
   "execution_count": 14,
   "id": "cdd2e11f-6f78-4a41-ae72-7412be6e7f9e",
   "metadata": {
    "tags": []
   },
   "outputs": [
    {
     "name": "stdout",
     "output_type": "stream",
     "text": [
      "time: 1.45 ms (started: 2023-03-14 23:48:45 +05:30)\n"
     ]
    }
   ],
   "source": [
    "def run_training(trainloader, validloader):\n",
    "    wandb.init(\n",
    "        project='nasscom-taim',\n",
    "        config={k:v for k, v in vars(config).items() if '__' not in k},\n",
    "        name=f'iteration-{config.trial_num}',\n",
    "        group=config.comment\n",
    "    )\n",
    "    \n",
    "    model = Pix2PixRNN(\n",
    "        in_channels=config.in_channels, \n",
    "        latent_size=config.latent_size,\n",
    "        hidden_size=config.hidden_size, \n",
    "        num_layers=config.num_layers\n",
    "    ).to(config.device)\n",
    "    criterion = nn.MSELoss()\n",
    "    optimizer = optim.Adam(model.parameters(), lr=config.learning_rate)\n",
    "    scheduler = get_optimizer(optimizer=optimizer)\n",
    "    \n",
    "    history = {\n",
    "        'lr': [],\n",
    "        'train loss': [],\n",
    "        'valid loss': []\n",
    "    }\n",
    "    \n",
    "    best_model_wts = copy.deepcopy(model.state_dict())\n",
    "    best_epoch = -1\n",
    "    best_loss = np.infty\n",
    "    \n",
    "    wandb.watch(models=[model], log_freq=100)\n",
    "    \n",
    "    for epoch in range(config.epochs):\n",
    "        print(f'\\t\\t\\t\\t\\t### EPOCH {epoch+1} ###')\n",
    "        train_loss = train_one_epoch(model=model, optimizer=optimizer, criterion=criterion, \n",
    "                                     scheduler=scheduler, loader=trainloader)\n",
    "        valid_loss = validate_one_epoch(model=model, loader=validloader, criterion=criterion)\n",
    "        \n",
    "        wandb.log({\n",
    "            'lr': optimizer.param_groups[0]['lr'], \n",
    "            'train loss': train_loss, \n",
    "            'valid loss': valid_loss\n",
    "        })\n",
    "        \n",
    "        history['lr'].append(optimizer.param_groups[0]['lr'])\n",
    "        history['train loss'].append(train_loss)\n",
    "        history['valid loss'].append(valid_loss)\n",
    "        \n",
    "        print(f'Validation Loss: {valid_loss:.5f}')\n",
    "        \n",
    "        if valid_loss < best_loss:\n",
    "            print(f'{c_}Validation decreased from {best_loss:.5f} to {valid_loss:.5f}')\n",
    "            best_loss = valid_loss\n",
    "            best_epoch = epoch\n",
    "            best_model_wts = copy.deepcopy(model.state_dict())\n",
    "            \n",
    "            path = f'../../best-models/MODEL-{config.trial_num}.bin'\n",
    "            torch.save(best_model_wts, path)\n",
    "            # wandb.save(path)\n",
    "            \n",
    "            print(f\"Model Saved{sr_}\")\n",
    "        \n",
    "    model.load_state_dict(torch.load(f'../../best-models/MODEL-{config.trial_num}.bin'))\n",
    "    return model, history\n"
   ]
  },
  {
   "cell_type": "markdown",
   "id": "41680774-9eac-44a4-92d0-ee5981edc86b",
   "metadata": {},
   "source": [
    "## Dataset"
   ]
  },
  {
   "cell_type": "code",
   "execution_count": 15,
   "id": "90f8f3ee-9448-4b1b-af41-e8336b15b1b3",
   "metadata": {
    "tags": []
   },
   "outputs": [
    {
     "data": {
      "text/plain": [
       "{'min': 14.0,\n",
       " 'max': 163.0,\n",
       " 'loMin': 77.23560954500005,\n",
       " 'loMax': 81.3211332490001,\n",
       " 'laMin': 15.836347644999982,\n",
       " 'laMax': 19.917992894000086,\n",
       " 'bbox': [30, 31, 502, 527]}"
      ]
     },
     "execution_count": 15,
     "metadata": {},
     "output_type": "execute_result"
    },
    {
     "name": "stdout",
     "output_type": "stream",
     "text": [
      "time: 2.03 ms (started: 2023-03-14 23:48:45 +05:30)\n"
     ]
    }
   ],
   "source": [
    "import json\n",
    "scaling = json.load(open('../../../../dataset/aqi/scales.json', 'r'))\n",
    "scaling"
   ]
  },
  {
   "cell_type": "code",
   "execution_count": 16,
   "id": "3bb710ea-be3e-4431-befd-09e5581347d0",
   "metadata": {
    "tags": []
   },
   "outputs": [
    {
     "data": {
      "image/png": "[encoded data removed]",
      "text/plain": [
       "<Figure size 640x480 with 1 Axes>"
      ]
     },
     "metadata": {},
     "output_type": "display_data"
    },
    {
     "name": "stdout",
     "output_type": "stream",
     "text": [
      "time: 177 ms (started: 2023-03-14 23:48:45 +05:30)\n"
     ]
    }
   ],
   "source": [
    "path = '../../../../dataset/aqi/images/2017-01.png'\n",
    "img = Image.open(path)\n",
    "img = img.convert('RGB')\n",
    "plt.imshow(img);"
   ]
  },
  {
   "cell_type": "code",
   "execution_count": 17,
   "id": "b5506fb7-ea89-4903-a3f0-c8f6c6b30644",
   "metadata": {
    "tags": []
   },
   "outputs": [
    {
     "data": {
      "text/plain": [
       "(472, 496)"
      ]
     },
     "execution_count": 17,
     "metadata": {},
     "output_type": "execute_result"
    },
    {
     "name": "stdout",
     "output_type": "stream",
     "text": [
      "time: 8.65 ms (started: 2023-03-14 23:48:46 +05:30)\n"
     ]
    }
   ],
   "source": [
    "img = img.crop(scaling['bbox'])\n",
    "img.size"
   ]
  },
  {
   "cell_type": "code",
   "execution_count": 18,
   "id": "c8a63824-764a-417b-af22-e01e4396cf27",
   "metadata": {
    "tags": []
   },
   "outputs": [
    {
     "data": {
      "text/plain": [
       "(496, 472, 3)"
      ]
     },
     "execution_count": 18,
     "metadata": {},
     "output_type": "execute_result"
    },
    {
     "name": "stdout",
     "output_type": "stream",
     "text": [
      "time: 8.55 ms (started: 2023-03-14 23:48:46 +05:30)\n"
     ]
    }
   ],
   "source": [
    "img = np.asarray(img)\n",
    "img.shape"
   ]
  },
  {
   "cell_type": "code",
   "execution_count": 19,
   "id": "90ef5661-f3bd-4919-982d-b2601560bedc",
   "metadata": {
    "tags": []
   },
   "outputs": [
    {
     "data": {
      "image/png": "[encoded data removed]",
      "text/plain": [
       "<Figure size 640x480 with 1 Axes>"
      ]
     },
     "metadata": {},
     "output_type": "display_data"
    },
    {
     "name": "stdout",
     "output_type": "stream",
     "text": [
      "time: 142 ms (started: 2023-03-14 23:48:46 +05:30)\n"
     ]
    }
   ],
   "source": [
    "plt.imshow(img[:, :, 0], cmap='gray');"
   ]
  },
  {
   "cell_type": "code",
   "execution_count": 20,
   "id": "2b9934b4-ce45-4aec-b97e-3263f59c6a8b",
   "metadata": {
    "tags": []
   },
   "outputs": [
    {
     "data": {
      "text/plain": [
       "(496, 472)"
      ]
     },
     "execution_count": 20,
     "metadata": {},
     "output_type": "execute_result"
    },
    {
     "name": "stdout",
     "output_type": "stream",
     "text": [
      "time: 1.77 ms (started: 2023-03-14 23:48:46 +05:30)\n"
     ]
    }
   ],
   "source": [
    "tmp = img[:, :, 0]\n",
    "tmp.shape"
   ]
  },
  {
   "cell_type": "code",
   "execution_count": 21,
   "id": "a8ae570b-d925-4111-ab48-aae6c388262c",
   "metadata": {
    "tags": []
   },
   "outputs": [
    {
     "data": {
      "image/png": "[encoded data removed]",
      "text/plain": [
       "<Figure size 640x480 with 1 Axes>"
      ]
     },
     "metadata": {},
     "output_type": "display_data"
    },
    {
     "name": "stdout",
     "output_type": "stream",
     "text": [
      "time: 124 ms (started: 2023-03-14 23:48:46 +05:30)\n"
     ]
    }
   ],
   "source": [
    "plt.imshow(np.array(tmp == 255).astype(np.uint8), cmap='gray');"
   ]
  },
  {
   "cell_type": "code",
   "execution_count": 22,
   "id": "ceb053be-21fe-4f91-a5b4-399c5ea27da7",
   "metadata": {
    "tags": []
   },
   "outputs": [
    {
     "data": {
      "image/png": "[encoded data removed]",
      "text/plain": [
       "<Figure size 640x480 with 1 Axes>"
      ]
     },
     "metadata": {},
     "output_type": "display_data"
    },
    {
     "name": "stdout",
     "output_type": "stream",
     "text": [
      "time: 263 ms (started: 2023-03-14 23:48:46 +05:30)\n"
     ]
    }
   ],
   "source": [
    "mask = (tmp == 255)\n",
    "mask = ~mask.astype(np.uint8) - 254\n",
    "plt.imshow(mask, cmap='gray');"
   ]
  },
  {
   "cell_type": "code",
   "execution_count": 23,
   "id": "4bb2aa1b-7723-42ea-83fc-971df7698dca",
   "metadata": {},
   "outputs": [
    {
     "data": {
      "text/plain": [
       "(0, 1)"
      ]
     },
     "execution_count": 23,
     "metadata": {},
     "output_type": "execute_result"
    },
    {
     "name": "stdout",
     "output_type": "stream",
     "text": [
      "time: 3.24 ms (started: 2023-03-14 23:48:46 +05:30)\n"
     ]
    }
   ],
   "source": [
    "mask.min(), mask.max()"
   ]
  },
  {
   "cell_type": "code",
   "execution_count": 24,
   "id": "8748fd88-b929-4791-b2bb-5cc1d6b2d36c",
   "metadata": {},
   "outputs": [
    {
     "data": {
      "image/png": "[encoded data removed]",
      "text/plain": [
       "<Figure size 640x480 with 1 Axes>"
      ]
     },
     "metadata": {},
     "output_type": "display_data"
    },
    {
     "data": {
      "image/png": "[encoded data removed]",
      "text/plain": [
       "<Figure size 640x480 with 1 Axes>"
      ]
     },
     "metadata": {},
     "output_type": "display_data"
    },
    {
     "data": {
      "image/png": "[encoded data removed]",
      "text/plain": [
       "<Figure size 640x480 with 1 Axes>"
      ]
     },
     "metadata": {},
     "output_type": "display_data"
    },
    {
     "name": "stdout",
     "output_type": "stream",
     "text": [
      "time: 398 ms (started: 2023-03-14 23:48:46 +05:30)\n"
     ]
    }
   ],
   "source": [
    "plt.imshow(mask + tmp)\n",
    "plt.show()\n",
    "\n",
    "plt.imshow(mask)\n",
    "plt.show()\n",
    "\n",
    "plt.imshow(tmp)\n",
    "plt.show()"
   ]
  },
  {
   "cell_type": "code",
   "execution_count": 25,
   "id": "42ae07ee-3028-4db9-9252-374f6a3d3bc5",
   "metadata": {
    "tags": []
   },
   "outputs": [
    {
     "data": {
      "text/html": [
       "<div>\n",
       "<style scoped>\n",
       "    .dataframe tbody tr th:only-of-type {\n",
       "        vertical-align: middle;\n",
       "    }\n",
       "\n",
       "    .dataframe tbody tr th {\n",
       "        vertical-align: top;\n",
       "    }\n",
       "\n",
       "    .dataframe thead th {\n",
       "        text-align: right;\n",
       "    }\n",
       "</style>\n",
       "<table border=\"1\" class=\"dataframe\">\n",
       "  <thead>\n",
       "    <tr style=\"text-align: right;\">\n",
       "      <th></th>\n",
       "      <th>input</th>\n",
       "    </tr>\n",
       "  </thead>\n",
       "  <tbody>\n",
       "    <tr>\n",
       "      <th>0</th>\n",
       "      <td>../../../../dataset/aqi/images/2017-01.png</td>\n",
       "    </tr>\n",
       "    <tr>\n",
       "      <th>1</th>\n",
       "      <td>../../../../dataset/aqi/images/2017-02.png</td>\n",
       "    </tr>\n",
       "    <tr>\n",
       "      <th>2</th>\n",
       "      <td>../../../../dataset/aqi/images/2017-03.png</td>\n",
       "    </tr>\n",
       "    <tr>\n",
       "      <th>3</th>\n",
       "      <td>../../../../dataset/aqi/images/2017-04.png</td>\n",
       "    </tr>\n",
       "    <tr>\n",
       "      <th>4</th>\n",
       "      <td>../../../../dataset/aqi/images/2017-05.png</td>\n",
       "    </tr>\n",
       "  </tbody>\n",
       "</table>\n",
       "</div>"
      ],
      "text/plain": [
       "                                        input\n",
       "0  ../../../../dataset/aqi/images/2017-01.png\n",
       "1  ../../../../dataset/aqi/images/2017-02.png\n",
       "2  ../../../../dataset/aqi/images/2017-03.png\n",
       "3  ../../../../dataset/aqi/images/2017-04.png\n",
       "4  ../../../../dataset/aqi/images/2017-05.png"
      ]
     },
     "execution_count": 25,
     "metadata": {},
     "output_type": "execute_result"
    },
    {
     "name": "stdout",
     "output_type": "stream",
     "text": [
      "time: 8.36 ms (started: 2023-03-14 23:48:47 +05:30)\n"
     ]
    }
   ],
   "source": [
    "image_paths = sorted(glob('../../../../dataset/aqi/images/*.png'))\n",
    "df = pd.DataFrame({\n",
    "    'input': image_paths\n",
    "})\n",
    "df.head()"
   ]
  },
  {
   "cell_type": "code",
   "execution_count": 26,
   "id": "0e3398a2-213b-4d53-8342-9e916646c79a",
   "metadata": {
    "tags": []
   },
   "outputs": [
    {
     "data": {
      "text/plain": [
       "(60, 1)"
      ]
     },
     "execution_count": 26,
     "metadata": {},
     "output_type": "execute_result"
    },
    {
     "name": "stdout",
     "output_type": "stream",
     "text": [
      "time: 2.59 ms (started: 2023-03-14 23:48:47 +05:30)\n"
     ]
    }
   ],
   "source": [
    "df.shape"
   ]
  },
  {
   "cell_type": "code",
   "execution_count": 27,
   "id": "b6325af7-de7d-47c5-aa4f-a75a1ca54e94",
   "metadata": {
    "tags": []
   },
   "outputs": [
    {
     "data": {
      "text/html": [
       "<div>\n",
       "<style scoped>\n",
       "    .dataframe tbody tr th:only-of-type {\n",
       "        vertical-align: middle;\n",
       "    }\n",
       "\n",
       "    .dataframe tbody tr th {\n",
       "        vertical-align: top;\n",
       "    }\n",
       "\n",
       "    .dataframe thead th {\n",
       "        text-align: right;\n",
       "    }\n",
       "</style>\n",
       "<table border=\"1\" class=\"dataframe\">\n",
       "  <thead>\n",
       "    <tr style=\"text-align: right;\">\n",
       "      <th></th>\n",
       "      <th>input</th>\n",
       "      <th>output</th>\n",
       "    </tr>\n",
       "  </thead>\n",
       "  <tbody>\n",
       "    <tr>\n",
       "      <th>0</th>\n",
       "      <td>../../../../dataset/aqi/images/2017-01.png</td>\n",
       "      <td>NaN</td>\n",
       "    </tr>\n",
       "    <tr>\n",
       "      <th>1</th>\n",
       "      <td>../../../../dataset/aqi/images/2017-02.png</td>\n",
       "      <td>NaN</td>\n",
       "    </tr>\n",
       "    <tr>\n",
       "      <th>2</th>\n",
       "      <td>../../../../dataset/aqi/images/2017-03.png</td>\n",
       "      <td>NaN</td>\n",
       "    </tr>\n",
       "    <tr>\n",
       "      <th>3</th>\n",
       "      <td>../../../../dataset/aqi/images/2017-04.png</td>\n",
       "      <td>../../../../dataset/aqi/images/2017-05.png</td>\n",
       "    </tr>\n",
       "    <tr>\n",
       "      <th>4</th>\n",
       "      <td>../../../../dataset/aqi/images/2017-05.png</td>\n",
       "      <td>../../../../dataset/aqi/images/2017-06.png</td>\n",
       "    </tr>\n",
       "  </tbody>\n",
       "</table>\n",
       "</div>"
      ],
      "text/plain": [
       "                                        input  \\\n",
       "0  ../../../../dataset/aqi/images/2017-01.png   \n",
       "1  ../../../../dataset/aqi/images/2017-02.png   \n",
       "2  ../../../../dataset/aqi/images/2017-03.png   \n",
       "3  ../../../../dataset/aqi/images/2017-04.png   \n",
       "4  ../../../../dataset/aqi/images/2017-05.png   \n",
       "\n",
       "                                       output  \n",
       "0                                         NaN  \n",
       "1                                         NaN  \n",
       "2                                         NaN  \n",
       "3  ../../../../dataset/aqi/images/2017-05.png  \n",
       "4  ../../../../dataset/aqi/images/2017-06.png  "
      ]
     },
     "execution_count": 27,
     "metadata": {},
     "output_type": "execute_result"
    },
    {
     "name": "stdout",
     "output_type": "stream",
     "text": [
      "time: 11.8 ms (started: 2023-03-14 23:48:47 +05:30)\n"
     ]
    }
   ],
   "source": [
    "df['output'] = np.nan\n",
    "for ix in range(4, len(df) - 1):\n",
    "    df.loc[ix - 1, 'output'] = df.loc[ix, 'input']\n",
    "df.head()"
   ]
  },
  {
   "cell_type": "code",
   "execution_count": 28,
   "id": "c6fffa23-c39b-4bd5-b9e8-1138c8c9bdf4",
   "metadata": {
    "tags": []
   },
   "outputs": [
    {
     "name": "stdout",
     "output_type": "stream",
     "text": [
      "['../../../../dataset/aqi/images/2017-01.png', '../../../../dataset/aqi/images/2017-02.png', '../../../../dataset/aqi/images/2017-03.png'] nan\n",
      "time: 7.04 ms (started: 2023-03-14 23:48:47 +05:30)\n"
     ]
    }
   ],
   "source": [
    "input_paths:  List[List[str]] = []\n",
    "output_paths: List[str] = []\n",
    "\n",
    "for ix in range(2, len(df) - 1):\n",
    "    input_paths.append(df.loc[ix - 2: ix, 'input'].to_list())\n",
    "    output_paths.append(df.loc[ix, 'output'])\n",
    "\n",
    "for inp, out in zip(input_paths, output_paths):\n",
    "    print(inp, out)\n",
    "    break"
   ]
  },
  {
   "cell_type": "code",
   "execution_count": 29,
   "id": "dd5ff7d9-132f-4078-aa7d-3a651a896f35",
   "metadata": {
    "tags": []
   },
   "outputs": [
    {
     "name": "stdout",
     "output_type": "stream",
     "text": [
      "time: 2.58 ms (started: 2023-03-14 23:48:47 +05:30)\n"
     ]
    }
   ],
   "source": [
    "class AQIDataset(Dataset):\n",
    "    def __init__(self, input_paths: List[str], output_paths: List[str]) -> None:\n",
    "        super(AQIDataset, self).__init__()\n",
    "        self.input_paths = input_paths\n",
    "        self.output_paths = output_paths\n",
    "        self.transforms = A.Compose([\n",
    "            A.Resize(height=config.image_size[0], width=config.image_size[1]),\n",
    "            ToTensorV2()\n",
    "        ], p=1.0)\n",
    "        \n",
    "    def __len__(self) -> int:\n",
    "        return len(self.input_paths)\n",
    "    \n",
    "    def __getitem__(self, ix: int) -> Dict[str, torch.Tensor]:\n",
    "        input_paths = self.input_paths[ix]\n",
    "        output_path = self.output_paths[ix]\n",
    "        \n",
    "        X = None\n",
    "        masks = None\n",
    "        y = None\n",
    "        \n",
    "        for path in input_paths:\n",
    "            img = Image.open(path)\n",
    "            img = img.convert('RGB')\n",
    "            img = np.asarray(img).mean(-1)\n",
    "            \n",
    "            transformed = self.transforms(image=img)\n",
    "            image = transformed['image']\n",
    "            image = torch.tensor(image)\n",
    "            \n",
    "            # print(image.shape)\n",
    "            \n",
    "            if X is None:\n",
    "                X = image.unsqueeze(0)\n",
    "            else:\n",
    "                X = torch.cat([X, image.unsqueeze(0)], dim=1)\n",
    "                \n",
    "        X = X / 255\n",
    "        \n",
    "        img = Image.open(path)\n",
    "        img = img.convert('RGB')\n",
    "        img = np.asarray(img).mean(-1)\n",
    "        mask = (img == 255)\n",
    "        mask = ~mask.astype(np.uint8) - 244\n",
    "        \n",
    "        img = img / 255\n",
    "        \n",
    "        transformed = self.transforms(image=img, mask=mask)\n",
    "        image = transformed['image']\n",
    "        mask  = transformed['mask'] - transformed['mask'].min()\n",
    "        image = torch.tensor(image, dtype=torch.float32)\n",
    "        mask = torch.tensor(mask, dtype=torch.float32)\n",
    "        \n",
    "#         image = (image - scaling['min'])/(scaling['max'] - scaling['min'])\n",
    "#         X = (X - scaling['min'])/(scaling['max'] - scaling['min'])\n",
    "        \n",
    "        return {\n",
    "            'X': X.to(dtype=torch.float32), \n",
    "            'mask': mask.to(dtype=torch.float32).unsqueeze(0), \n",
    "            'y': image.to(dtype=torch.float32)\n",
    "        }"
   ]
  },
  {
   "cell_type": "code",
   "execution_count": 30,
   "id": "9d845c0b-a3bb-446d-a893-7ed3c24818c8",
   "metadata": {
    "tags": []
   },
   "outputs": [
    {
     "name": "stdout",
     "output_type": "stream",
     "text": [
      "time: 496 µs (started: 2023-03-14 23:48:47 +05:30)\n"
     ]
    }
   ],
   "source": [
    "dataset = AQIDataset(input_paths, output_paths)"
   ]
  },
  {
   "cell_type": "code",
   "execution_count": 31,
   "id": "d63f1095-5ee0-429e-b978-3ba6bc0fe67d",
   "metadata": {
    "tags": []
   },
   "outputs": [
    {
     "data": {
      "text/plain": [
       "{'X': torch.Size([1, 3, 224, 224]),\n",
       " 'mask': torch.Size([1, 224, 224]),\n",
       " 'y': torch.Size([1, 224, 224])}"
      ]
     },
     "execution_count": 31,
     "metadata": {},
     "output_type": "execute_result"
    },
    {
     "name": "stdout",
     "output_type": "stream",
     "text": [
      "time: 90.5 ms (started: 2023-03-14 23:48:47 +05:30)\n"
     ]
    }
   ],
   "source": [
    "batch = dataset[0]\n",
    "{k: v.shape for k, v in batch.items()}"
   ]
  },
  {
   "cell_type": "code",
   "execution_count": 32,
   "id": "82d6c6d6",
   "metadata": {},
   "outputs": [
    {
     "data": {
      "text/plain": [
       "(tensor(0.4902), tensor(1.))"
      ]
     },
     "execution_count": 32,
     "metadata": {},
     "output_type": "execute_result"
    },
    {
     "name": "stdout",
     "output_type": "stream",
     "text": [
      "time: 12.6 ms (started: 2023-03-14 23:48:47 +05:30)\n"
     ]
    }
   ],
   "source": [
    "batch['y'].min(), batch['y'].max()"
   ]
  },
  {
   "cell_type": "code",
   "execution_count": 33,
   "id": "13759eb9-29a9-4bb1-9d80-7b82e82344cf",
   "metadata": {
    "tags": []
   },
   "outputs": [
    {
     "data": {
      "text/plain": [
       "57"
      ]
     },
     "execution_count": 33,
     "metadata": {},
     "output_type": "execute_result"
    },
    {
     "name": "stdout",
     "output_type": "stream",
     "text": [
      "time: 5.22 ms (started: 2023-03-14 23:48:47 +05:30)\n"
     ]
    }
   ],
   "source": [
    "len(dataset)"
   ]
  },
  {
   "cell_type": "code",
   "execution_count": 34,
   "id": "d366cd7b-ed50-4364-af7b-efc7bcd3bb40",
   "metadata": {
    "tags": []
   },
   "outputs": [
    {
     "data": {
      "image/png": "[encoded data removed]",
      "text/plain": [
       "<Figure size 1200x800 with 3 Axes>"
      ]
     },
     "metadata": {},
     "output_type": "display_data"
    },
    {
     "data": {
      "image/png": "[encoded data removed]",
      "text/plain": [
       "<Figure size 640x480 with 2 Axes>"
      ]
     },
     "metadata": {},
     "output_type": "display_data"
    },
    {
     "name": "stdout",
     "output_type": "stream",
     "text": [
      "time: 690 ms (started: 2023-03-14 23:48:47 +05:30)\n"
     ]
    }
   ],
   "source": [
    "fig, axs = plt.subplots(1, 3, figsize=(12, 8))\n",
    "for ix, ax in enumerate(axs.flatten()):\n",
    "    ax.imshow(batch['X'][0, ix, :, :].numpy().astype(np.uint8), cmap='gray')\n",
    "plt.tight_layout()\n",
    "plt.show()\n",
    "\n",
    "plt.subplot(121)\n",
    "plt.imshow(batch['mask'].permute(1, 2, 0).numpy().astype(np.uint8), cmap='gray')\n",
    "plt.title('Mask')\n",
    "\n",
    "plt.subplot(122)\n",
    "plt.imshow(batch['y'].permute(1, 2, 0).numpy().astype(np.uint8), cmap='gray')\n",
    "plt.title('y')\n",
    "\n",
    "plt.show()"
   ]
  },
  {
   "cell_type": "code",
   "execution_count": 35,
   "id": "1618f8e8-f8d0-435a-8150-679fdcde4f4d",
   "metadata": {
    "tags": []
   },
   "outputs": [
    {
     "data": {
      "text/plain": [
       "(tensor(1.), tensor(0.))"
      ]
     },
     "execution_count": 35,
     "metadata": {},
     "output_type": "execute_result"
    },
    {
     "name": "stdout",
     "output_type": "stream",
     "text": [
      "time: 5.39 ms (started: 2023-03-14 23:48:48 +05:30)\n"
     ]
    }
   ],
   "source": [
    "batch['mask'].max(), batch['mask'].min()"
   ]
  },
  {
   "cell_type": "code",
   "execution_count": 36,
   "id": "b5453ec4-872e-40ad-9145-c04fb0fb9ce4",
   "metadata": {
    "tags": []
   },
   "outputs": [
    {
     "data": {
      "text/plain": [
       "Pix2PixRNN(\n",
       "  (encoder): EncoderLayer(\n",
       "    (conv1): Conv2DLayer(\n",
       "      (conv): Conv2d(1, 32, kernel_size=(8, 8), stride=(4, 4), padding=(1, 1))\n",
       "      (bn): BatchNorm2d(32, eps=1e-05, momentum=0.1, affine=True, track_running_stats=True)\n",
       "    )\n",
       "    (conv2): Conv2DLayer(\n",
       "      (conv): Conv2d(32, 16, kernel_size=(2, 2), stride=(4, 4), padding=(1, 1))\n",
       "      (bn): BatchNorm2d(16, eps=1e-05, momentum=0.1, affine=True, track_running_stats=True)\n",
       "    )\n",
       "    (conv3): Conv2DLayer(\n",
       "      (conv): Conv2d(16, 1, kernel_size=(2, 2), stride=(1, 1), padding=(1, 1))\n",
       "      (bn): BatchNorm2d(1, eps=1e-05, momentum=0.1, affine=True, track_running_stats=True)\n",
       "    )\n",
       "    (fc): Linear(in_features=225, out_features=128, bias=True)\n",
       "  )\n",
       "  (lstm): LSTM(128, 512, num_layers=2, batch_first=True)\n",
       "  (decoder): DecoderLayer(\n",
       "    (conv1): Conv2DTransposeLayer(\n",
       "      (conv): ConvTranspose2d(512, 128, kernel_size=(6, 6), stride=(3, 3), padding=(1, 1))\n",
       "      (bn): BatchNorm2d(128, eps=1e-05, momentum=0.1, affine=True, track_running_stats=True)\n",
       "    )\n",
       "    (conv2): Conv2DTransposeLayer(\n",
       "      (conv): ConvTranspose2d(128, 64, kernel_size=(4, 4), stride=(4, 4), padding=(1, 1))\n",
       "      (bn): BatchNorm2d(64, eps=1e-05, momentum=0.1, affine=True, track_running_stats=True)\n",
       "    )\n",
       "    (conv3): Conv2DTransposeLayer(\n",
       "      (conv): ConvTranspose2d(64, 32, kernel_size=(4, 4), stride=(2, 2), padding=(1, 1))\n",
       "      (bn): BatchNorm2d(32, eps=1e-05, momentum=0.1, affine=True, track_running_stats=True)\n",
       "    )\n",
       "    (conv4): Conv2DTransposeLayer(\n",
       "      (conv): ConvTranspose2d(32, 16, kernel_size=(4, 4), stride=(2, 2), padding=(1, 1))\n",
       "      (bn): BatchNorm2d(16, eps=1e-05, momentum=0.1, affine=True, track_running_stats=True)\n",
       "    )\n",
       "    (conv5): Conv2DTransposeLayer(\n",
       "      (conv): ConvTranspose2d(16, 8, kernel_size=(4, 4), stride=(2, 2), padding=(1, 1))\n",
       "      (bn): BatchNorm2d(8, eps=1e-05, momentum=0.1, affine=True, track_running_stats=True)\n",
       "    )\n",
       "    (conv6): Conv2DTransposeLayer(\n",
       "      (conv): ConvTranspose2d(8, 1, kernel_size=(4, 4), stride=(2, 2), padding=(1, 1))\n",
       "      (bn): BatchNorm2d(1, eps=1e-05, momentum=0.1, affine=True, track_running_stats=True)\n",
       "    )\n",
       "  )\n",
       ")"
      ]
     },
     "execution_count": 36,
     "metadata": {},
     "output_type": "execute_result"
    },
    {
     "name": "stdout",
     "output_type": "stream",
     "text": [
      "time: 48.8 ms (started: 2023-03-14 23:48:48 +05:30)\n"
     ]
    }
   ],
   "source": [
    "model = Pix2PixRNN(in_channels=1)\n",
    "model"
   ]
  },
  {
   "cell_type": "code",
   "execution_count": 37,
   "id": "8b4cde49-43a8-4514-81fb-89e8321979ca",
   "metadata": {
    "tags": []
   },
   "outputs": [
    {
     "name": "stdout",
     "output_type": "stream",
     "text": [
      "time: 482 µs (started: 2023-03-14 23:48:48 +05:30)\n"
     ]
    }
   ],
   "source": [
    "loader = DataLoader(dataset, batch_size=4)"
   ]
  },
  {
   "cell_type": "code",
   "execution_count": 38,
   "id": "ee5a6e56-c6bc-4189-94fd-af7eb82b604d",
   "metadata": {
    "tags": []
   },
   "outputs": [
    {
     "data": {
      "text/plain": [
       "{'X': torch.Size([4, 1, 3, 224, 224]),\n",
       " 'mask': torch.Size([4, 1, 224, 224]),\n",
       " 'y': torch.Size([4, 1, 224, 224])}"
      ]
     },
     "execution_count": 38,
     "metadata": {},
     "output_type": "execute_result"
    },
    {
     "name": "stdout",
     "output_type": "stream",
     "text": [
      "time: 400 ms (started: 2023-03-14 23:48:48 +05:30)\n"
     ]
    }
   ],
   "source": [
    "batch = next(iter(loader))\n",
    "{k: v.shape for k, v in batch.items()}"
   ]
  },
  {
   "cell_type": "code",
   "execution_count": 39,
   "id": "9e8d43f3-23f8-401b-a44d-9edd73df8814",
   "metadata": {
    "tags": []
   },
   "outputs": [
    {
     "data": {
      "text/plain": [
       "torch.Size([4, 1, 224, 224])"
      ]
     },
     "execution_count": 39,
     "metadata": {},
     "output_type": "execute_result"
    },
    {
     "name": "stdout",
     "output_type": "stream",
     "text": [
      "time: 41.6 ms (started: 2023-03-14 23:48:48 +05:30)\n"
     ]
    }
   ],
   "source": [
    "y = model.forward(batch['X'])\n",
    "y.shape"
   ]
  },
  {
   "cell_type": "code",
   "execution_count": 40,
   "id": "d355c823-54c6-47ee-8c22-db58b11cb32b",
   "metadata": {
    "tags": []
   },
   "outputs": [
    {
     "data": {
      "text/plain": [
       "{'X': torch.Size([4, 1, 3, 224, 224]),\n",
       " 'mask': torch.Size([4, 1, 224, 224]),\n",
       " 'y': torch.Size([4, 1, 224, 224])}"
      ]
     },
     "execution_count": 40,
     "metadata": {},
     "output_type": "execute_result"
    },
    {
     "name": "stdout",
     "output_type": "stream",
     "text": [
      "time: 1.88 ms (started: 2023-03-14 23:48:48 +05:30)\n"
     ]
    }
   ],
   "source": [
    "{k: v.shape for k, v in batch.items()}"
   ]
  },
  {
   "cell_type": "code",
   "execution_count": 41,
   "id": "b998a3ef-797d-4415-9454-455a7c4a7115",
   "metadata": {
    "tags": []
   },
   "outputs": [
    {
     "name": "stdout",
     "output_type": "stream",
     "text": [
      "Predicted:-\n"
     ]
    },
    {
     "data": {
      "image/png": "[encoded data removed]",
      "text/plain": [
       "<Figure size 1200x800 with 4 Axes>"
      ]
     },
     "metadata": {},
     "output_type": "display_data"
    },
    {
     "name": "stdout",
     "output_type": "stream",
     "text": [
      "Masks:-\n"
     ]
    },
    {
     "data": {
      "image/png": "[encoded data removed]",
      "text/plain": [
       "<Figure size 1200x800 with 4 Axes>"
      ]
     },
     "metadata": {},
     "output_type": "display_data"
    },
    {
     "name": "stdout",
     "output_type": "stream",
     "text": [
      "Actual:-\n"
     ]
    },
    {
     "data": {
      "image/png": "[encoded data removed]",
      "text/plain": [
       "<Figure size 1200x800 with 4 Axes>"
      ]
     },
     "metadata": {},
     "output_type": "display_data"
    },
    {
     "name": "stdout",
     "output_type": "stream",
     "text": [
      "time: 1.57 s (started: 2023-03-14 23:48:48 +05:30)\n"
     ]
    }
   ],
   "source": [
    "print('Predicted:-')\n",
    "fig, axs = plt.subplots(1, 4, figsize=(12, 8))\n",
    "for ix, ax in enumerate(axs.flatten()):\n",
    "    ax.imshow(y[ix, ...].detach().permute(1, 2, 0).numpy().astype(np.uint8), cmap='gray')\n",
    "plt.tight_layout()\n",
    "plt.show()\n",
    "\n",
    "print('Masks:-')\n",
    "fig, axs = plt.subplots(1, 4, figsize=(12, 8))\n",
    "for ix, ax in enumerate(axs.flatten()):\n",
    "    ax.imshow(batch['mask'][ix].permute(1, 2, 0).numpy().astype(np.uint8), cmap='gray')\n",
    "plt.tight_layout()\n",
    "plt.show()\n",
    "\n",
    "print('Actual:-')\n",
    "fig, axs = plt.subplots(1, 4, figsize=(12, 8))\n",
    "for ix, ax in enumerate(axs.flatten()):\n",
    "    ax.imshow(batch['y'][ix].permute(1, 2, 0).numpy().astype(np.uint8), cmap='gray')\n",
    "plt.tight_layout()\n",
    "plt.show()"
   ]
  },
  {
   "cell_type": "code",
   "execution_count": 42,
   "id": "08de3d34",
   "metadata": {},
   "outputs": [
    {
     "data": {
      "text/plain": [
       "(tensor(1.), tensor(0.))"
      ]
     },
     "execution_count": 42,
     "metadata": {},
     "output_type": "execute_result"
    },
    {
     "name": "stdout",
     "output_type": "stream",
     "text": [
      "time: 4.9 ms (started: 2023-03-14 23:48:50 +05:30)\n"
     ]
    }
   ],
   "source": [
    "batch['mask'].max(), batch['mask'].min()"
   ]
  },
  {
   "cell_type": "code",
   "execution_count": 43,
   "id": "e4b431fb-a198-4ad6-b1f2-d48280b794e3",
   "metadata": {
    "tags": []
   },
   "outputs": [
    {
     "data": {
      "text/plain": [
       "(57, 57)"
      ]
     },
     "execution_count": 43,
     "metadata": {},
     "output_type": "execute_result"
    },
    {
     "name": "stdout",
     "output_type": "stream",
     "text": [
      "time: 10.6 ms (started: 2023-03-14 23:48:50 +05:30)\n"
     ]
    }
   ],
   "source": [
    "len(input_paths), len(output_paths)"
   ]
  },
  {
   "cell_type": "code",
   "execution_count": 44,
   "id": "a69a691b-cd35-4d59-9430-2dfeb5d451b5",
   "metadata": {
    "tags": []
   },
   "outputs": [
    {
     "data": {
      "text/plain": [
       "{'input': 48, 'output': 48}"
      ]
     },
     "execution_count": 44,
     "metadata": {},
     "output_type": "execute_result"
    },
    {
     "name": "stdout",
     "output_type": "stream",
     "text": [
      "time: 2.98 ms (started: 2023-03-14 23:48:50 +05:30)\n"
     ]
    }
   ],
   "source": [
    "train_paths = {\n",
    "    'input': input_paths[:48], \n",
    "    'output': output_paths[:48]\n",
    "}\n",
    "\n",
    "valid_paths = {\n",
    "    'input': input_paths[48: ],\n",
    "    'output': output_paths[48: ]\n",
    "}\n",
    "\n",
    "{k: len(v) for k, v in train_paths.items()}"
   ]
  },
  {
   "cell_type": "code",
   "execution_count": 45,
   "id": "85aaf1b8-ac8c-4f11-bea2-83a8f941034c",
   "metadata": {
    "tags": []
   },
   "outputs": [
    {
     "data": {
      "text/plain": [
       "{'input': 9, 'output': 9}"
      ]
     },
     "execution_count": 45,
     "metadata": {},
     "output_type": "execute_result"
    },
    {
     "name": "stdout",
     "output_type": "stream",
     "text": [
      "time: 3.73 ms (started: 2023-03-14 23:48:50 +05:30)\n"
     ]
    }
   ],
   "source": [
    "{k: len(v) for k, v in valid_paths.items()}"
   ]
  },
  {
   "cell_type": "code",
   "execution_count": 46,
   "id": "be59ad24-a87f-457c-b920-96b5fd11bbe9",
   "metadata": {
    "tags": []
   },
   "outputs": [
    {
     "name": "stdout",
     "output_type": "stream",
     "text": [
      "time: 1.68 ms (started: 2023-03-14 23:48:50 +05:30)\n"
     ]
    }
   ],
   "source": [
    "train_dataset = AQIDataset(input_paths=train_paths['input'], output_paths=train_paths['output'])\n",
    "valid_dataset = AQIDataset(input_paths=valid_paths['input'], output_paths=valid_paths['output'])\n",
    "\n",
    "train_loader = DataLoader(dataset=train_dataset, batch_size=config.train_bs)\n",
    "valid_loader = DataLoader(dataset=valid_dataset, batch_size=config.valid_bs)"
   ]
  },
  {
   "cell_type": "code",
   "execution_count": 47,
   "id": "21c0eaa3-216c-4922-9c64-0c2dc9f27587",
   "metadata": {
    "tags": []
   },
   "outputs": [
    {
     "data": {
      "text/plain": [
       "({'X': torch.Size([1, 1, 3, 224, 224]),\n",
       "  'mask': torch.Size([1, 1, 224, 224]),\n",
       "  'y': torch.Size([1, 1, 224, 224])},\n",
       " 48)"
      ]
     },
     "execution_count": 47,
     "metadata": {},
     "output_type": "execute_result"
    },
    {
     "name": "stdout",
     "output_type": "stream",
     "text": [
      "time: 96.8 ms (started: 2023-03-14 23:48:50 +05:30)\n"
     ]
    }
   ],
   "source": [
    "batch = next(iter(train_loader))\n",
    "{k: v.shape for k, v in batch.items()}, len(train_loader)"
   ]
  },
  {
   "cell_type": "code",
   "execution_count": 48,
   "id": "1758adb0-c9ec-4eb0-8487-c042fa1a9f92",
   "metadata": {
    "tags": []
   },
   "outputs": [
    {
     "data": {
      "text/plain": [
       "({'X': torch.Size([1, 1, 3, 224, 224]),\n",
       "  'mask': torch.Size([1, 1, 224, 224]),\n",
       "  'y': torch.Size([1, 1, 224, 224])},\n",
       " 9)"
      ]
     },
     "execution_count": 48,
     "metadata": {},
     "output_type": "execute_result"
    },
    {
     "name": "stdout",
     "output_type": "stream",
     "text": [
      "time: 86.1 ms (started: 2023-03-14 23:48:50 +05:30)\n"
     ]
    }
   ],
   "source": [
    "batch = next(iter(valid_loader))\n",
    "{k: v.shape for k, v in batch.items()}, len(valid_loader)"
   ]
  },
  {
   "cell_type": "code",
   "execution_count": 49,
   "id": "f1640281",
   "metadata": {},
   "outputs": [
    {
     "data": {
      "text/plain": [
       "Pix2PixRNN(\n",
       "  (encoder): EncoderLayer(\n",
       "    (conv1): Conv2DLayer(\n",
       "      (conv): Conv2d(1, 32, kernel_size=(8, 8), stride=(4, 4), padding=(1, 1))\n",
       "      (bn): BatchNorm2d(32, eps=1e-05, momentum=0.1, affine=True, track_running_stats=True)\n",
       "    )\n",
       "    (conv2): Conv2DLayer(\n",
       "      (conv): Conv2d(32, 16, kernel_size=(2, 2), stride=(4, 4), padding=(1, 1))\n",
       "      (bn): BatchNorm2d(16, eps=1e-05, momentum=0.1, affine=True, track_running_stats=True)\n",
       "    )\n",
       "    (conv3): Conv2DLayer(\n",
       "      (conv): Conv2d(16, 1, kernel_size=(2, 2), stride=(1, 1), padding=(1, 1))\n",
       "      (bn): BatchNorm2d(1, eps=1e-05, momentum=0.1, affine=True, track_running_stats=True)\n",
       "    )\n",
       "    (fc): Linear(in_features=225, out_features=128, bias=True)\n",
       "  )\n",
       "  (lstm): LSTM(128, 512, num_layers=2, batch_first=True)\n",
       "  (decoder): DecoderLayer(\n",
       "    (conv1): Conv2DTransposeLayer(\n",
       "      (conv): ConvTranspose2d(512, 128, kernel_size=(6, 6), stride=(3, 3), padding=(1, 1))\n",
       "      (bn): BatchNorm2d(128, eps=1e-05, momentum=0.1, affine=True, track_running_stats=True)\n",
       "    )\n",
       "    (conv2): Conv2DTransposeLayer(\n",
       "      (conv): ConvTranspose2d(128, 64, kernel_size=(4, 4), stride=(4, 4), padding=(1, 1))\n",
       "      (bn): BatchNorm2d(64, eps=1e-05, momentum=0.1, affine=True, track_running_stats=True)\n",
       "    )\n",
       "    (conv3): Conv2DTransposeLayer(\n",
       "      (conv): ConvTranspose2d(64, 32, kernel_size=(4, 4), stride=(2, 2), padding=(1, 1))\n",
       "      (bn): BatchNorm2d(32, eps=1e-05, momentum=0.1, affine=True, track_running_stats=True)\n",
       "    )\n",
       "    (conv4): Conv2DTransposeLayer(\n",
       "      (conv): ConvTranspose2d(32, 16, kernel_size=(4, 4), stride=(2, 2), padding=(1, 1))\n",
       "      (bn): BatchNorm2d(16, eps=1e-05, momentum=0.1, affine=True, track_running_stats=True)\n",
       "    )\n",
       "    (conv5): Conv2DTransposeLayer(\n",
       "      (conv): ConvTranspose2d(16, 8, kernel_size=(4, 4), stride=(2, 2), padding=(1, 1))\n",
       "      (bn): BatchNorm2d(8, eps=1e-05, momentum=0.1, affine=True, track_running_stats=True)\n",
       "    )\n",
       "    (conv6): Conv2DTransposeLayer(\n",
       "      (conv): ConvTranspose2d(8, 1, kernel_size=(4, 4), stride=(2, 2), padding=(1, 1))\n",
       "      (bn): BatchNorm2d(1, eps=1e-05, momentum=0.1, affine=True, track_running_stats=True)\n",
       "    )\n",
       "  )\n",
       ")"
      ]
     },
     "execution_count": 49,
     "metadata": {},
     "output_type": "execute_result"
    },
    {
     "name": "stdout",
     "output_type": "stream",
     "text": [
      "time: 99.3 ms (started: 2023-03-14 23:48:50 +05:30)\n"
     ]
    }
   ],
   "source": [
    "model = Pix2PixRNN(in_channels=1)\n",
    "model"
   ]
  },
  {
   "cell_type": "code",
   "execution_count": 50,
   "id": "93454667",
   "metadata": {},
   "outputs": [
    {
     "name": "stdout",
     "output_type": "stream",
     "text": [
      "time: 801 µs (started: 2023-03-14 23:48:50 +05:30)\n"
     ]
    }
   ],
   "source": [
    "if os.path.exists('../../best-models/'):\n",
    "    pass\n",
    "else:\n",
    "    os.mkdir('../../best-models/')"
   ]
  },
  {
   "cell_type": "code",
   "execution_count": 51,
   "id": "24f39f48-f491-4ad6-814a-5df1d2720691",
   "metadata": {
    "scrolled": true,
    "tags": []
   },
   "outputs": [
    {
     "name": "stderr",
     "output_type": "stream",
     "text": [
      "\u001b[34m\u001b[1mwandb\u001b[0m: Currently logged in as: \u001b[33maaparajit02\u001b[0m. Use \u001b[1m`wandb login --relogin`\u001b[0m to force relogin\n"
     ]
    },
    {
     "data": {
      "application/vnd.jupyter.widget-view+json": {
       "model_id": "6d4de87c16a74a078b2dadb28cace872",
       "version_major": 2,
       "version_minor": 0
      },
      "text/plain": [
       "VBox(children=(Label(value='Waiting for wandb.init()...\\r'), FloatProgress(value=0.016734504166682502, max=1.0…"
      ]
     },
     "metadata": {},
     "output_type": "display_data"
    },
    {
     "data": {
      "text/html": [
       "Tracking run with wandb version 0.13.11"
      ],
      "text/plain": [
       "<IPython.core.display.HTML object>"
      ]
     },
     "metadata": {},
     "output_type": "display_data"
    },
    {
     "data": {
      "text/html": [
       "Run data is saved locally in <code>/Users/aneeshaparajit/Desktop/NASSCOM-TAIM/pix2pix_rnn/src/aqiai/notebooks/wandb/run-20230314_234853-blfvc0zt</code>"
      ],
      "text/plain": [
       "<IPython.core.display.HTML object>"
      ]
     },
     "metadata": {},
     "output_type": "display_data"
    },
    {
     "data": {
      "text/html": [
       "Syncing run <strong><a href='https://wandb.ai/aaparajit02/nasscom-taim/runs/blfvc0zt' target=\"_blank\">iteration-1</a></strong> to <a href='https://wandb.ai/aaparajit02/nasscom-taim' target=\"_blank\">Weights & Biases</a> (<a href='https://wandb.me/run' target=\"_blank\">docs</a>)<br/>"
      ],
      "text/plain": [
       "<IPython.core.display.HTML object>"
      ]
     },
     "metadata": {},
     "output_type": "display_data"
    },
    {
     "data": {
      "text/html": [
       " View project at <a href='https://wandb.ai/aaparajit02/nasscom-taim' target=\"_blank\">https://wandb.ai/aaparajit02/nasscom-taim</a>"
      ],
      "text/plain": [
       "<IPython.core.display.HTML object>"
      ]
     },
     "metadata": {},
     "output_type": "display_data"
    },
    {
     "data": {
      "text/html": [
       " View run at <a href='https://wandb.ai/aaparajit02/nasscom-taim/runs/blfvc0zt' target=\"_blank\">https://wandb.ai/aaparajit02/nasscom-taim/runs/blfvc0zt</a>"
      ],
      "text/plain": [
       "<IPython.core.display.HTML object>"
      ]
     },
     "metadata": {},
     "output_type": "display_data"
    },
    {
     "name": "stdout",
     "output_type": "stream",
     "text": [
      "\t\t\t\t\t### EPOCH 1 ###\n"
     ]
    },
    {
     "name": "stderr",
     "output_type": "stream",
     "text": [
      "Train: 100%|████████████| 48/48 [00:04<00:00, 10.88it/s, loss=0.002, lr=0.00030]\n",
      "Evaluation: 100%|█████████████████████████████████| 9/9 [00:01<00:00,  5.39it/s]\n"
     ]
    },
    {
     "name": "stdout",
     "output_type": "stream",
     "text": [
      "Validation Loss: 0.00151\n",
      "\u001b[32mValidation decreased from inf to 0.00151\n",
      "Model Saved\u001b[0m\n",
      "\t\t\t\t\t### EPOCH 2 ###\n"
     ]
    },
    {
     "name": "stderr",
     "output_type": "stream",
     "text": [
      "Train: 100%|████████████| 48/48 [00:04<00:00, 10.97it/s, loss=0.001, lr=0.00030]\n",
      "Evaluation: 100%|█████████████████████████████████| 9/9 [00:00<00:00, 10.21it/s]\n"
     ]
    },
    {
     "name": "stdout",
     "output_type": "stream",
     "text": [
      "Validation Loss: 0.00104\n",
      "\u001b[32mValidation decreased from 0.00151 to 0.00104\n",
      "Model Saved\u001b[0m\n",
      "\t\t\t\t\t### EPOCH 3 ###\n"
     ]
    },
    {
     "name": "stderr",
     "output_type": "stream",
     "text": [
      "Train: 100%|████████████| 48/48 [00:04<00:00, 11.05it/s, loss=0.001, lr=0.00030]\n",
      "Evaluation: 100%|█████████████████████████████████| 9/9 [00:00<00:00, 10.15it/s]\n"
     ]
    },
    {
     "name": "stdout",
     "output_type": "stream",
     "text": [
      "Validation Loss: 0.00096\n",
      "\u001b[32mValidation decreased from 0.00104 to 0.00096\n",
      "Model Saved\u001b[0m\n",
      "\t\t\t\t\t### EPOCH 4 ###\n"
     ]
    },
    {
     "name": "stderr",
     "output_type": "stream",
     "text": [
      "Train: 100%|████████████| 48/48 [00:04<00:00, 10.98it/s, loss=0.001, lr=0.00030]\n",
      "Evaluation: 100%|█████████████████████████████████| 9/9 [00:00<00:00, 10.10it/s]\n"
     ]
    },
    {
     "name": "stdout",
     "output_type": "stream",
     "text": [
      "Validation Loss: 0.00092\n",
      "\u001b[32mValidation decreased from 0.00096 to 0.00092\n",
      "Model Saved\u001b[0m\n",
      "\t\t\t\t\t### EPOCH 5 ###\n"
     ]
    },
    {
     "name": "stderr",
     "output_type": "stream",
     "text": [
      "Train: 100%|████████████| 48/48 [00:04<00:00, 10.88it/s, loss=0.001, lr=0.00030]\n",
      "Evaluation: 100%|█████████████████████████████████| 9/9 [00:00<00:00, 10.07it/s]\n"
     ]
    },
    {
     "name": "stdout",
     "output_type": "stream",
     "text": [
      "Validation Loss: 0.00091\n",
      "\u001b[32mValidation decreased from 0.00092 to 0.00091\n",
      "Model Saved\u001b[0m\n",
      "\t\t\t\t\t### EPOCH 6 ###\n"
     ]
    },
    {
     "name": "stderr",
     "output_type": "stream",
     "text": [
      "Train: 100%|████████████| 48/48 [00:04<00:00, 10.99it/s, loss=0.001, lr=0.00030]\n",
      "Evaluation: 100%|█████████████████████████████████| 9/9 [00:00<00:00, 10.09it/s]\n"
     ]
    },
    {
     "name": "stdout",
     "output_type": "stream",
     "text": [
      "Validation Loss: 0.00091\n",
      "\u001b[32mValidation decreased from 0.00091 to 0.00091\n",
      "Model Saved\u001b[0m\n",
      "\t\t\t\t\t### EPOCH 7 ###\n"
     ]
    },
    {
     "name": "stderr",
     "output_type": "stream",
     "text": [
      "Train: 100%|████████████| 48/48 [00:04<00:00, 11.00it/s, loss=0.001, lr=0.00030]\n",
      "Evaluation: 100%|█████████████████████████████████| 9/9 [00:00<00:00, 10.23it/s]\n"
     ]
    },
    {
     "name": "stdout",
     "output_type": "stream",
     "text": [
      "Validation Loss: 0.00088\n",
      "\u001b[32mValidation decreased from 0.00091 to 0.00088\n",
      "Model Saved\u001b[0m\n",
      "\t\t\t\t\t### EPOCH 8 ###\n"
     ]
    },
    {
     "name": "stderr",
     "output_type": "stream",
     "text": [
      "Train: 100%|████████████| 48/48 [00:04<00:00, 11.05it/s, loss=0.001, lr=0.00030]\n",
      "Evaluation: 100%|█████████████████████████████████| 9/9 [00:00<00:00, 10.02it/s]\n"
     ]
    },
    {
     "name": "stdout",
     "output_type": "stream",
     "text": [
      "Validation Loss: 0.00087\n",
      "\u001b[32mValidation decreased from 0.00088 to 0.00087\n",
      "Model Saved\u001b[0m\n",
      "\t\t\t\t\t### EPOCH 9 ###\n"
     ]
    },
    {
     "name": "stderr",
     "output_type": "stream",
     "text": [
      "Train: 100%|████████████| 48/48 [00:04<00:00, 10.92it/s, loss=0.001, lr=0.00030]\n",
      "Evaluation: 100%|█████████████████████████████████| 9/9 [00:00<00:00, 10.22it/s]\n"
     ]
    },
    {
     "name": "stdout",
     "output_type": "stream",
     "text": [
      "Validation Loss: 0.00085\n",
      "\u001b[32mValidation decreased from 0.00087 to 0.00085\n",
      "Model Saved\u001b[0m\n",
      "\t\t\t\t\t### EPOCH 10 ###\n"
     ]
    },
    {
     "name": "stderr",
     "output_type": "stream",
     "text": [
      "Train: 100%|████████████| 48/48 [00:04<00:00, 10.67it/s, loss=0.001, lr=0.00030]\n",
      "Evaluation: 100%|█████████████████████████████████| 9/9 [00:00<00:00, 10.12it/s]\n"
     ]
    },
    {
     "name": "stdout",
     "output_type": "stream",
     "text": [
      "Validation Loss: 0.00085\n",
      "\u001b[32mValidation decreased from 0.00085 to 0.00085\n",
      "Model Saved\u001b[0m\n",
      "\t\t\t\t\t### EPOCH 11 ###\n"
     ]
    },
    {
     "name": "stderr",
     "output_type": "stream",
     "text": [
      "Train: 100%|████████████| 48/48 [00:04<00:00, 11.12it/s, loss=0.001, lr=0.00030]\n",
      "Evaluation: 100%|█████████████████████████████████| 9/9 [00:00<00:00, 10.13it/s]\n"
     ]
    },
    {
     "name": "stdout",
     "output_type": "stream",
     "text": [
      "Validation Loss: 0.00083\n",
      "\u001b[32mValidation decreased from 0.00085 to 0.00083\n",
      "Model Saved\u001b[0m\n",
      "\t\t\t\t\t### EPOCH 12 ###\n"
     ]
    },
    {
     "name": "stderr",
     "output_type": "stream",
     "text": [
      "Train: 100%|████████████| 48/48 [00:04<00:00, 11.00it/s, loss=0.001, lr=0.00030]\n",
      "Evaluation: 100%|█████████████████████████████████| 9/9 [00:00<00:00,  9.90it/s]\n"
     ]
    },
    {
     "name": "stdout",
     "output_type": "stream",
     "text": [
      "Validation Loss: 0.00085\n",
      "\t\t\t\t\t### EPOCH 13 ###\n"
     ]
    },
    {
     "name": "stderr",
     "output_type": "stream",
     "text": [
      "Train: 100%|████████████| 48/48 [00:04<00:00, 10.96it/s, loss=0.001, lr=0.00030]\n",
      "Evaluation: 100%|█████████████████████████████████| 9/9 [00:00<00:00,  9.86it/s]\n"
     ]
    },
    {
     "name": "stdout",
     "output_type": "stream",
     "text": [
      "Validation Loss: 0.00079\n",
      "\u001b[32mValidation decreased from 0.00083 to 0.00079\n",
      "Model Saved\u001b[0m\n",
      "\t\t\t\t\t### EPOCH 14 ###\n"
     ]
    },
    {
     "name": "stderr",
     "output_type": "stream",
     "text": [
      "Train: 100%|████████████| 48/48 [00:04<00:00, 11.13it/s, loss=0.001, lr=0.00030]\n",
      "Evaluation: 100%|█████████████████████████████████| 9/9 [00:00<00:00,  9.91it/s]\n"
     ]
    },
    {
     "name": "stdout",
     "output_type": "stream",
     "text": [
      "Validation Loss: 0.00078\n",
      "\u001b[32mValidation decreased from 0.00079 to 0.00078\n",
      "Model Saved\u001b[0m\n",
      "\t\t\t\t\t### EPOCH 15 ###\n"
     ]
    },
    {
     "name": "stderr",
     "output_type": "stream",
     "text": [
      "Train: 100%|████████████| 48/48 [00:04<00:00, 11.02it/s, loss=0.001, lr=0.00030]\n",
      "Evaluation: 100%|█████████████████████████████████| 9/9 [00:00<00:00,  9.97it/s]\n"
     ]
    },
    {
     "name": "stdout",
     "output_type": "stream",
     "text": [
      "Validation Loss: 0.00077\n",
      "\u001b[32mValidation decreased from 0.00078 to 0.00077\n",
      "Model Saved\u001b[0m\n",
      "\t\t\t\t\t### EPOCH 16 ###\n"
     ]
    },
    {
     "name": "stderr",
     "output_type": "stream",
     "text": [
      "Train: 100%|████████████| 48/48 [00:04<00:00, 10.94it/s, loss=0.001, lr=0.00030]\n",
      "Evaluation: 100%|█████████████████████████████████| 9/9 [00:00<00:00,  9.91it/s]\n"
     ]
    },
    {
     "name": "stdout",
     "output_type": "stream",
     "text": [
      "Validation Loss: 0.00076\n",
      "\u001b[32mValidation decreased from 0.00077 to 0.00076\n",
      "Model Saved\u001b[0m\n",
      "\t\t\t\t\t### EPOCH 17 ###\n"
     ]
    },
    {
     "name": "stderr",
     "output_type": "stream",
     "text": [
      "Train: 100%|████████████| 48/48 [00:04<00:00, 10.97it/s, loss=0.001, lr=0.00030]\n",
      "Evaluation: 100%|█████████████████████████████████| 9/9 [00:00<00:00, 10.14it/s]\n"
     ]
    },
    {
     "name": "stdout",
     "output_type": "stream",
     "text": [
      "Validation Loss: 0.00075\n",
      "\u001b[32mValidation decreased from 0.00076 to 0.00075\n",
      "Model Saved\u001b[0m\n",
      "\t\t\t\t\t### EPOCH 18 ###\n"
     ]
    },
    {
     "name": "stderr",
     "output_type": "stream",
     "text": [
      "Train: 100%|████████████| 48/48 [00:04<00:00, 10.99it/s, loss=0.001, lr=0.00030]\n",
      "Evaluation: 100%|█████████████████████████████████| 9/9 [00:00<00:00, 10.21it/s]\n"
     ]
    },
    {
     "name": "stdout",
     "output_type": "stream",
     "text": [
      "Validation Loss: 0.00075\n",
      "\u001b[32mValidation decreased from 0.00075 to 0.00075\n",
      "Model Saved\u001b[0m\n",
      "\t\t\t\t\t### EPOCH 19 ###\n"
     ]
    },
    {
     "name": "stderr",
     "output_type": "stream",
     "text": [
      "Train: 100%|████████████| 48/48 [00:04<00:00, 11.00it/s, loss=0.001, lr=0.00030]\n",
      "Evaluation: 100%|█████████████████████████████████| 9/9 [00:00<00:00, 10.20it/s]\n"
     ]
    },
    {
     "name": "stdout",
     "output_type": "stream",
     "text": [
      "Validation Loss: 0.00075\n",
      "\t\t\t\t\t### EPOCH 20 ###\n"
     ]
    },
    {
     "name": "stderr",
     "output_type": "stream",
     "text": [
      "Train: 100%|████████████| 48/48 [00:04<00:00, 11.09it/s, loss=0.001, lr=0.00030]\n",
      "Evaluation: 100%|█████████████████████████████████| 9/9 [00:01<00:00,  8.95it/s]\n"
     ]
    },
    {
     "name": "stdout",
     "output_type": "stream",
     "text": [
      "Validation Loss: 0.00075\n",
      "\u001b[32mValidation decreased from 0.00075 to 0.00075\n",
      "Model Saved\u001b[0m\n",
      "\t\t\t\t\t### EPOCH 21 ###\n"
     ]
    },
    {
     "name": "stderr",
     "output_type": "stream",
     "text": [
      "Train: 100%|████████████| 48/48 [00:04<00:00, 11.09it/s, loss=0.001, lr=0.00030]\n",
      "Evaluation: 100%|█████████████████████████████████| 9/9 [00:00<00:00, 10.24it/s]\n"
     ]
    },
    {
     "name": "stdout",
     "output_type": "stream",
     "text": [
      "Validation Loss: 0.00077\n",
      "\t\t\t\t\t### EPOCH 22 ###\n"
     ]
    },
    {
     "name": "stderr",
     "output_type": "stream",
     "text": [
      "Train: 100%|████████████| 48/48 [00:04<00:00, 11.21it/s, loss=0.001, lr=0.00030]\n",
      "Evaluation: 100%|█████████████████████████████████| 9/9 [00:00<00:00, 10.22it/s]\n"
     ]
    },
    {
     "name": "stdout",
     "output_type": "stream",
     "text": [
      "Validation Loss: 0.00074\n",
      "\u001b[32mValidation decreased from 0.00075 to 0.00074\n",
      "Model Saved\u001b[0m\n",
      "\t\t\t\t\t### EPOCH 23 ###\n"
     ]
    },
    {
     "name": "stderr",
     "output_type": "stream",
     "text": [
      "Train: 100%|████████████| 48/48 [00:04<00:00, 11.18it/s, loss=0.001, lr=0.00030]\n",
      "Evaluation: 100%|█████████████████████████████████| 9/9 [00:00<00:00, 10.02it/s]\n"
     ]
    },
    {
     "name": "stdout",
     "output_type": "stream",
     "text": [
      "Validation Loss: 0.00075\n",
      "\t\t\t\t\t### EPOCH 24 ###\n"
     ]
    },
    {
     "name": "stderr",
     "output_type": "stream",
     "text": [
      "Train: 100%|████████████| 48/48 [00:04<00:00, 10.94it/s, loss=0.001, lr=0.00030]\n",
      "Evaluation: 100%|█████████████████████████████████| 9/9 [00:00<00:00,  9.26it/s]\n"
     ]
    },
    {
     "name": "stdout",
     "output_type": "stream",
     "text": [
      "Validation Loss: 0.00074\n",
      "\u001b[32mValidation decreased from 0.00074 to 0.00074\n",
      "Model Saved\u001b[0m\n",
      "\t\t\t\t\t### EPOCH 25 ###\n"
     ]
    },
    {
     "name": "stderr",
     "output_type": "stream",
     "text": [
      "Train: 100%|████████████| 48/48 [00:05<00:00,  8.60it/s, loss=0.001, lr=0.00030]\n",
      "Evaluation: 100%|█████████████████████████████████| 9/9 [00:00<00:00,  9.96it/s]\n"
     ]
    },
    {
     "name": "stdout",
     "output_type": "stream",
     "text": [
      "Validation Loss: 0.00083\n",
      "\t\t\t\t\t### EPOCH 26 ###\n"
     ]
    },
    {
     "name": "stderr",
     "output_type": "stream",
     "text": [
      "Train: 100%|████████████| 48/48 [00:04<00:00, 11.21it/s, loss=0.001, lr=0.00030]\n",
      "Evaluation: 100%|█████████████████████████████████| 9/9 [00:00<00:00, 10.06it/s]\n"
     ]
    },
    {
     "name": "stdout",
     "output_type": "stream",
     "text": [
      "Validation Loss: 0.00073\n",
      "\u001b[32mValidation decreased from 0.00074 to 0.00073\n",
      "Model Saved\u001b[0m\n",
      "\t\t\t\t\t### EPOCH 27 ###\n"
     ]
    },
    {
     "name": "stderr",
     "output_type": "stream",
     "text": [
      "Train: 100%|████████████| 48/48 [00:04<00:00, 11.15it/s, loss=0.001, lr=0.00030]\n",
      "Evaluation: 100%|█████████████████████████████████| 9/9 [00:00<00:00, 10.03it/s]\n"
     ]
    },
    {
     "name": "stdout",
     "output_type": "stream",
     "text": [
      "Validation Loss: 0.00071\n",
      "\u001b[32mValidation decreased from 0.00073 to 0.00071\n",
      "Model Saved\u001b[0m\n",
      "\t\t\t\t\t### EPOCH 28 ###\n"
     ]
    },
    {
     "name": "stderr",
     "output_type": "stream",
     "text": [
      "Train: 100%|████████████| 48/48 [00:04<00:00, 10.95it/s, loss=0.001, lr=0.00030]\n",
      "Evaluation: 100%|█████████████████████████████████| 9/9 [00:00<00:00, 10.04it/s]\n"
     ]
    },
    {
     "name": "stdout",
     "output_type": "stream",
     "text": [
      "Validation Loss: 0.00126\n",
      "\t\t\t\t\t### EPOCH 29 ###\n"
     ]
    },
    {
     "name": "stderr",
     "output_type": "stream",
     "text": [
      "Train: 100%|████████████| 48/48 [00:04<00:00, 11.04it/s, loss=0.001, lr=0.00030]\n",
      "Evaluation: 100%|█████████████████████████████████| 9/9 [00:00<00:00, 10.04it/s]\n"
     ]
    },
    {
     "name": "stdout",
     "output_type": "stream",
     "text": [
      "Validation Loss: 0.00069\n",
      "\u001b[32mValidation decreased from 0.00071 to 0.00069\n",
      "Model Saved\u001b[0m\n",
      "\t\t\t\t\t### EPOCH 30 ###\n"
     ]
    },
    {
     "name": "stderr",
     "output_type": "stream",
     "text": [
      "Train: 100%|████████████| 48/48 [00:04<00:00, 11.03it/s, loss=0.001, lr=0.00030]\n",
      "Evaluation: 100%|█████████████████████████████████| 9/9 [00:00<00:00, 10.16it/s]\n"
     ]
    },
    {
     "name": "stdout",
     "output_type": "stream",
     "text": [
      "Validation Loss: 0.00069\n",
      "\u001b[32mValidation decreased from 0.00069 to 0.00069\n",
      "Model Saved\u001b[0m\n",
      "\t\t\t\t\t### EPOCH 31 ###\n"
     ]
    },
    {
     "name": "stderr",
     "output_type": "stream",
     "text": [
      "Train: 100%|████████████| 48/48 [00:04<00:00, 10.99it/s, loss=0.000, lr=0.00030]\n",
      "Evaluation: 100%|█████████████████████████████████| 9/9 [00:00<00:00, 10.25it/s]\n"
     ]
    },
    {
     "name": "stdout",
     "output_type": "stream",
     "text": [
      "Validation Loss: 0.00067\n",
      "\u001b[32mValidation decreased from 0.00069 to 0.00067\n",
      "Model Saved\u001b[0m\n",
      "\t\t\t\t\t### EPOCH 32 ###\n"
     ]
    },
    {
     "name": "stderr",
     "output_type": "stream",
     "text": [
      "Train: 100%|████████████| 48/48 [00:04<00:00, 11.06it/s, loss=0.000, lr=0.00030]\n",
      "Evaluation: 100%|█████████████████████████████████| 9/9 [00:00<00:00, 10.21it/s]\n"
     ]
    },
    {
     "name": "stdout",
     "output_type": "stream",
     "text": [
      "Validation Loss: 0.00067\n",
      "\u001b[32mValidation decreased from 0.00067 to 0.00067\n",
      "Model Saved\u001b[0m\n",
      "\t\t\t\t\t### EPOCH 33 ###\n"
     ]
    },
    {
     "name": "stderr",
     "output_type": "stream",
     "text": [
      "Train: 100%|████████████| 48/48 [00:04<00:00, 10.97it/s, loss=0.001, lr=0.00030]\n",
      "Evaluation: 100%|█████████████████████████████████| 9/9 [00:00<00:00, 10.14it/s]\n"
     ]
    },
    {
     "name": "stdout",
     "output_type": "stream",
     "text": [
      "Validation Loss: 0.00065\n",
      "\u001b[32mValidation decreased from 0.00067 to 0.00065\n",
      "Model Saved\u001b[0m\n",
      "\t\t\t\t\t### EPOCH 34 ###\n"
     ]
    },
    {
     "name": "stderr",
     "output_type": "stream",
     "text": [
      "Train: 100%|████████████| 48/48 [00:04<00:00, 11.01it/s, loss=0.000, lr=0.00030]\n",
      "Evaluation: 100%|█████████████████████████████████| 9/9 [00:00<00:00, 10.09it/s]\n"
     ]
    },
    {
     "name": "stdout",
     "output_type": "stream",
     "text": [
      "Validation Loss: 0.00064\n",
      "\u001b[32mValidation decreased from 0.00065 to 0.00064\n",
      "Model Saved\u001b[0m\n",
      "\t\t\t\t\t### EPOCH 35 ###\n"
     ]
    },
    {
     "name": "stderr",
     "output_type": "stream",
     "text": [
      "Train: 100%|████████████| 48/48 [00:04<00:00, 11.19it/s, loss=0.000, lr=0.00030]\n",
      "Evaluation: 100%|█████████████████████████████████| 9/9 [00:00<00:00, 10.14it/s]\n"
     ]
    },
    {
     "name": "stdout",
     "output_type": "stream",
     "text": [
      "Validation Loss: 0.00063\n",
      "\u001b[32mValidation decreased from 0.00064 to 0.00063\n",
      "Model Saved\u001b[0m\n",
      "\t\t\t\t\t### EPOCH 36 ###\n"
     ]
    },
    {
     "name": "stderr",
     "output_type": "stream",
     "text": [
      "Train: 100%|████████████| 48/48 [00:04<00:00, 11.03it/s, loss=0.000, lr=0.00030]\n",
      "Evaluation: 100%|█████████████████████████████████| 9/9 [00:00<00:00, 10.22it/s]\n"
     ]
    },
    {
     "name": "stdout",
     "output_type": "stream",
     "text": [
      "Validation Loss: 0.00068\n",
      "\t\t\t\t\t### EPOCH 37 ###\n"
     ]
    },
    {
     "name": "stderr",
     "output_type": "stream",
     "text": [
      "Train: 100%|████████████| 48/48 [00:04<00:00, 11.15it/s, loss=0.000, lr=0.00030]\n",
      "Evaluation: 100%|█████████████████████████████████| 9/9 [00:00<00:00, 10.08it/s]\n"
     ]
    },
    {
     "name": "stdout",
     "output_type": "stream",
     "text": [
      "Validation Loss: 0.00061\n",
      "\u001b[32mValidation decreased from 0.00063 to 0.00061\n",
      "Model Saved\u001b[0m\n",
      "\t\t\t\t\t### EPOCH 38 ###\n"
     ]
    },
    {
     "name": "stderr",
     "output_type": "stream",
     "text": [
      "Train: 100%|████████████| 48/48 [00:04<00:00, 11.21it/s, loss=0.000, lr=0.00030]\n",
      "Evaluation: 100%|█████████████████████████████████| 9/9 [00:00<00:00, 10.15it/s]\n"
     ]
    },
    {
     "name": "stdout",
     "output_type": "stream",
     "text": [
      "Validation Loss: 0.00070\n",
      "\t\t\t\t\t### EPOCH 39 ###\n"
     ]
    },
    {
     "name": "stderr",
     "output_type": "stream",
     "text": [
      "Train: 100%|████████████| 48/48 [00:04<00:00, 11.30it/s, loss=0.000, lr=0.00030]\n",
      "Evaluation: 100%|█████████████████████████████████| 9/9 [00:00<00:00, 10.18it/s]\n"
     ]
    },
    {
     "name": "stdout",
     "output_type": "stream",
     "text": [
      "Validation Loss: 0.00063\n",
      "\t\t\t\t\t### EPOCH 40 ###\n"
     ]
    },
    {
     "name": "stderr",
     "output_type": "stream",
     "text": [
      "Train: 100%|████████████| 48/48 [00:04<00:00, 11.22it/s, loss=0.000, lr=0.00030]\n",
      "Evaluation: 100%|█████████████████████████████████| 9/9 [00:00<00:00, 10.07it/s]\n"
     ]
    },
    {
     "name": "stdout",
     "output_type": "stream",
     "text": [
      "Validation Loss: 0.00065\n",
      "\t\t\t\t\t### EPOCH 41 ###\n"
     ]
    },
    {
     "name": "stderr",
     "output_type": "stream",
     "text": [
      "Train: 100%|████████████| 48/48 [00:04<00:00, 11.35it/s, loss=0.000, lr=0.00030]\n",
      "Evaluation: 100%|█████████████████████████████████| 9/9 [00:00<00:00, 10.16it/s]\n"
     ]
    },
    {
     "name": "stdout",
     "output_type": "stream",
     "text": [
      "Validation Loss: 0.00063\n",
      "\t\t\t\t\t### EPOCH 42 ###\n"
     ]
    },
    {
     "name": "stderr",
     "output_type": "stream",
     "text": [
      "Train: 100%|████████████| 48/48 [00:04<00:00, 11.23it/s, loss=0.000, lr=0.00030]\n",
      "Evaluation: 100%|█████████████████████████████████| 9/9 [00:00<00:00, 10.09it/s]\n"
     ]
    },
    {
     "name": "stdout",
     "output_type": "stream",
     "text": [
      "Validation Loss: 0.00061\n",
      "\t\t\t\t\t### EPOCH 43 ###\n"
     ]
    },
    {
     "name": "stderr",
     "output_type": "stream",
     "text": [
      "Train: 100%|████████████| 48/48 [00:04<00:00, 11.34it/s, loss=0.000, lr=0.00030]\n",
      "Evaluation: 100%|█████████████████████████████████| 9/9 [00:00<00:00, 10.11it/s]\n"
     ]
    },
    {
     "name": "stdout",
     "output_type": "stream",
     "text": [
      "Validation Loss: 0.00067\n",
      "\t\t\t\t\t### EPOCH 44 ###\n"
     ]
    },
    {
     "name": "stderr",
     "output_type": "stream",
     "text": [
      "Train: 100%|████████████| 48/48 [00:04<00:00, 11.25it/s, loss=0.000, lr=0.00030]\n",
      "Evaluation: 100%|█████████████████████████████████| 9/9 [00:00<00:00, 10.08it/s]\n"
     ]
    },
    {
     "name": "stdout",
     "output_type": "stream",
     "text": [
      "Validation Loss: 0.00065\n",
      "\t\t\t\t\t### EPOCH 45 ###\n"
     ]
    },
    {
     "name": "stderr",
     "output_type": "stream",
     "text": [
      "Train: 100%|████████████| 48/48 [00:04<00:00, 11.31it/s, loss=0.000, lr=0.00030]\n",
      "Evaluation: 100%|█████████████████████████████████| 9/9 [00:00<00:00, 10.02it/s]\n"
     ]
    },
    {
     "name": "stdout",
     "output_type": "stream",
     "text": [
      "Validation Loss: 0.00062\n",
      "\t\t\t\t\t### EPOCH 46 ###\n"
     ]
    },
    {
     "name": "stderr",
     "output_type": "stream",
     "text": [
      "Train: 100%|████████████| 48/48 [00:04<00:00, 11.23it/s, loss=0.000, lr=0.00030]\n",
      "Evaluation: 100%|█████████████████████████████████| 9/9 [00:00<00:00, 10.07it/s]\n"
     ]
    },
    {
     "name": "stdout",
     "output_type": "stream",
     "text": [
      "Validation Loss: 0.00063\n",
      "\t\t\t\t\t### EPOCH 47 ###\n"
     ]
    },
    {
     "name": "stderr",
     "output_type": "stream",
     "text": [
      "Train: 100%|████████████| 48/48 [00:04<00:00, 11.32it/s, loss=0.000, lr=0.00030]\n",
      "Evaluation: 100%|█████████████████████████████████| 9/9 [00:00<00:00,  9.94it/s]\n"
     ]
    },
    {
     "name": "stdout",
     "output_type": "stream",
     "text": [
      "Validation Loss: 0.00061\n",
      "\t\t\t\t\t### EPOCH 48 ###\n"
     ]
    },
    {
     "name": "stderr",
     "output_type": "stream",
     "text": [
      "Train: 100%|████████████| 48/48 [00:04<00:00, 11.24it/s, loss=0.000, lr=0.00030]\n",
      "Evaluation: 100%|█████████████████████████████████| 9/9 [00:00<00:00,  9.94it/s]\n"
     ]
    },
    {
     "name": "stdout",
     "output_type": "stream",
     "text": [
      "Validation Loss: 0.00060\n",
      "\u001b[32mValidation decreased from 0.00061 to 0.00060\n",
      "Model Saved\u001b[0m\n",
      "\t\t\t\t\t### EPOCH 49 ###\n"
     ]
    },
    {
     "name": "stderr",
     "output_type": "stream",
     "text": [
      "Train: 100%|████████████| 48/48 [00:04<00:00, 11.08it/s, loss=0.000, lr=0.00030]\n",
      "Evaluation: 100%|█████████████████████████████████| 9/9 [00:00<00:00,  9.92it/s]\n"
     ]
    },
    {
     "name": "stdout",
     "output_type": "stream",
     "text": [
      "Validation Loss: 0.00060\n",
      "\u001b[32mValidation decreased from 0.00060 to 0.00060\n",
      "Model Saved\u001b[0m\n",
      "\t\t\t\t\t### EPOCH 50 ###\n"
     ]
    },
    {
     "name": "stderr",
     "output_type": "stream",
     "text": [
      "Train: 100%|████████████| 48/48 [00:04<00:00, 11.00it/s, loss=0.000, lr=0.00030]\n",
      "Evaluation: 100%|█████████████████████████████████| 9/9 [00:00<00:00,  9.80it/s]\n"
     ]
    },
    {
     "name": "stdout",
     "output_type": "stream",
     "text": [
      "Validation Loss: 0.00060\n",
      "\t\t\t\t\t### EPOCH 51 ###\n"
     ]
    },
    {
     "name": "stderr",
     "output_type": "stream",
     "text": [
      "Train: 100%|████████████| 48/48 [00:04<00:00, 11.14it/s, loss=0.000, lr=0.00030]\n",
      "Evaluation: 100%|█████████████████████████████████| 9/9 [00:00<00:00,  9.88it/s]\n"
     ]
    },
    {
     "name": "stdout",
     "output_type": "stream",
     "text": [
      "Validation Loss: 0.00058\n",
      "\u001b[32mValidation decreased from 0.00060 to 0.00058\n",
      "Model Saved\u001b[0m\n",
      "\t\t\t\t\t### EPOCH 52 ###\n"
     ]
    },
    {
     "name": "stderr",
     "output_type": "stream",
     "text": [
      "Train: 100%|████████████| 48/48 [00:04<00:00, 11.13it/s, loss=0.000, lr=0.00030]\n",
      "Evaluation: 100%|█████████████████████████████████| 9/9 [00:00<00:00, 10.12it/s]\n"
     ]
    },
    {
     "name": "stdout",
     "output_type": "stream",
     "text": [
      "Validation Loss: 0.00058\n",
      "\t\t\t\t\t### EPOCH 53 ###\n"
     ]
    },
    {
     "name": "stderr",
     "output_type": "stream",
     "text": [
      "Train: 100%|████████████| 48/48 [00:04<00:00, 10.97it/s, loss=0.000, lr=0.00030]\n",
      "Evaluation: 100%|█████████████████████████████████| 9/9 [00:00<00:00, 10.17it/s]\n"
     ]
    },
    {
     "name": "stdout",
     "output_type": "stream",
     "text": [
      "Validation Loss: 0.00060\n",
      "\t\t\t\t\t### EPOCH 54 ###\n"
     ]
    },
    {
     "name": "stderr",
     "output_type": "stream",
     "text": [
      "Train: 100%|████████████| 48/48 [00:04<00:00, 11.02it/s, loss=0.000, lr=0.00030]\n",
      "Evaluation: 100%|█████████████████████████████████| 9/9 [00:00<00:00, 10.19it/s]\n"
     ]
    },
    {
     "name": "stdout",
     "output_type": "stream",
     "text": [
      "Validation Loss: 0.00057\n",
      "\u001b[32mValidation decreased from 0.00058 to 0.00057\n",
      "Model Saved\u001b[0m\n",
      "\t\t\t\t\t### EPOCH 55 ###\n"
     ]
    },
    {
     "name": "stderr",
     "output_type": "stream",
     "text": [
      "Train: 100%|████████████| 48/48 [00:04<00:00, 10.83it/s, loss=0.000, lr=0.00030]\n",
      "Evaluation: 100%|█████████████████████████████████| 9/9 [00:00<00:00, 10.21it/s]\n"
     ]
    },
    {
     "name": "stdout",
     "output_type": "stream",
     "text": [
      "Validation Loss: 0.00058\n",
      "\t\t\t\t\t### EPOCH 56 ###\n"
     ]
    },
    {
     "name": "stderr",
     "output_type": "stream",
     "text": [
      "Train: 100%|████████████| 48/48 [00:04<00:00, 10.91it/s, loss=0.000, lr=0.00030]\n",
      "Evaluation: 100%|█████████████████████████████████| 9/9 [00:00<00:00, 10.10it/s]\n"
     ]
    },
    {
     "name": "stdout",
     "output_type": "stream",
     "text": [
      "Validation Loss: 0.00058\n",
      "\t\t\t\t\t### EPOCH 57 ###\n"
     ]
    },
    {
     "name": "stderr",
     "output_type": "stream",
     "text": [
      "Train: 100%|████████████| 48/48 [00:04<00:00, 10.86it/s, loss=0.000, lr=0.00030]\n",
      "Evaluation: 100%|█████████████████████████████████| 9/9 [00:00<00:00, 10.21it/s]\n"
     ]
    },
    {
     "name": "stdout",
     "output_type": "stream",
     "text": [
      "Validation Loss: 0.00059\n",
      "\t\t\t\t\t### EPOCH 58 ###\n"
     ]
    },
    {
     "name": "stderr",
     "output_type": "stream",
     "text": [
      "Train: 100%|████████████| 48/48 [00:04<00:00, 10.69it/s, loss=0.000, lr=0.00030]\n",
      "Evaluation: 100%|█████████████████████████████████| 9/9 [00:00<00:00,  9.93it/s]\n"
     ]
    },
    {
     "name": "stdout",
     "output_type": "stream",
     "text": [
      "Validation Loss: 0.00057\n",
      "\u001b[32mValidation decreased from 0.00057 to 0.00057\n",
      "Model Saved\u001b[0m\n",
      "\t\t\t\t\t### EPOCH 59 ###\n"
     ]
    },
    {
     "name": "stderr",
     "output_type": "stream",
     "text": [
      "Train: 100%|████████████| 48/48 [00:04<00:00, 10.57it/s, loss=0.000, lr=0.00030]\n",
      "Evaluation: 100%|█████████████████████████████████| 9/9 [00:00<00:00,  9.88it/s]\n"
     ]
    },
    {
     "name": "stdout",
     "output_type": "stream",
     "text": [
      "Validation Loss: 0.00057\n",
      "\t\t\t\t\t### EPOCH 60 ###\n"
     ]
    },
    {
     "name": "stderr",
     "output_type": "stream",
     "text": [
      "Train: 100%|████████████| 48/48 [00:04<00:00, 10.87it/s, loss=0.000, lr=0.00030]\n",
      "Evaluation: 100%|█████████████████████████████████| 9/9 [00:00<00:00,  9.94it/s]\n"
     ]
    },
    {
     "name": "stdout",
     "output_type": "stream",
     "text": [
      "Validation Loss: 0.00056\n",
      "\u001b[32mValidation decreased from 0.00057 to 0.00056\n",
      "Model Saved\u001b[0m\n",
      "\t\t\t\t\t### EPOCH 61 ###\n"
     ]
    },
    {
     "name": "stderr",
     "output_type": "stream",
     "text": [
      "Train: 100%|████████████| 48/48 [00:04<00:00, 10.97it/s, loss=0.000, lr=0.00030]\n",
      "Evaluation: 100%|█████████████████████████████████| 9/9 [00:00<00:00,  9.95it/s]\n"
     ]
    },
    {
     "name": "stdout",
     "output_type": "stream",
     "text": [
      "Validation Loss: 0.00056\n",
      "\u001b[32mValidation decreased from 0.00056 to 0.00056\n",
      "Model Saved\u001b[0m\n",
      "\t\t\t\t\t### EPOCH 62 ###\n"
     ]
    },
    {
     "name": "stderr",
     "output_type": "stream",
     "text": [
      "Train: 100%|████████████| 48/48 [00:04<00:00, 11.02it/s, loss=0.000, lr=0.00030]\n",
      "Evaluation: 100%|█████████████████████████████████| 9/9 [00:00<00:00,  9.90it/s]\n"
     ]
    },
    {
     "name": "stdout",
     "output_type": "stream",
     "text": [
      "Validation Loss: 0.00054\n",
      "\u001b[32mValidation decreased from 0.00056 to 0.00054\n",
      "Model Saved\u001b[0m\n",
      "\t\t\t\t\t### EPOCH 63 ###\n"
     ]
    },
    {
     "name": "stderr",
     "output_type": "stream",
     "text": [
      "Train: 100%|████████████| 48/48 [00:04<00:00, 10.76it/s, loss=0.000, lr=0.00030]\n",
      "Evaluation: 100%|█████████████████████████████████| 9/9 [00:00<00:00,  9.92it/s]\n"
     ]
    },
    {
     "name": "stdout",
     "output_type": "stream",
     "text": [
      "Validation Loss: 0.00054\n",
      "\t\t\t\t\t### EPOCH 64 ###\n"
     ]
    },
    {
     "name": "stderr",
     "output_type": "stream",
     "text": [
      "Train: 100%|████████████| 48/48 [00:04<00:00, 10.74it/s, loss=0.000, lr=0.00030]\n",
      "Evaluation: 100%|█████████████████████████████████| 9/9 [00:00<00:00,  9.84it/s]\n"
     ]
    },
    {
     "name": "stdout",
     "output_type": "stream",
     "text": [
      "Validation Loss: 0.00055\n",
      "\t\t\t\t\t### EPOCH 65 ###\n"
     ]
    },
    {
     "name": "stderr",
     "output_type": "stream",
     "text": [
      "Train: 100%|████████████| 48/48 [00:04<00:00, 10.58it/s, loss=0.000, lr=0.00030]\n",
      "Evaluation: 100%|█████████████████████████████████| 9/9 [00:00<00:00, 10.07it/s]\n"
     ]
    },
    {
     "name": "stdout",
     "output_type": "stream",
     "text": [
      "Validation Loss: 0.00054\n",
      "\t\t\t\t\t### EPOCH 66 ###\n"
     ]
    },
    {
     "name": "stderr",
     "output_type": "stream",
     "text": [
      "Train: 100%|████████████| 48/48 [00:04<00:00, 10.80it/s, loss=0.000, lr=0.00030]\n",
      "Evaluation: 100%|█████████████████████████████████| 9/9 [00:00<00:00, 10.07it/s]\n"
     ]
    },
    {
     "name": "stdout",
     "output_type": "stream",
     "text": [
      "Validation Loss: 0.00054\n",
      "\u001b[32mValidation decreased from 0.00054 to 0.00054\n",
      "Model Saved\u001b[0m\n",
      "\t\t\t\t\t### EPOCH 67 ###\n"
     ]
    },
    {
     "name": "stderr",
     "output_type": "stream",
     "text": [
      "Train: 100%|████████████| 48/48 [00:04<00:00, 10.79it/s, loss=0.000, lr=0.00030]\n",
      "Evaluation: 100%|█████████████████████████████████| 9/9 [00:00<00:00,  9.93it/s]\n"
     ]
    },
    {
     "name": "stdout",
     "output_type": "stream",
     "text": [
      "Validation Loss: 0.00055\n",
      "\t\t\t\t\t### EPOCH 68 ###\n"
     ]
    },
    {
     "name": "stderr",
     "output_type": "stream",
     "text": [
      "Train: 100%|████████████| 48/48 [00:04<00:00, 10.99it/s, loss=0.000, lr=0.00030]\n",
      "Evaluation: 100%|█████████████████████████████████| 9/9 [00:00<00:00, 10.11it/s]\n"
     ]
    },
    {
     "name": "stdout",
     "output_type": "stream",
     "text": [
      "Validation Loss: 0.00053\n",
      "\u001b[32mValidation decreased from 0.00054 to 0.00053\n",
      "Model Saved\u001b[0m\n",
      "\t\t\t\t\t### EPOCH 69 ###\n"
     ]
    },
    {
     "name": "stderr",
     "output_type": "stream",
     "text": [
      "Train: 100%|████████████| 48/48 [00:04<00:00, 10.68it/s, loss=0.000, lr=0.00030]\n",
      "Evaluation: 100%|█████████████████████████████████| 9/9 [00:00<00:00, 10.15it/s]\n"
     ]
    },
    {
     "name": "stdout",
     "output_type": "stream",
     "text": [
      "Validation Loss: 0.00052\n",
      "\u001b[32mValidation decreased from 0.00053 to 0.00052\n",
      "Model Saved\u001b[0m\n",
      "\t\t\t\t\t### EPOCH 70 ###\n"
     ]
    },
    {
     "name": "stderr",
     "output_type": "stream",
     "text": [
      "Train: 100%|████████████| 48/48 [00:04<00:00, 10.86it/s, loss=0.000, lr=0.00030]\n",
      "Evaluation: 100%|█████████████████████████████████| 9/9 [00:00<00:00, 10.23it/s]\n"
     ]
    },
    {
     "name": "stdout",
     "output_type": "stream",
     "text": [
      "Validation Loss: 0.00055\n",
      "\t\t\t\t\t### EPOCH 71 ###\n"
     ]
    },
    {
     "name": "stderr",
     "output_type": "stream",
     "text": [
      "Train: 100%|████████████| 48/48 [00:04<00:00, 11.02it/s, loss=0.000, lr=0.00030]\n",
      "Evaluation: 100%|█████████████████████████████████| 9/9 [00:00<00:00, 10.12it/s]\n"
     ]
    },
    {
     "name": "stdout",
     "output_type": "stream",
     "text": [
      "Validation Loss: 0.00055\n",
      "\t\t\t\t\t### EPOCH 72 ###\n"
     ]
    },
    {
     "name": "stderr",
     "output_type": "stream",
     "text": [
      "Train: 100%|████████████| 48/48 [00:04<00:00, 10.98it/s, loss=0.000, lr=0.00030]\n",
      "Evaluation: 100%|█████████████████████████████████| 9/9 [00:00<00:00,  9.86it/s]\n"
     ]
    },
    {
     "name": "stdout",
     "output_type": "stream",
     "text": [
      "Validation Loss: 0.00054\n",
      "\t\t\t\t\t### EPOCH 73 ###\n"
     ]
    },
    {
     "name": "stderr",
     "output_type": "stream",
     "text": [
      "Train: 100%|████████████| 48/48 [00:04<00:00,  9.90it/s, loss=0.000, lr=0.00030]\n",
      "Evaluation: 100%|█████████████████████████████████| 9/9 [00:01<00:00,  8.03it/s]\n"
     ]
    },
    {
     "name": "stdout",
     "output_type": "stream",
     "text": [
      "Validation Loss: 0.00056\n",
      "\t\t\t\t\t### EPOCH 74 ###\n"
     ]
    },
    {
     "name": "stderr",
     "output_type": "stream",
     "text": [
      "Train: 100%|████████████| 48/48 [00:04<00:00, 10.38it/s, loss=0.000, lr=0.00030]\n",
      "Evaluation: 100%|█████████████████████████████████| 9/9 [00:00<00:00,  9.86it/s]\n"
     ]
    },
    {
     "name": "stdout",
     "output_type": "stream",
     "text": [
      "Validation Loss: 0.00054\n",
      "\t\t\t\t\t### EPOCH 75 ###\n"
     ]
    },
    {
     "name": "stderr",
     "output_type": "stream",
     "text": [
      "Train: 100%|████████████| 48/48 [00:04<00:00, 10.43it/s, loss=0.000, lr=0.00030]\n",
      "Evaluation: 100%|█████████████████████████████████| 9/9 [00:00<00:00,  9.92it/s]\n"
     ]
    },
    {
     "name": "stdout",
     "output_type": "stream",
     "text": [
      "Validation Loss: 0.00054\n",
      "\t\t\t\t\t### EPOCH 76 ###\n"
     ]
    },
    {
     "name": "stderr",
     "output_type": "stream",
     "text": [
      "Train: 100%|████████████| 48/48 [00:04<00:00, 10.61it/s, loss=0.000, lr=0.00030]\n",
      "Evaluation: 100%|█████████████████████████████████| 9/9 [00:00<00:00,  9.87it/s]\n"
     ]
    },
    {
     "name": "stdout",
     "output_type": "stream",
     "text": [
      "Validation Loss: 0.00054\n",
      "\t\t\t\t\t### EPOCH 77 ###\n"
     ]
    },
    {
     "name": "stderr",
     "output_type": "stream",
     "text": [
      "Train: 100%|████████████| 48/48 [00:04<00:00, 10.61it/s, loss=0.000, lr=0.00030]\n",
      "Evaluation: 100%|█████████████████████████████████| 9/9 [00:00<00:00,  9.67it/s]\n"
     ]
    },
    {
     "name": "stdout",
     "output_type": "stream",
     "text": [
      "Validation Loss: 0.00054\n",
      "\t\t\t\t\t### EPOCH 78 ###\n"
     ]
    },
    {
     "name": "stderr",
     "output_type": "stream",
     "text": [
      "Train: 100%|████████████| 48/48 [00:04<00:00, 10.18it/s, loss=0.000, lr=0.00030]\n",
      "Evaluation: 100%|█████████████████████████████████| 9/9 [00:01<00:00,  7.41it/s]\n"
     ]
    },
    {
     "name": "stdout",
     "output_type": "stream",
     "text": [
      "Validation Loss: 0.00051\n",
      "\u001b[32mValidation decreased from 0.00052 to 0.00051\n",
      "Model Saved\u001b[0m\n",
      "\t\t\t\t\t### EPOCH 79 ###\n"
     ]
    },
    {
     "name": "stderr",
     "output_type": "stream",
     "text": [
      "Train: 100%|████████████| 48/48 [00:06<00:00,  7.28it/s, loss=0.000, lr=0.00030]\n",
      "Evaluation: 100%|█████████████████████████████████| 9/9 [00:00<00:00, 10.08it/s]\n"
     ]
    },
    {
     "name": "stdout",
     "output_type": "stream",
     "text": [
      "Validation Loss: 0.00054\n",
      "\t\t\t\t\t### EPOCH 80 ###\n"
     ]
    },
    {
     "name": "stderr",
     "output_type": "stream",
     "text": [
      "Train: 100%|████████████| 48/48 [00:04<00:00, 10.60it/s, loss=0.000, lr=0.00030]\n",
      "Evaluation: 100%|█████████████████████████████████| 9/9 [00:00<00:00, 10.04it/s]\n"
     ]
    },
    {
     "name": "stdout",
     "output_type": "stream",
     "text": [
      "Validation Loss: 0.00054\n",
      "\t\t\t\t\t### EPOCH 81 ###\n"
     ]
    },
    {
     "name": "stderr",
     "output_type": "stream",
     "text": [
      "Train: 100%|████████████| 48/48 [00:04<00:00, 10.75it/s, loss=0.000, lr=0.00030]\n",
      "Evaluation: 100%|█████████████████████████████████| 9/9 [00:00<00:00,  9.75it/s]\n"
     ]
    },
    {
     "name": "stdout",
     "output_type": "stream",
     "text": [
      "Validation Loss: 0.00054\n",
      "\t\t\t\t\t### EPOCH 82 ###\n"
     ]
    },
    {
     "name": "stderr",
     "output_type": "stream",
     "text": [
      "Train: 100%|████████████| 48/48 [00:04<00:00, 10.74it/s, loss=0.000, lr=0.00030]\n",
      "Evaluation: 100%|█████████████████████████████████| 9/9 [00:00<00:00,  9.92it/s]\n"
     ]
    },
    {
     "name": "stdout",
     "output_type": "stream",
     "text": [
      "Validation Loss: 0.00056\n",
      "\t\t\t\t\t### EPOCH 83 ###\n"
     ]
    },
    {
     "name": "stderr",
     "output_type": "stream",
     "text": [
      "Train: 100%|████████████| 48/48 [00:04<00:00, 10.92it/s, loss=0.000, lr=0.00030]\n",
      "Evaluation: 100%|█████████████████████████████████| 9/9 [00:00<00:00,  9.71it/s]\n"
     ]
    },
    {
     "name": "stdout",
     "output_type": "stream",
     "text": [
      "Validation Loss: 0.00061\n",
      "\t\t\t\t\t### EPOCH 84 ###\n"
     ]
    },
    {
     "name": "stderr",
     "output_type": "stream",
     "text": [
      "Train: 100%|████████████| 48/48 [00:04<00:00, 10.88it/s, loss=0.000, lr=0.00030]\n",
      "Evaluation: 100%|█████████████████████████████████| 9/9 [00:00<00:00,  9.83it/s]\n"
     ]
    },
    {
     "name": "stdout",
     "output_type": "stream",
     "text": [
      "Validation Loss: 0.00054\n",
      "\t\t\t\t\t### EPOCH 85 ###\n"
     ]
    },
    {
     "name": "stderr",
     "output_type": "stream",
     "text": [
      "Train: 100%|████████████| 48/48 [00:04<00:00, 11.02it/s, loss=0.000, lr=0.00030]\n",
      "Evaluation: 100%|█████████████████████████████████| 9/9 [00:00<00:00,  9.92it/s]\n"
     ]
    },
    {
     "name": "stdout",
     "output_type": "stream",
     "text": [
      "Validation Loss: 0.00062\n",
      "\t\t\t\t\t### EPOCH 86 ###\n"
     ]
    },
    {
     "name": "stderr",
     "output_type": "stream",
     "text": [
      "Train: 100%|████████████| 48/48 [00:04<00:00, 10.80it/s, loss=0.000, lr=0.00030]\n",
      "Evaluation: 100%|█████████████████████████████████| 9/9 [00:00<00:00, 10.00it/s]\n"
     ]
    },
    {
     "name": "stdout",
     "output_type": "stream",
     "text": [
      "Validation Loss: 0.00052\n",
      "\t\t\t\t\t### EPOCH 87 ###\n"
     ]
    },
    {
     "name": "stderr",
     "output_type": "stream",
     "text": [
      "Train: 100%|████████████| 48/48 [00:04<00:00, 10.78it/s, loss=0.000, lr=0.00030]\n",
      "Evaluation: 100%|█████████████████████████████████| 9/9 [00:00<00:00, 10.01it/s]\n"
     ]
    },
    {
     "name": "stdout",
     "output_type": "stream",
     "text": [
      "Validation Loss: 0.00048\n",
      "\u001b[32mValidation decreased from 0.00051 to 0.00048\n",
      "Model Saved\u001b[0m\n",
      "\t\t\t\t\t### EPOCH 88 ###\n"
     ]
    },
    {
     "name": "stderr",
     "output_type": "stream",
     "text": [
      "Train: 100%|████████████| 48/48 [00:04<00:00, 11.06it/s, loss=0.000, lr=0.00030]\n",
      "Evaluation: 100%|█████████████████████████████████| 9/9 [00:00<00:00, 10.23it/s]\n"
     ]
    },
    {
     "name": "stdout",
     "output_type": "stream",
     "text": [
      "Validation Loss: 0.00053\n",
      "\t\t\t\t\t### EPOCH 89 ###\n"
     ]
    },
    {
     "name": "stderr",
     "output_type": "stream",
     "text": [
      "Train: 100%|████████████| 48/48 [00:04<00:00, 11.14it/s, loss=0.000, lr=0.00030]\n",
      "Evaluation: 100%|█████████████████████████████████| 9/9 [00:00<00:00, 10.09it/s]\n"
     ]
    },
    {
     "name": "stdout",
     "output_type": "stream",
     "text": [
      "Validation Loss: 0.00053\n",
      "\t\t\t\t\t### EPOCH 90 ###\n"
     ]
    },
    {
     "name": "stderr",
     "output_type": "stream",
     "text": [
      "Train: 100%|████████████| 48/48 [00:04<00:00, 11.07it/s, loss=0.000, lr=0.00030]\n",
      "Evaluation: 100%|█████████████████████████████████| 9/9 [00:00<00:00, 10.04it/s]\n"
     ]
    },
    {
     "name": "stdout",
     "output_type": "stream",
     "text": [
      "Validation Loss: 0.00052\n",
      "\t\t\t\t\t### EPOCH 91 ###\n"
     ]
    },
    {
     "name": "stderr",
     "output_type": "stream",
     "text": [
      "Train: 100%|████████████| 48/48 [00:04<00:00, 11.17it/s, loss=0.000, lr=0.00030]\n",
      "Evaluation: 100%|█████████████████████████████████| 9/9 [00:00<00:00, 10.25it/s]\n"
     ]
    },
    {
     "name": "stdout",
     "output_type": "stream",
     "text": [
      "Validation Loss: 0.00054\n",
      "\t\t\t\t\t### EPOCH 92 ###\n"
     ]
    },
    {
     "name": "stderr",
     "output_type": "stream",
     "text": [
      "Train: 100%|████████████| 48/48 [00:04<00:00, 11.04it/s, loss=0.000, lr=0.00030]\n",
      "Evaluation: 100%|█████████████████████████████████| 9/9 [00:00<00:00, 10.05it/s]\n"
     ]
    },
    {
     "name": "stdout",
     "output_type": "stream",
     "text": [
      "Validation Loss: 0.00050\n",
      "\t\t\t\t\t### EPOCH 93 ###\n"
     ]
    },
    {
     "name": "stderr",
     "output_type": "stream",
     "text": [
      "Train: 100%|████████████| 48/48 [00:04<00:00, 11.04it/s, loss=0.000, lr=0.00030]\n",
      "Evaluation: 100%|█████████████████████████████████| 9/9 [00:00<00:00, 10.22it/s]\n"
     ]
    },
    {
     "name": "stdout",
     "output_type": "stream",
     "text": [
      "Validation Loss: 0.00052\n",
      "\t\t\t\t\t### EPOCH 94 ###\n"
     ]
    },
    {
     "name": "stderr",
     "output_type": "stream",
     "text": [
      "Train: 100%|████████████| 48/48 [00:04<00:00, 10.98it/s, loss=0.000, lr=0.00030]\n",
      "Evaluation: 100%|█████████████████████████████████| 9/9 [00:00<00:00, 10.05it/s]\n"
     ]
    },
    {
     "name": "stdout",
     "output_type": "stream",
     "text": [
      "Validation Loss: 0.00053\n",
      "\t\t\t\t\t### EPOCH 95 ###\n"
     ]
    },
    {
     "name": "stderr",
     "output_type": "stream",
     "text": [
      "Train: 100%|████████████| 48/48 [00:04<00:00, 11.07it/s, loss=0.000, lr=0.00030]\n",
      "Evaluation: 100%|█████████████████████████████████| 9/9 [00:00<00:00, 10.15it/s]\n"
     ]
    },
    {
     "name": "stdout",
     "output_type": "stream",
     "text": [
      "Validation Loss: 0.00053\n",
      "\t\t\t\t\t### EPOCH 96 ###\n"
     ]
    },
    {
     "name": "stderr",
     "output_type": "stream",
     "text": [
      "Train: 100%|████████████| 48/48 [00:04<00:00, 10.95it/s, loss=0.000, lr=0.00030]\n",
      "Evaluation: 100%|█████████████████████████████████| 9/9 [00:00<00:00, 10.09it/s]\n"
     ]
    },
    {
     "name": "stdout",
     "output_type": "stream",
     "text": [
      "Validation Loss: 0.00051\n",
      "\t\t\t\t\t### EPOCH 97 ###\n"
     ]
    },
    {
     "name": "stderr",
     "output_type": "stream",
     "text": [
      "Train: 100%|████████████| 48/48 [00:04<00:00, 11.07it/s, loss=0.000, lr=0.00030]\n",
      "Evaluation: 100%|█████████████████████████████████| 9/9 [00:00<00:00,  9.98it/s]\n"
     ]
    },
    {
     "name": "stdout",
     "output_type": "stream",
     "text": [
      "Validation Loss: 0.00050\n",
      "\t\t\t\t\t### EPOCH 98 ###\n"
     ]
    },
    {
     "name": "stderr",
     "output_type": "stream",
     "text": [
      "Train: 100%|████████████| 48/48 [00:04<00:00, 11.02it/s, loss=0.000, lr=0.00030]\n",
      "Evaluation: 100%|█████████████████████████████████| 9/9 [00:00<00:00,  9.78it/s]\n"
     ]
    },
    {
     "name": "stdout",
     "output_type": "stream",
     "text": [
      "Validation Loss: 0.00051\n",
      "\t\t\t\t\t### EPOCH 99 ###\n"
     ]
    },
    {
     "name": "stderr",
     "output_type": "stream",
     "text": [
      "Train: 100%|████████████| 48/48 [00:04<00:00, 11.07it/s, loss=0.000, lr=0.00030]\n",
      "Evaluation: 100%|█████████████████████████████████| 9/9 [00:00<00:00,  9.91it/s]\n"
     ]
    },
    {
     "name": "stdout",
     "output_type": "stream",
     "text": [
      "Validation Loss: 0.00051\n",
      "\t\t\t\t\t### EPOCH 100 ###\n"
     ]
    },
    {
     "name": "stderr",
     "output_type": "stream",
     "text": [
      "Train: 100%|████████████| 48/48 [00:04<00:00, 11.08it/s, loss=0.000, lr=0.00030]\n",
      "Evaluation: 100%|█████████████████████████████████| 9/9 [00:00<00:00,  9.79it/s]"
     ]
    },
    {
     "name": "stdout",
     "output_type": "stream",
     "text": [
      "Validation Loss: 0.00052\n"
     ]
    },
    {
     "name": "stderr",
     "output_type": "stream",
     "text": [
      "\n"
     ]
    },
    {
     "data": {
      "text/plain": [
       "(Pix2PixRNN(\n",
       "   (encoder): EncoderLayer(\n",
       "     (conv1): Conv2DLayer(\n",
       "       (conv): Conv2d(1, 32, kernel_size=(8, 8), stride=(4, 4), padding=(1, 1))\n",
       "       (bn): BatchNorm2d(32, eps=1e-05, momentum=0.1, affine=True, track_running_stats=True)\n",
       "     )\n",
       "     (conv2): Conv2DLayer(\n",
       "       (conv): Conv2d(32, 16, kernel_size=(2, 2), stride=(4, 4), padding=(1, 1))\n",
       "       (bn): BatchNorm2d(16, eps=1e-05, momentum=0.1, affine=True, track_running_stats=True)\n",
       "     )\n",
       "     (conv3): Conv2DLayer(\n",
       "       (conv): Conv2d(16, 1, kernel_size=(2, 2), stride=(1, 1), padding=(1, 1))\n",
       "       (bn): BatchNorm2d(1, eps=1e-05, momentum=0.1, affine=True, track_running_stats=True)\n",
       "     )\n",
       "     (fc): Linear(in_features=225, out_features=128, bias=True)\n",
       "   )\n",
       "   (lstm): LSTM(128, 512, num_layers=2, batch_first=True)\n",
       "   (decoder): DecoderLayer(\n",
       "     (conv1): Conv2DTransposeLayer(\n",
       "       (conv): ConvTranspose2d(512, 128, kernel_size=(6, 6), stride=(3, 3), padding=(1, 1))\n",
       "       (bn): BatchNorm2d(128, eps=1e-05, momentum=0.1, affine=True, track_running_stats=True)\n",
       "     )\n",
       "     (conv2): Conv2DTransposeLayer(\n",
       "       (conv): ConvTranspose2d(128, 64, kernel_size=(4, 4), stride=(4, 4), padding=(1, 1))\n",
       "       (bn): BatchNorm2d(64, eps=1e-05, momentum=0.1, affine=True, track_running_stats=True)\n",
       "     )\n",
       "     (conv3): Conv2DTransposeLayer(\n",
       "       (conv): ConvTranspose2d(64, 32, kernel_size=(4, 4), stride=(2, 2), padding=(1, 1))\n",
       "       (bn): BatchNorm2d(32, eps=1e-05, momentum=0.1, affine=True, track_running_stats=True)\n",
       "     )\n",
       "     (conv4): Conv2DTransposeLayer(\n",
       "       (conv): ConvTranspose2d(32, 16, kernel_size=(4, 4), stride=(2, 2), padding=(1, 1))\n",
       "       (bn): BatchNorm2d(16, eps=1e-05, momentum=0.1, affine=True, track_running_stats=True)\n",
       "     )\n",
       "     (conv5): Conv2DTransposeLayer(\n",
       "       (conv): ConvTranspose2d(16, 8, kernel_size=(4, 4), stride=(2, 2), padding=(1, 1))\n",
       "       (bn): BatchNorm2d(8, eps=1e-05, momentum=0.1, affine=True, track_running_stats=True)\n",
       "     )\n",
       "     (conv6): Conv2DTransposeLayer(\n",
       "       (conv): ConvTranspose2d(8, 1, kernel_size=(4, 4), stride=(2, 2), padding=(1, 1))\n",
       "       (bn): BatchNorm2d(1, eps=1e-05, momentum=0.1, affine=True, track_running_stats=True)\n",
       "     )\n",
       "   )\n",
       " ),\n",
       " {'lr': [0.0002999999998111414,\n",
       "   0.00029999999924456585,\n",
       "   0.00029999999830027384,\n",
       "   0.0002999999969782647,\n",
       "   0.0002999999952785387,\n",
       "   0.00029999999320109576,\n",
       "   0.00029999999074593593,\n",
       "   0.00029999998791305926,\n",
       "   0.0002999999847024659,\n",
       "   0.00029999998111415586,\n",
       "   0.00029999997714812886,\n",
       "   0.00029999997280438475,\n",
       "   0.0002999999680829241,\n",
       "   0.00029999996298374674,\n",
       "   0.00029999995750685273,\n",
       "   0.0002999999516522406,\n",
       "   0.00029999994541991175,\n",
       "   0.0002999999388098661,\n",
       "   0.0002999999318221042,\n",
       "   0.0002999999244566256,\n",
       "   0.000299999916713431,\n",
       "   0.0002999999085925193,\n",
       "   0.00029999990009389006,\n",
       "   0.00029999989121754455,\n",
       "   0.0002999998819634829,\n",
       "   0.00029999987233170444,\n",
       "   0.00029999986232220877,\n",
       "   0.0002999998519349971,\n",
       "   0.00029999984117006883,\n",
       "   0.00029999983002742387,\n",
       "   0.0002999998185070631,\n",
       "   0.00029999980660898513,\n",
       "   0.0002999997943331914,\n",
       "   0.0002999997816796807,\n",
       "   0.0002999997686484539,\n",
       "   0.0002999997552395104,\n",
       "   0.00029999974145285117,\n",
       "   0.00029999972728847533,\n",
       "   0.0002999997127463834,\n",
       "   0.00029999969782657545,\n",
       "   0.0002999996825290512,\n",
       "   0.0002999996668538109,\n",
       "   0.00029999965080085446,\n",
       "   0.00029999963437018194,\n",
       "   0.00029999961756179344,\n",
       "   0.0002999996003756892,\n",
       "   0.00029999958281186904,\n",
       "   0.00029999956487033314,\n",
       "   0.0002999995465510812,\n",
       "   0.0002999995278541135,\n",
       "   0.00029999950877943006,\n",
       "   0.0002999994893270308,\n",
       "   0.0002999994694969162,\n",
       "   0.00029999944928908604,\n",
       "   0.0002999994287035402,\n",
       "   0.00029999940774027894,\n",
       "   0.0002999993863993023,\n",
       "   0.00029999936468061027,\n",
       "   0.0002999993425842029,\n",
       "   0.00029999932011008044,\n",
       "   0.00029999929725824245,\n",
       "   0.00029999927402868945,\n",
       "   0.0002999992504214216,\n",
       "   0.0002999992264364385,\n",
       "   0.0002999992020737404,\n",
       "   0.00029999917733332745,\n",
       "   0.0002999991522151997,\n",
       "   0.0002999991267193572,\n",
       "   0.0002999991008458002,\n",
       "   0.00029999907459452843,\n",
       "   0.00029999904796554187,\n",
       "   0.00029999902095884096,\n",
       "   0.0002999989935744258,\n",
       "   0.00029999896581229613,\n",
       "   0.0002999989376724522,\n",
       "   0.00029999890915489394,\n",
       "   0.00029999888025962154,\n",
       "   0.0002999988509866352,\n",
       "   0.00029999882133593464,\n",
       "   0.0002999987913075206,\n",
       "   0.0002999987609013923,\n",
       "   0.00029999873011755024,\n",
       "   0.00029999869895599453,\n",
       "   0.0002999986674167252,\n",
       "   0.00029999863549974234,\n",
       "   0.00029999860320504613,\n",
       "   0.0002999985705326364,\n",
       "   0.00029999853748251346,\n",
       "   0.0002999985040546774,\n",
       "   0.00029999847024912805,\n",
       "   0.0002999984360658658,\n",
       "   0.00029999840150489053,\n",
       "   0.00029999836656620236,\n",
       "   0.00029999833124980135,\n",
       "   0.0002999982955556876,\n",
       "   0.00029999825948386137,\n",
       "   0.0002999982230343226,\n",
       "   0.0002999981862070714,\n",
       "   0.00029999814900210796,\n",
       "   0.00029999811141943216],\n",
       "  'train loss': [0.0015172893909038976,\n",
       "   0.0010705784140251733,\n",
       "   0.0009176935054711066,\n",
       "   0.0008384976645174902,\n",
       "   0.000806392357844743,\n",
       "   0.0007904251736666387,\n",
       "   0.0007783774938919427,\n",
       "   0.0007627976483490784,\n",
       "   0.0007550091607602857,\n",
       "   0.0007359892351814779,\n",
       "   0.0007387768643335827,\n",
       "   0.0007055546951354094,\n",
       "   0.0007537166632876809,\n",
       "   0.0006909012997008782,\n",
       "   0.0006757526437771352,\n",
       "   0.0006689504989481065,\n",
       "   0.0006605659242874632,\n",
       "   0.0006576071379337615,\n",
       "   0.0006538108154927613,\n",
       "   0.0006492050930925567,\n",
       "   0.0006407593688588046,\n",
       "   0.0006282391726320687,\n",
       "   0.0006311299530352699,\n",
       "   0.0006003243191419946,\n",
       "   0.0006725869861838873,\n",
       "   0.0006202165999032635,\n",
       "   0.0006641547600641692,\n",
       "   0.000620334852404388,\n",
       "   0.0005974878871105224,\n",
       "   0.000533445465710732,\n",
       "   0.00048328341866484453,\n",
       "   0.00045589042868717417,\n",
       "   0.0005011330213164911,\n",
       "   0.0004659555215766886,\n",
       "   0.0004224288080270829,\n",
       "   0.0004260384148437879,\n",
       "   0.00044592357517103665,\n",
       "   0.00040708561603726895,\n",
       "   0.0004357575835456373,\n",
       "   0.000375932772840315,\n",
       "   0.0003925599715633628,\n",
       "   0.00037446302091363276,\n",
       "   0.0003708470397517279,\n",
       "   0.00037717278610216454,\n",
       "   0.000357352528226329,\n",
       "   0.0003658145545462806,\n",
       "   0.00035099596486058243,\n",
       "   0.00034686650724324863,\n",
       "   0.0003408450535668332,\n",
       "   0.0003345373591704022,\n",
       "   0.00032559789663840394,\n",
       "   0.0003190564666510909,\n",
       "   0.00031235120756415807,\n",
       "   0.000306975595322001,\n",
       "   0.0002987527404911816,\n",
       "   0.0003068092595034007,\n",
       "   0.00030762824523359694,\n",
       "   0.0002988212903195138,\n",
       "   0.00028326890469543287,\n",
       "   0.00030067059227197507,\n",
       "   0.0003008540249235618,\n",
       "   0.0002826418679736283,\n",
       "   0.00027671165814050863,\n",
       "   0.000286865719317575,\n",
       "   0.00027706405777886783,\n",
       "   0.000265672999224383,\n",
       "   0.00025223432248822064,\n",
       "   0.00025828440205562703,\n",
       "   0.0002555955018882135,\n",
       "   0.0002528150151495841,\n",
       "   0.0002578880838276139,\n",
       "   0.000248106961104592,\n",
       "   0.00026312008670477854,\n",
       "   0.0002536861121977078,\n",
       "   0.00024829606324298464,\n",
       "   0.00024023236725649136,\n",
       "   0.00025189071129716467,\n",
       "   0.00025514767457934795,\n",
       "   0.00024247729879789404,\n",
       "   0.0002369793231385605,\n",
       "   0.00024571100857428974,\n",
       "   0.00028919164954762283,\n",
       "   0.0002792998088807508,\n",
       "   0.0002702148478116821,\n",
       "   0.00024125446028241035,\n",
       "   0.0002574343673889719,\n",
       "   0.00023683751275408818,\n",
       "   0.00023142537520470796,\n",
       "   0.00021928377100266516,\n",
       "   0.00021161677917310348,\n",
       "   0.00020837000632430622,\n",
       "   0.0002086259073621477,\n",
       "   0.0002106423277534001,\n",
       "   0.00020306879476568915,\n",
       "   0.0002004665167684531,\n",
       "   0.00019785631980084872,\n",
       "   0.00019560847992276345,\n",
       "   0.00019436535399108834,\n",
       "   0.00019308581484741202,\n",
       "   0.00019129183033328445],\n",
       "  'valid loss': [0.001505067972983751,\n",
       "   0.0010364181426767674,\n",
       "   0.0009623855649907556,\n",
       "   0.0009192944012789263,\n",
       "   0.0009112929821842246,\n",
       "   0.0009066846169945267,\n",
       "   0.0008826996264461842,\n",
       "   0.0008699891299733685,\n",
       "   0.0008549391188555293,\n",
       "   0.0008536171452659699,\n",
       "   0.0008337394295570751,\n",
       "   0.0008498342875908646,\n",
       "   0.0007875013462681738,\n",
       "   0.0007790912899913059,\n",
       "   0.0007669831910688016,\n",
       "   0.0007633786751992173,\n",
       "   0.0007532207463454041,\n",
       "   0.0007515510660596192,\n",
       "   0.0007531499981673227,\n",
       "   0.000746577350784921,\n",
       "   0.0007719468752232691,\n",
       "   0.0007447278670345744,\n",
       "   0.0007477147672842774,\n",
       "   0.0007432255855140587,\n",
       "   0.0008314793295640913,\n",
       "   0.0007341139911053082,\n",
       "   0.0007147891511623231,\n",
       "   0.0012599631316132015,\n",
       "   0.0006926033658803337,\n",
       "   0.0006901109009049833,\n",
       "   0.0006690913966546456,\n",
       "   0.0006667101050778809,\n",
       "   0.0006519972262645347,\n",
       "   0.0006375533832599305,\n",
       "   0.000631761268272789,\n",
       "   0.000677555152732465,\n",
       "   0.0006109517190553662,\n",
       "   0.0006988321482721302,\n",
       "   0.0006330380565486848,\n",
       "   0.0006480615346744242,\n",
       "   0.0006250563148771309,\n",
       "   0.0006117501244362858,\n",
       "   0.0006671680150450104,\n",
       "   0.000654709237601815,\n",
       "   0.0006158060665863255,\n",
       "   0.0006284017096428821,\n",
       "   0.0006117924931459129,\n",
       "   0.0005999163517521487,\n",
       "   0.0005957026248021672,\n",
       "   0.0006015114712580624,\n",
       "   0.0005802597378432336,\n",
       "   0.0005827039066288206,\n",
       "   0.00059644530281528,\n",
       "   0.0005731008875752903,\n",
       "   0.0005789804563391954,\n",
       "   0.0005841659957594755,\n",
       "   0.0005882108461163524,\n",
       "   0.0005706372450933688,\n",
       "   0.0005732400588587754,\n",
       "   0.00056426019485419,\n",
       "   0.0005630843904024611,\n",
       "   0.0005428538715932518,\n",
       "   0.0005438432918809769,\n",
       "   0.0005469630575842328,\n",
       "   0.0005445098084035433,\n",
       "   0.0005388682637001491,\n",
       "   0.0005469693472453704,\n",
       "   0.0005308440918775483,\n",
       "   0.0005247537046670914,\n",
       "   0.0005458854656252596,\n",
       "   0.0005475242441106173,\n",
       "   0.0005448701623309818,\n",
       "   0.0005560258060642001,\n",
       "   0.0005449038872029632,\n",
       "   0.0005404135154094547,\n",
       "   0.0005389194088315384,\n",
       "   0.0005397321397645606,\n",
       "   0.0005094774824101478,\n",
       "   0.0005442225050905512,\n",
       "   0.000538285676157102,\n",
       "   0.0005449979346142047,\n",
       "   0.0005644309179236492,\n",
       "   0.0006136761674295283,\n",
       "   0.0005416827916633338,\n",
       "   0.0006247498612436983,\n",
       "   0.0005175125034939912,\n",
       "   0.00048385820183385577,\n",
       "   0.0005332062622377028,\n",
       "   0.000532835586151729,\n",
       "   0.0005162494101872047,\n",
       "   0.0005389503235670014,\n",
       "   0.0004963443498127162,\n",
       "   0.0005162695435703628,\n",
       "   0.0005337482111321555,\n",
       "   0.0005312807592822032,\n",
       "   0.0005086322521997823,\n",
       "   0.0005041161138150427,\n",
       "   0.0005111591567078398,\n",
       "   0.0005134321205938855,\n",
       "   0.0005205305351410061]})"
      ]
     },
     "execution_count": 51,
     "metadata": {},
     "output_type": "execute_result"
    },
    {
     "name": "stdout",
     "output_type": "stream",
     "text": [
      "time: 9min 10s (started: 2023-03-14 23:48:50 +05:30)\n"
     ]
    }
   ],
   "source": [
    "run_training(trainloader=train_loader, validloader=valid_loader)"
   ]
  },
  {
   "cell_type": "code",
   "execution_count": 52,
   "id": "fd8104a7",
   "metadata": {},
   "outputs": [
    {
     "data": {
      "text/plain": [
       "{'X': torch.Size([4, 1, 3, 224, 224]),\n",
       " 'mask': torch.Size([4, 1, 224, 224]),\n",
       " 'y': torch.Size([4, 1, 224, 224])}"
      ]
     },
     "execution_count": 52,
     "metadata": {},
     "output_type": "execute_result"
    },
    {
     "name": "stdout",
     "output_type": "stream",
     "text": [
      "time: 235 ms (started: 2023-03-14 23:58:01 +05:30)\n"
     ]
    }
   ],
   "source": [
    "batch = next(iter(loader))\n",
    "{k: v.shape for k, v in batch.items()}"
   ]
  },
  {
   "cell_type": "code",
   "execution_count": 53,
   "id": "88da256f",
   "metadata": {},
   "outputs": [
    {
     "data": {
      "text/plain": [
       "<All keys matched successfully>"
      ]
     },
     "execution_count": 53,
     "metadata": {},
     "output_type": "execute_result"
    },
    {
     "name": "stdout",
     "output_type": "stream",
     "text": [
      "time: 15.4 ms (started: 2023-03-14 23:58:01 +05:30)\n"
     ]
    }
   ],
   "source": [
    "model.load_state_dict(torch.load('../../best-models/MODEL-1.bin'))"
   ]
  },
  {
   "cell_type": "code",
   "execution_count": 54,
   "id": "e1b4a9a2",
   "metadata": {},
   "outputs": [
    {
     "data": {
      "text/plain": [
       "torch.Size([4, 1, 224, 224])"
      ]
     },
     "execution_count": 54,
     "metadata": {},
     "output_type": "execute_result"
    },
    {
     "name": "stdout",
     "output_type": "stream",
     "text": [
      "time: 29.5 ms (started: 2023-03-14 23:58:01 +05:30)\n"
     ]
    }
   ],
   "source": [
    "y = model.forward(batch['X'])\n",
    "y.shape"
   ]
  },
  {
   "cell_type": "code",
   "execution_count": 55,
   "id": "4ea8747e",
   "metadata": {},
   "outputs": [
    {
     "name": "stdout",
     "output_type": "stream",
     "text": [
      "Predicted:-\n"
     ]
    },
    {
     "data": {
      "image/png": "[encoded data removed]",
      "text/plain": [
       "<Figure size 1200x800 with 4 Axes>"
      ]
     },
     "metadata": {},
     "output_type": "display_data"
    },
    {
     "name": "stdout",
     "output_type": "stream",
     "text": [
      "Masks:-\n"
     ]
    },
    {
     "data": {
      "image/png": "[encoded data removed]",
      "text/plain": [
       "<Figure size 1200x800 with 4 Axes>"
      ]
     },
     "metadata": {},
     "output_type": "display_data"
    },
    {
     "name": "stdout",
     "output_type": "stream",
     "text": [
      "Actual:-\n"
     ]
    },
    {
     "data": {
      "image/png": "[encoded data removed]",
      "text/plain": [
       "<Figure size 1200x800 with 4 Axes>"
      ]
     },
     "metadata": {},
     "output_type": "display_data"
    },
    {
     "name": "stdout",
     "output_type": "stream",
     "text": [
      "time: 960 ms (started: 2023-03-14 23:58:01 +05:30)\n"
     ]
    }
   ],
   "source": [
    "print('Predicted:-')\n",
    "fig, axs = plt.subplots(1, 4, figsize=(12, 8))\n",
    "for ix, ax in enumerate(axs.flatten()):\n",
    "    ax.imshow((y[ix, ...] * 255 * batch['mask'][ix]).detach().permute(1, 2, 0).numpy().astype(np.uint8), cmap='gray')\n",
    "plt.tight_layout()\n",
    "plt.show()\n",
    "\n",
    "print('Masks:-')\n",
    "fig, axs = plt.subplots(1, 4, figsize=(12, 8))\n",
    "for ix, ax in enumerate(axs.flatten()):\n",
    "    ax.imshow(batch['mask'][ix].permute(1, 2, 0).numpy().astype(np.uint8), cmap='gray')\n",
    "plt.tight_layout()\n",
    "plt.show()\n",
    "\n",
    "print('Actual:-')\n",
    "fig, axs = plt.subplots(1, 4, figsize=(12, 8))\n",
    "for ix, ax in enumerate(axs.flatten()):\n",
    "    ax.imshow((batch['y'][ix] * 255).permute(1, 2, 0).numpy().astype(np.uint8), cmap='gray')\n",
    "plt.tight_layout()\n",
    "plt.show()"
   ]
  }
 ],
 "metadata": {
  "kernelspec": {
   "display_name": "Python 3.9 (torch)",
   "language": "python",
   "name": "torch-env"
  },
  "language_info": {
   "codemirror_mode": {
    "name": "ipython",
    "version": 3
   },
   "file_extension": ".py",
   "mimetype": "text/x-python",
   "name": "python",
   "nbconvert_exporter": "python",
   "pygments_lexer": "ipython3",
   "version": "3.10.8"
  }
 },
 "nbformat": 4,
 "nbformat_minor": 5
}
