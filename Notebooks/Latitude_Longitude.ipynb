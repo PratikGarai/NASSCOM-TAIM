{
 "cells": [
  {
   "cell_type": "code",
   "execution_count": 1,
   "metadata": {},
   "outputs": [],
   "source": [
    "import pandas as pd\n",
    "from geopy.geocoders import Nominatim\n",
    "from time import sleep\n",
    "import glob"
   ]
  },
  {
   "cell_type": "code",
   "execution_count": 6,
   "metadata": {},
   "outputs": [],
   "source": [
    "def geocode_df(df, geolocator):\n",
    "    # Get unique place names\n",
    "    df['Mandal'] = df['Mandal'].astype(str)\n",
    "    places = df['Mandal'].unique()\n",
    "    \n",
    "    # Define dictionary to store latitudes and longitudes\n",
    "    lat_longs = {}\n",
    "    \n",
    "    # Loop over unique places and geocode\n",
    "    for place in places:\n",
    "        # Check if already geocoded\n",
    "        if place in lat_longs:\n",
    "            continue\n",
    "        # Geocode and wait between requests\n",
    "        location = geolocator.geocode(place + ', Telangana, India')\n",
    "        if location and location.latitude and location.longitude:\n",
    "            lat_longs[place] = (location.latitude, location.longitude)\n",
    "        else:\n",
    "            lat_longs[place] = (None, None)\n",
    "        sleep(1)\n",
    "    \n",
    "    # Add latitude and longitude columns to DataFrame\n",
    "    df['latitude'] = df['Mandal'].apply(lambda x: lat_longs[x][0])\n",
    "    df['longitude'] = df['Mandal'].apply(lambda x: lat_longs[x][1])\n",
    "    \n",
    "    # Drop the original \"place\" column\n",
    "    # df = df.drop(columns=['place'])\n",
    "    \n",
    "    return df"
   ]
  },
  {
   "cell_type": "code",
   "execution_count": 7,
   "metadata": {},
   "outputs": [],
   "source": [
    "csv_files = glob.glob('*.csv')\n",
    "dfs = [pd.read_csv(csv_file) for csv_file in csv_files]\n"
   ]
  },
  {
   "cell_type": "code",
   "execution_count": 10,
   "metadata": {},
   "outputs": [],
   "source": [
    "geolocator = Nominatim(user_agent='')"
   ]
  },
  {
   "cell_type": "code",
   "execution_count": 11,
   "metadata": {},
   "outputs": [],
   "source": [
    "for i, df in enumerate(dfs):\n",
    "    dfs[i] = geocode_df(df, geolocator)"
   ]
  },
  {
   "cell_type": "code",
   "execution_count": null,
   "metadata": {},
   "outputs": [],
   "source": [
    "for i, csv_file in enumerate(csv_files):\n",
    "    dfs[i].to_csv(csv_file, index=False)"
   ]
  }
 ],
 "metadata": {
  "kernelspec": {
   "display_name": "base",
   "language": "python",
   "name": "python3"
  },
  "language_info": {
   "codemirror_mode": {
    "name": "ipython",
    "version": 3
   },
   "file_extension": ".py",
   "mimetype": "text/x-python",
   "name": "python",
   "nbconvert_exporter": "python",
   "pygments_lexer": "ipython3",
   "version": "3.9.7"
  },
  "orig_nbformat": 4,
  "vscode": {
   "interpreter": {
    "hash": "6d6de8092bf835f4fa17a083da1e7aa34f82a0a2705c797398e8ec9db477da00"
   }
  }
 },
 "nbformat": 4,
 "nbformat_minor": 2
}
